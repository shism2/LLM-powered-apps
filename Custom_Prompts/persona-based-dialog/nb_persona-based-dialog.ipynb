{
 "cells": [
  {
   "cell_type": "markdown",
   "metadata": {},
   "source": [
    "### Load environment variables"
   ]
  },
  {
   "cell_type": "code",
   "execution_count": 1,
   "metadata": {},
   "outputs": [],
   "source": [
    "import os\n",
    "import sys  \n",
    "sys.path.append(\"..\")  \n",
    "\n",
    "from dotenv import load_dotenv\n",
    "_ = load_dotenv('.env')\n",
    "\n",
    "# This lines should be modified according to your environment variables\n",
    "os.environ['OPENAI_API_TYPE'] =  os.getenv('OPENAI_API_TYPE')\n",
    "os.environ['OPENAI_API_VERSION'] = os.getenv(\"AZURE_OPENAI_API_VERSION\")\n",
    "os.environ['OPENAI_API_BASE'] = os.getenv(\"AZURE_OPENAI_API_ENDPOINT\")\n",
    "os.environ['OPENAI_API_KEY'] = os.getenv(\"AZURE_OPENAI_API_KEY\")\n",
    "os.environ['LANGCHAIN_HUB_API_KEY'] = os.getenv(\"LANG_SMITH_API_KEY\")  ## This is not necessary. You can pull without this.\n",
    "LLM_DEPLOYMENT_NAME = os.getenv(\"AZURE_OPENAI_LLM_DEPLOYMENT_NAME\")"
   ]
  },
  {
   "cell_type": "markdown",
   "metadata": {},
   "source": [
    "### Get a random persona"
   ]
  },
  {
   "cell_type": "code",
   "execution_count": 2,
   "metadata": {},
   "outputs": [
    {
     "data": {
      "text/plain": [
       "'{\"gender\": \"Non_binary\", \"name\": \"Lauren Espinoza\", \"language\": \"English\", \"location\": \"Argentina\", \"age\": 81, \"hobbies\": [\"playing_with_electronic_devices\", \"yoga\", \"running\", \"pottery\", \"birdwatching\"], \"talkative\": true, \"characteristics\": [\"Boisterous\", \"NotWitty\"], \"education_level\": \"unknown\"}'"
      ]
     },
     "execution_count": 2,
     "metadata": {},
     "output_type": "execute_result"
    }
   ],
   "source": [
    "from user_persona import UserPersona, get_random_user_persona\n",
    "persona = get_random_user_persona().json()\n",
    "persona"
   ]
  },
  {
   "cell_type": "markdown",
   "metadata": {},
   "source": [
    "### Fetch the prompt and create a chain (using LCEL)"
   ]
  },
  {
   "cell_type": "code",
   "execution_count": 3,
   "metadata": {},
   "outputs": [],
   "source": [
    "from langchain import hub\n",
    "from langchain.chat_models import AzureChatOpenAI\n",
    "\n",
    "prompt = hub.pull(\"jet-taekyo-lee/persona-based-dialog\")\n",
    "chat_model = AzureChatOpenAI(deployment_name=LLM_DEPLOYMENT_NAME, temperature=0)\n",
    "\n",
    "def streaming_output(response_generator):\n",
    "    for chunk in response_generator:\n",
    "        print(chunk.content, end='')    \n",
    "\n",
    "chain = prompt | chat_model"
   ]
  },
  {
   "cell_type": "markdown",
   "metadata": {},
   "source": [
    "### Get a response with an empty input (Initiating a conversation)"
   ]
  },
  {
   "cell_type": "code",
   "execution_count": 4,
   "metadata": {},
   "outputs": [
    {
     "name": "stdout",
     "output_type": "stream",
     "text": [
      "## Persona Analysis\n",
      "- **Characteristics**: Boisterous, NotWitty\n",
      "- **Other Attributes**: Non-binary, named Lauren Espinoza, speaks English, lives in Argentina, 81 years old, hobbies include playing with electronic devices, yoga, running, pottery, birdwatching, talkative, education level unknown.\n",
      "\n",
      "## Conflict Detection in persona\n",
      "- **Conflict 1**: The persona is 81 years old and enjoys running. This could be seen as a conflict as running is a physically demanding activity that may not be typical for someone of this age.\n",
      "- **Conflict 2**: The persona is boisterous but not witty. These characteristics can sometimes conflict as boisterous individuals are often perceived as being witty.\n",
      "\n",
      "## Conflict Resolution in persona\n",
      "- **Adjusted Characteristics**: The persona is 81 years old but is in excellent physical condition, allowing them to enjoy running. The persona is boisterous, meaning they are loud and full of energy, but they are not particularly witty, meaning they may not always say the cleverest or funniest things.\n",
      "\n",
      "## Detailed Persona Description\n",
      "Lauren Espinoza is a non-binary individual who lives in Argentina. They are 81 years old but are in excellent physical condition, allowing them to enjoy a range of hobbies including playing with electronic devices, yoga, running, pottery, and birdwatching. Lauren is a talkative and boisterous individual, often being the loudest in the room and full of energy. However, they are not particularly witty and their comments may not always be the cleverest or funniest. Lauren's education level is unknown.\n",
      "\n",
      "## Initial Dialogue Line for your conversation partner\n",
      "\"Hey there! Just got back from a run, can you believe it? At my age! Now, where did I put that pottery wheel...\"\n",
      "\n",
      "---\n",
      "### Iteration 1\n",
      "#### Changes for Better Alignment with Persona Description\n",
      "- Emphasize Lauren's boisterous nature by making their dialogue more energetic and loud.\n",
      "- Show Lauren's lack of wit by having them say something that isn't particularly clever or funny.\n",
      "\n",
      "#### Revised Dialogue Line\n",
      "\"Hey there! Just got back from a run, can you believe it? At my age! Now, where did I put that pottery wheel... Oh, right! It's not like it can just get up and walk away, huh?\"\n",
      "\n",
      "#### Evaluation\n",
      "This revised dialogue line better reflects Lauren's boisterous nature by being more energetic and loud. It also shows Lauren's lack of wit by having them say something that isn't particularly clever or funny.\n",
      "\n",
      "---\n",
      "### Iteration 2\n",
      "#### Changes for Better Alignment with Persona Description\n",
      "- Show Lauren's talkative nature by having them continue to talk even after their initial greeting.\n",
      "- Emphasize Lauren's age and physical fitness by having them mention their run again.\n",
      "\n",
      "#### Revised Dialogue Line\n",
      "\"Hey there! Just got back from a run, can you believe it? At my age! Now, where did I put that pottery wheel... Oh, right! It's not like it can just get up and walk away, huh? But seriously, that run was something else. I feel like I could run a marathon!\"\n",
      "\n",
      "#### Evaluation\n",
      "This revised dialogue line better reflects Lauren's talkative nature by having them continue to talk even after their initial greeting. It also emphasizes Lauren's age and physical fitness by having them mention their run again.\n",
      "\n",
      "## Final Dialogue Line for your conversation partner\n",
      "\"Hey there! Just got back from a run, can you believe it? At my age! Now, where did I put that pottery wheel... Oh, right! It's not like it can just get up and walk away, huh? But seriously, that run was something else. I feel like I could run a marathon!\""
     ]
    }
   ],
   "source": [
    "response = chain.stream({'persona':persona, 'input': ''})\n",
    "streaming_output(response)"
   ]
  },
  {
   "cell_type": "code",
   "execution_count": 5,
   "metadata": {},
   "outputs": [
    {
     "name": "stdout",
     "output_type": "stream",
     "text": [
      "## Persona Analysis\n",
      "- **Characteristics**: Boisterous, NotWitty\n",
      "- **Other Attributes**: Non-binary, named Lauren Espinoza, speaks English, lives in Argentina, 81 years old, enjoys playing with electronic devices, yoga, running, pottery, birdwatching, talkative, education level unknown.\n",
      "\n",
      "## Conflict Detection in persona\n",
      "- **Conflict 1**: The persona is 81 years old and enjoys running. This might be a bit conflicting as not all 81-year-olds are physically capable of running.\n",
      "- **Conflict 2**: The persona is boisterous but not witty. These characteristics can sometimes conflict as boisterous individuals are often perceived as witty due to their outgoing nature.\n",
      "\n",
      "## Conflict Resolution in persona\n",
      "- **Adjusted Characteristics**: The persona is 81 years old and enjoys brisk walking instead of running. The persona is boisterous but not necessarily witty in a traditional sense, they might be more straightforward and less inclined to use humor.\n",
      "\n",
      "## Detailed Persona Description\n",
      "Lauren Espinoza is a non-binary individual who lives in Argentina. They are 81 years old and are quite talkative and boisterous. They enjoy playing with electronic devices, doing yoga, brisk walking, pottery, and birdwatching. Despite their outgoing nature, they are not particularly witty, preferring straightforward conversation over humor. Their education level is unknown.\n",
      "\n",
      "## Initial Dialogue Line for your conversation partner\n",
      "\"Boring? Oh, darling, life is anything but! Have you tried birdwatching? Or maybe pottery? There's so much to do and see!\"\n",
      "\n",
      "---\n",
      "### Iteration 1\n",
      "#### Changes for Better Alignment with Persona Description\n",
      "- Emphasize Lauren's boisterous nature.\n",
      "- Highlight Lauren's straightforwardness and lack of wit.\n",
      "\n",
      "#### Revised Dialogue Line\n",
      "\"Boring, you say? Oh, heavens no! Life's a grand adventure! Ever tried birdwatching? Or pottery? There's a whole world out there, just waiting to be explored!\"\n",
      "\n",
      "#### Evaluation\n",
      "This revised dialogue line better captures Lauren's boisterous and straightforward nature. It also reflects their enthusiasm for their hobbies.\n",
      "\n",
      "---\n",
      "### Iteration 2\n",
      "#### Changes for Better Alignment with Persona Description\n",
      "- Add a reference to Lauren's age to reflect their wisdom and experience.\n",
      "- Include a mention of one of Lauren's other hobbies.\n",
      "\n",
      "#### Revised Dialogue Line\n",
      "\"Boring? At my age, I've learned that life is anything but! Have you ever tried yoga? Or playing with electronic devices? There's so much to explore, my dear!\"\n",
      "\n",
      "#### Evaluation\n",
      "This final dialogue line effectively captures Lauren's boisterous and straightforward nature, their age and wisdom, and their diverse range of hobbies.\n",
      "\n",
      "## Final Dialogue Line for your conversation partner\n",
      "\"Boring? At my age, I've learned that life is anything but! Have you ever tried yoga? Or playing with electronic devices? There's so much to explore, my dear!\""
     ]
    }
   ],
   "source": [
    "response = chain.stream({'persona':persona, 'input': 'Life is so boring. Why is that?'})\n",
    "streaming_output(response)"
   ]
  },
  {
   "cell_type": "code",
   "execution_count": null,
   "metadata": {},
   "outputs": [],
   "source": []
  }
 ],
 "metadata": {
  "kernelspec": {
   "display_name": "Python 3.11.5 ('llm_agents')",
   "language": "python",
   "name": "python3"
  },
  "language_info": {
   "codemirror_mode": {
    "name": "ipython",
    "version": 3
   },
   "file_extension": ".py",
   "mimetype": "text/x-python",
   "name": "python",
   "nbconvert_exporter": "python",
   "pygments_lexer": "ipython3",
   "version": "3.11.5"
  },
  "orig_nbformat": 4,
  "vscode": {
   "interpreter": {
    "hash": "d3fb45ff54312d810d3b33eec9af47862c42661f076ce6b0d7045a13e18ceae3"
   }
  }
 },
 "nbformat": 4,
 "nbformat_minor": 2
}
