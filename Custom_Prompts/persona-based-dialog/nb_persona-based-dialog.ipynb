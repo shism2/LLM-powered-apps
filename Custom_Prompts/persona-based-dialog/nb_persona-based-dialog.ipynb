{
 "cells": [
  {
   "cell_type": "markdown",
   "metadata": {},
   "source": [
    "### 0. Load environment variables\n",
    "#### Case 1) If you use OpenAI's ChatGPT, then you need store the following variables in '.env' file:\n",
    "\n",
    "- 'OPENAI_API_KEY' = XXXXXXXXXXXXXXX\n",
    "- 'model_name' = XXXXXXXXXXXXXXX\n",
    "\n",
    "##### Case 2) If you use AzureOpenAI's ChatGPT, then you need store the following variables in '.env' file:\n",
    "\n",
    "- 'OPENAI_API_TYPE' = XXXXXXXXXXXXXXX\n",
    "- 'OPENAI_API_VERSION' = XXXXXXXXXXXXXXX\n",
    "- 'OPENAI_API_BASE' = XXXXXXXXXXXXXXX\n",
    "- 'OPENAI_API_KEY' = XXXXXXXXXXXXXXX\n",
    "- 'deployment_name' = XXXXXXXXXXXXXXX"
   ]
  },
  {
   "cell_type": "code",
   "execution_count": 1,
   "metadata": {},
   "outputs": [],
   "source": [
    "import os\n",
    "import sys  \n",
    "from dotenv import load_dotenv\n",
    "sys.path.extend([\"..\", '../..'])  \n",
    "_ = load_dotenv('.env')\n",
    "\n",
    "\n",
    "model_name = os.getenv('deployment_name') if os.getenv('OPENAI_API_TYPE') == 'azure' else os.getenv('model_name')\n",
    "if os.getenv('OPENAI_API_TYPE') == 'azure':\n",
    "    deployment_name = model_name"
   ]
  },
  {
   "cell_type": "markdown",
   "metadata": {},
   "source": [
    "### 1. Get a random persona"
   ]
  },
  {
   "cell_type": "code",
   "execution_count": 2,
   "metadata": {},
   "outputs": [
    {
     "data": {
      "text/plain": [
       "'{\"gender\": \"Non_binary\", \"name\": \"Benjamin Barker\", \"language\": \"English\", \"nationality\": \"Thailand\", \"age\": 88, \"hobbies\": [\"DIY_projects\", \"sports\", \"hiking\", \"cooking\"], \"talkative\": true, \"characteristics\": [\"NotImpulsive\", \"NotArrogant\"], \"education_level\": \"unknown\"}'"
      ]
     },
     "execution_count": 2,
     "metadata": {},
     "output_type": "execute_result"
    }
   ],
   "source": [
    "from utils.pydantic_models.user_persona import UserPersona, get_random_user_persona\n",
    "persona = get_random_user_persona().json()\n",
    "persona"
   ]
  },
  {
   "cell_type": "markdown",
   "metadata": {},
   "source": [
    "### 2. Fetch the prompt and create a chain (using LCEL)"
   ]
  },
  {
   "cell_type": "code",
   "execution_count": 3,
   "metadata": {},
   "outputs": [],
   "source": [
    "from langchain import hub\n",
    "from langchain.chat_models import AzureChatOpenAI, ChatOpenAI\n",
    "\n",
    "prompt = hub.pull(\"jet-taekyo-lee/persona-based-dialog\")\n",
    "deployment_name = os.getenv('deployment_name')\n",
    "\n",
    "chat_model = AzureChatOpenAI(deployment_name=deployment_name, temperature=0) if os.getenv('OPENAI_API_TYPE') == 'azure' else ChatOpenAI(model_name=model_name, temperature=0)\n",
    "\n",
    "def streaming_output(response_generator):\n",
    "    for chunk in response_generator:\n",
    "        print(chunk.content, end='')    \n",
    "\n",
    "chain = prompt | chat_model"
   ]
  },
  {
   "cell_type": "markdown",
   "metadata": {},
   "source": [
    "### 3. Get a response with an empty input (Initiating a conversation)"
   ]
  },
  {
   "cell_type": "code",
   "execution_count": 4,
   "metadata": {},
   "outputs": [
    {
     "name": "stdout",
     "output_type": "stream",
     "text": [
      "## Persona Analysis\n",
      "- **Characteristics**: NotImpulsive, NotArrogant\n",
      "- **Other Attributes**: Non-binary, named Benjamin Barker, speaks English, from Thailand, 88 years old, enjoys DIY projects, sports, hiking, and cooking, talkative, education level unknown.\n",
      "\n",
      "## Conflict Detection in persona\n",
      "- **Conflict 1**: The name 'Benjamin Barker' is not typically Thai, which conflicts with the nationality of 'Thailand'.\n",
      "- **Conflict 2**: The age of 88 and the hobbies of sports and hiking might conflict as these activities are typically associated with younger, more physically able individuals.\n",
      "\n",
      "## Conflict Resolution in persona\n",
      "- **Adjusted Characteristics**: The name can be adjusted to 'Benjawan Barker', a more Thai-sounding first name while keeping the last name. The age and hobbies conflict can be resolved by assuming that Benjamin is in excellent health for their age and enjoys less strenuous sports and hiking activities.\n",
      "\n",
      "## Detailed Persona Description\n",
      "Benjawan Barker is a non-binary individual from Thailand who is 88 years old. Despite their age, they are in excellent health and enjoy a variety of hobbies including DIY projects, sports, hiking, and cooking. They are talkative and enjoy engaging in conversations with others. They are not impulsive or arrogant, preferring to think things through before making decisions and treating others with respect. Their education level is unknown, adding a bit of mystery to their persona.\n",
      "\n",
      "## Initial Dialogue Line for your conversation partner\n",
      "\"Hello there! Just finished a little DIY project. How about you? What's been keeping you busy?\"\n",
      "\n",
      "---\n",
      "### Iteration 1\n",
      "#### Changes for Better Alignment with Persona Description\n",
      "- Incorporate the non-binary gender identity into the dialogue.\n",
      "- Include a reference to their age to highlight their active lifestyle.\n",
      "\n",
      "#### Revised Dialogue Line\n",
      "\"Hello there, friend! Just finished a little DIY project. You know, even at 88, there's always something new to learn and create. What's been keeping you busy?\"\n",
      "\n",
      "#### Evaluation\n",
      "This revised dialogue line better reflects Benjawan's active lifestyle despite their age and their talkative nature. It also subtly hints at their non-binary identity by using the gender-neutral term 'friend'.\n",
      "\n",
      "---\n",
      "### Iteration 2\n",
      "#### Changes for Better Alignment with Persona Description\n",
      "- Include a reference to their Thai nationality.\n",
      "- Highlight their thoughtful, non-impulsive nature.\n",
      "\n",
      "#### Revised Dialogue Line\n",
      "\"Sawasdee, friend! Just finished a little DIY project. You know, even at 88, there's always something new to learn and create. I took my time with it, of course. What's been keeping you busy?\"\n",
      "\n",
      "#### Evaluation\n",
      "This revised dialogue line now includes a reference to Benjawan's Thai nationality through the greeting 'Sawasdee'. It also highlights their thoughtful, non-impulsive nature by mentioning that they took their time with their project.\n",
      "\n",
      "## Final Dialogue Line for your conversation partner\n",
      "\"Sawasdee, friend! Just finished a little DIY project. You know, even at 88, there's always something new to learn and create. I took my time with it, of course. What's been keeping you busy?\""
     ]
    }
   ],
   "source": [
    "response = chain.stream({'persona':persona, 'input': ''})\n",
    "streaming_output(response)"
   ]
  },
  {
   "cell_type": "code",
   "execution_count": 5,
   "metadata": {},
   "outputs": [
    {
     "name": "stdout",
     "output_type": "stream",
     "text": [
      "## Persona Analysis\n",
      "- **Characteristics**: NotImpulsive, NotArrogant\n",
      "- **Other Attributes**: Non-binary, named Benjamin Barker, speaks English, Thai nationality, 88 years old, enjoys DIY projects, sports, hiking, and cooking, talkative, education level unknown.\n",
      "\n",
      "## Conflict Detection in persona\n",
      "- **Conflict 1**: The name 'Benjamin Barker' is not typically Thai. This could be a potential conflict with the nationality stated as 'Thailand'.\n",
      "- **Conflict 2**: The age of 88 might conflict with the hobbies listed, such as sports and hiking, which are typically more physically demanding activities.\n",
      "\n",
      "## Conflict Resolution in persona\n",
      "- **Adjusted Characteristics**: The name can be interpreted as Benjamin Barker being of mixed heritage or having lived in an English-speaking country for a significant part of their life. As for the age and hobbies, Benjamin Barker could be a very fit and active 88-year-old, or they could enjoy less strenuous sports and hiking trails.\n",
      "\n",
      "## Detailed Persona Description\n",
      "Benjamin Barker is a non-binary individual who, despite being 88 years old, is full of life and energy. They are of Thai nationality but have a name that suggests a connection to an English-speaking country. Benjamin is a talkative person who enjoys a variety of hobbies, including DIY projects, sports, hiking, and cooking. They are not impulsive or arrogant, which makes them a pleasant and thoughtful conversation partner. Their education level is unknown, adding a touch of mystery to their persona.\n",
      "\n",
      "## Initial Dialogue Line for your conversation partner\n",
      "\"Life is boring, you say? Well, have you tried picking up a new hobby? There's always something new to learn and experience!\"\n",
      "\n",
      "---\n",
      "### Iteration 1\n",
      "#### Changes for Better Alignment with Persona Description\n",
      "- Incorporate Benjamin's hobbies into the dialogue.\n",
      "- Show Benjamin's talkative nature by making the dialogue a bit longer.\n",
      "\n",
      "#### Revised Dialogue Line\n",
      "\"Life is boring, you say? Well, have you ever tried picking up a new hobby? I've found that DIY projects can be quite exciting, and sports or hiking can be exhilarating. And if you're into something more relaxing, cooking can be a great way to pass the time. There's always something new to learn and experience!\"\n",
      "\n",
      "#### Evaluation\n",
      "This revised dialogue line better reflects Benjamin's hobbies and talkative nature. It also shows their non-impulsive characteristic by suggesting thoughtful ways to make life less boring.\n",
      "\n",
      "---\n",
      "### Iteration 2\n",
      "#### Changes for Better Alignment with Persona Description\n",
      "- Show Benjamin's non-arrogant nature by making the dialogue more empathetic.\n",
      "- Incorporate Benjamin's age into the dialogue to show their wisdom and experience.\n",
      "\n",
      "#### Revised Dialogue Line\n",
      "\"Life can sometimes feel a bit dull, can't it? But in my 88 years, I've found that picking up a new hobby can really add some spice. Whether it's a hands-on DIY project, a bit of light sports or hiking, or even cooking a new recipe, there's always something new to learn and experience. Why not give it a try?\"\n",
      "\n",
      "#### Evaluation\n",
      "This revised dialogue line better reflects Benjamin's non-arrogant nature by showing empathy towards the conversation partner's feelings. It also incorporates Benjamin's age, showing their wisdom and experience.\n",
      "\n",
      "## Final Dialogue Line for your conversation partner\n",
      "\"Life can sometimes feel a bit dull, can't it? But in my 88 years, I've found that picking up a new hobby can really add some spice. Whether it's a hands-on DIY project, a bit of light sports or hiking, or even cooking a new recipe, there's always something new to learn and experience. Why not give it a try?\""
     ]
    }
   ],
   "source": [
    "response = chain.stream({'persona':persona, 'input': 'Life is so boring. Why is that?'})\n",
    "streaming_output(response)"
   ]
  }
 ],
 "metadata": {
  "kernelspec": {
   "display_name": "Python 3.11.5 ('llm_agents')",
   "language": "python",
   "name": "python3"
  },
  "language_info": {
   "codemirror_mode": {
    "name": "ipython",
    "version": 3
   },
   "file_extension": ".py",
   "mimetype": "text/x-python",
   "name": "python",
   "nbconvert_exporter": "python",
   "pygments_lexer": "ipython3",
   "version": "3.11.5"
  },
  "orig_nbformat": 4,
  "vscode": {
   "interpreter": {
    "hash": "d3fb45ff54312d810d3b33eec9af47862c42661f076ce6b0d7045a13e18ceae3"
   }
  }
 },
 "nbformat": 4,
 "nbformat_minor": 2
}
