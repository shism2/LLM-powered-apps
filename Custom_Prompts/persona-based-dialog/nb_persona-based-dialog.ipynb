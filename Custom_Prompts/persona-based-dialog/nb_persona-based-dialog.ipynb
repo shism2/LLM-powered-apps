{
 "cells": [
  {
   "cell_type": "markdown",
   "metadata": {},
   "source": [
    "### Load environment variables"
   ]
  },
  {
   "cell_type": "code",
   "execution_count": 1,
   "metadata": {},
   "outputs": [],
   "source": [
    "import os\n",
    "import sys  \n",
    "sys.path.append(\"..\")  \n",
    "\n",
    "from dotenv import load_dotenv\n",
    "_ = load_dotenv('.env')\n",
    "\n",
    "# This lines should be modified according to your environment variables\n",
    "os.environ['OPENAI_API_TYPE'] =  os.getenv('OPENAI_API_TYPE')\n",
    "os.environ['OPENAI_API_VERSION'] = os.getenv(\"AZURE_OPENAI_API_VERSION\")\n",
    "os.environ['OPENAI_API_BASE'] = os.getenv(\"AZURE_OPENAI_API_ENDPOINT\")\n",
    "os.environ['OPENAI_API_KEY'] = os.getenv(\"AZURE_OPENAI_API_KEY\")\n",
    "os.environ['LANGCHAIN_HUB_API_KEY'] = os.getenv(\"LANG_SMITH_API_KEY\")  ## This is not necessary. You can pull without this.\n",
    "LLM_DEPLOYMENT_NAME = os.getenv(\"AZURE_OPENAI_LLM_DEPLOYMENT_NAME\")"
   ]
  },
  {
   "cell_type": "markdown",
   "metadata": {},
   "source": [
    "### Get a random persona"
   ]
  },
  {
   "cell_type": "code",
   "execution_count": 2,
   "metadata": {},
   "outputs": [
    {
     "data": {
      "text/plain": [
       "'{\"gender\": \"male\", \"name\": \"Anthony Walsh\", \"language\": \"English\", \"location\": \"France\", \"age\": 17, \"hobbies\": [\"reading\", \"yoga\", \"painting\"], \"talkative\": false, \"characteristics\": [\"Enthusiastic\", \"NotZealous\"], \"education_level\": \"undergraduate_college_level\"}'"
      ]
     },
     "execution_count": 2,
     "metadata": {},
     "output_type": "execute_result"
    }
   ],
   "source": [
    "from user_persona import UserPersona, get_random_user_persona\n",
    "persona = get_random_user_persona().json()\n",
    "persona"
   ]
  },
  {
   "cell_type": "markdown",
   "metadata": {},
   "source": [
    "### Fetch the prompt and create a chain (using LCEL)"
   ]
  },
  {
   "cell_type": "code",
   "execution_count": 4,
   "metadata": {},
   "outputs": [],
   "source": [
    "from langchain import hub\n",
    "from langchain.chat_models import AzureChatOpenAI\n",
    "\n",
    "prompt = hub.pull(\"jet-taekyo-lee/persona-based-dialog\")\n",
    "chat_model = AzureChatOpenAI(deployment_name=LLM_DEPLOYMENT_NAME, temperature=0)\n",
    "\n",
    "def streaming_output(response_generator):\n",
    "    for chunk in response_generator:\n",
    "        print(chunk.content, end='')    \n",
    "\n",
    "chain = prompt | chat_model"
   ]
  },
  {
   "cell_type": "markdown",
   "metadata": {},
   "source": [
    "### Get a response with an empty input (Initiating a conversation)"
   ]
  },
  {
   "cell_type": "code",
   "execution_count": 5,
   "metadata": {},
   "outputs": [
    {
     "name": "stdout",
     "output_type": "stream",
     "text": [
      "## Persona Analysis\n",
      "- **Characteristics**: Enthusiastic, Not Zealous\n",
      "- **Other Attributes**: Male, named Anthony Walsh, speaks English, lives in France, 17 years old, enjoys reading, yoga, and painting, not talkative, undergraduate college level education.\n",
      "\n",
      "## Conflict Detection in persona\n",
      "- **Conflict 1**: The characteristics 'Enthusiastic' and 'NotZealous' conflict. Enthusiasm often implies a certain level of zeal or passion, so these two traits are contradictory.\n",
      "\n",
      "## Conflict Resolution in persona\n",
      "- **Adjusted Characteristics**: Enthusiastic, Moderately Zealous\n",
      "\n",
      "## Detailed Persona Description\n",
      "Anthony Walsh is a 17-year-old male who lives in France. Despite being an English speaker, he has managed to adapt to his surroundings. He is an undergraduate college student, which is quite impressive for his age. Anthony is not very talkative, but he is enthusiastic and moderately zealous about his interests, which include reading, yoga, and painting. His enthusiasm is tempered, however, and he knows how to balance his passions without going overboard.\n",
      "\n",
      "## Initial Dialogue Line for your conversation partner\n",
      "\"Hello, I've just finished a fascinating book on impressionist painting. Do you have any interest in art?\"\n",
      "\n",
      "---\n",
      "### Iteration 1\n",
      "#### Changes for Better Alignment with Persona Description\n",
      "- Anthony is not very talkative, so his dialogue should be more concise.\n",
      "- His enthusiasm for his hobbies should be subtly conveyed.\n",
      "\n",
      "#### Revised Dialogue Line\n",
      "\"Ever explored impressionist art? Just finished a captivating book on it.\"\n",
      "\n",
      "#### Evaluation\n",
      "This revised dialogue line is more concise, fitting Anthony's less talkative nature. It also subtly conveys his enthusiasm for his hobby of painting and reading.\n",
      "\n",
      "---\n",
      "### Iteration 2\n",
      "#### Changes for Better Alignment with Persona Description\n",
      "- The dialogue can be made even more concise.\n",
      "- Anthony's moderate zeal can be shown by toning down the enthusiasm slightly.\n",
      "\n",
      "#### Revised Dialogue Line\n",
      "\"Know much about impressionist art? I've been reading up on it.\"\n",
      "\n",
      "#### Evaluation\n",
      "This final dialogue line is even more concise, fitting Anthony's quiet nature. It also shows his moderate zeal and enthusiasm for his hobbies without coming off as too passionate or overbearing.\n",
      "\n",
      "## Final Dialogue Line for your conversation partner\n",
      "\"Know much about impressionist art? I've been reading up on it.\""
     ]
    }
   ],
   "source": [
    "response = chain.stream({'persona':persona, 'input': ''})\n",
    "streaming_output(response)"
   ]
  },
  {
   "cell_type": "code",
   "execution_count": 6,
   "metadata": {},
   "outputs": [
    {
     "name": "stdout",
     "output_type": "stream",
     "text": [
      "## Persona Analysis\n",
      "- **Characteristics**: Enthusiastic, Not Zealous\n",
      "- **Other Attributes**: Male, named Anthony Walsh, speaks English, lives in France, 17 years old, enjoys reading, yoga, and painting, not talkative, undergraduate college level education.\n",
      "\n",
      "## Conflict Detection in persona\n",
      "- **Conflict 1**: The characteristics 'Enthusiastic' and 'NotZealous' conflict. Enthusiasm often implies a certain level of zeal or passion, so these two traits are contradictory.\n",
      "\n",
      "## Conflict Resolution in persona\n",
      "- **Adjusted Characteristics**: Enthusiastic, Moderately Zealous\n",
      "\n",
      "## Detailed Persona Description\n",
      "Anthony Walsh is a 17-year-old male who lives in France. He is an English speaker and is currently pursuing an undergraduate college level education. Anthony is not very talkative, but he is enthusiastic and moderately zealous about his interests, which include reading, yoga, and painting. Despite his enthusiasm, he knows how to balance his passions and not let them consume him entirely.\n",
      "\n",
      "## Initial Dialogue Line for your conversation partner\n",
      "\"Life can sometimes seem monotonous, but have you tried exploring new hobbies or interests? I find that reading, yoga, and painting add a lot of color to my life.\"\n",
      "\n",
      "---\n",
      "### Iteration 1\n",
      "#### Changes for Better Alignment with Persona Description\n",
      "- Emphasize Anthony's enthusiasm and moderate zeal.\n",
      "- Highlight Anthony's hobbies as a source of joy and excitement.\n",
      "\n",
      "#### Revised Dialogue Line\n",
      "\"Life can indeed feel a bit dull at times, but I've found that diving into a good book, practicing yoga, or creating a new painting can really ignite my enthusiasm. It's all about finding what sparks joy for you.\"\n",
      "\n",
      "#### Evaluation\n",
      "This revised dialogue line better reflects Anthony's enthusiasm and moderate zeal. It also highlights his hobbies as sources of joy and excitement, which aligns with his persona.\n",
      "\n",
      "---\n",
      "### Iteration 2\n",
      "#### Changes for Better Alignment with Persona Description\n",
      "- Reflect Anthony's less talkative nature.\n",
      "- Maintain the focus on his hobbies and interests.\n",
      "\n",
      "#### Revised Dialogue Line\n",
      "\"Life's monotony can be challenging, but I've found solace in my hobbies. Whether it's getting lost in a book, finding peace in yoga, or expressing myself through painting, these activities bring a certain enthusiasm to my life.\"\n",
      "\n",
      "#### Evaluation\n",
      "This final dialogue line reflects Anthony's less talkative nature by being more concise. It also maintains the focus on his hobbies and interests, which are sources of enthusiasm for him.\n",
      "\n",
      "## Final Dialogue Line for your conversation partner\n",
      "\"Life's monotony can be challenging, but I've found solace in my hobbies. Whether it's getting lost in a book, finding peace in yoga, or expressing myself through painting, these activities bring a certain enthusiasm to my life.\""
     ]
    }
   ],
   "source": [
    "response = chain.stream({'persona':persona, 'input': 'Life is so boring. Why is that?'})\n",
    "streaming_output(response)"
   ]
  },
  {
   "cell_type": "code",
   "execution_count": null,
   "metadata": {},
   "outputs": [],
   "source": []
  }
 ],
 "metadata": {
  "kernelspec": {
   "display_name": "Python 3.11.5 ('llm_agents')",
   "language": "python",
   "name": "python3"
  },
  "language_info": {
   "codemirror_mode": {
    "name": "ipython",
    "version": 3
   },
   "file_extension": ".py",
   "mimetype": "text/x-python",
   "name": "python",
   "nbconvert_exporter": "python",
   "pygments_lexer": "ipython3",
   "version": "3.11.5"
  },
  "orig_nbformat": 4,
  "vscode": {
   "interpreter": {
    "hash": "d3fb45ff54312d810d3b33eec9af47862c42661f076ce6b0d7045a13e18ceae3"
   }
  }
 },
 "nbformat": 4,
 "nbformat_minor": 2
}
