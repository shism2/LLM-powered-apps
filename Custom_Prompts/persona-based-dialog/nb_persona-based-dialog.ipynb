{
 "cells": [
  {
   "cell_type": "markdown",
   "metadata": {},
   "source": [
    "### Load environment variables"
   ]
  },
  {
   "cell_type": "code",
   "execution_count": 1,
   "metadata": {},
   "outputs": [],
   "source": [
    "import os\n",
    "import sys  \n",
    "sys.path.append(\"..\")  \n",
    "\n",
    "from dotenv import load_dotenv\n",
    "_ = load_dotenv('.env')\n"
   ]
  },
  {
   "cell_type": "markdown",
   "metadata": {},
   "source": [
    "### Get a random persona"
   ]
  },
  {
   "cell_type": "code",
   "execution_count": 2,
   "metadata": {},
   "outputs": [
    {
     "data": {
      "text/plain": [
       "'{\"gender\": \"unknown\", \"name\": \"Matthew Duke\", \"language\": \"English\", \"nationality\": \"Sweden\", \"age\": 88, \"hobbies\": [\"playing_chess\", \"cycling\", \"watching_movies\", \"playing_guitar\"], \"talkative\": false, \"characteristics\": [\"NotIntuitive\"], \"education_level\": \"phd_degree_level\"}'"
      ]
     },
     "execution_count": 2,
     "metadata": {},
     "output_type": "execute_result"
    }
   ],
   "source": [
    "from user_persona import UserPersona, get_random_user_persona\n",
    "persona = get_random_user_persona().json()\n",
    "persona"
   ]
  },
  {
   "cell_type": "markdown",
   "metadata": {},
   "source": [
    "### Fetch the prompt and create a chain (using LCEL)"
   ]
  },
  {
   "cell_type": "code",
   "execution_count": 3,
   "metadata": {},
   "outputs": [],
   "source": [
    "from langchain import hub\n",
    "from langchain.chat_models import AzureChatOpenAI\n",
    "\n",
    "# In this nodebook, I use AzureChatOpenAI as the base LLM which requires 'deployment_name' as input parameter.\n",
    "# I saved it onto .env file as well as other secret variables.\n",
    "\n",
    "prompt = hub.pull(\"jet-taekyo-lee/persona-based-dialog\")\n",
    "deployment_name = os.getenv('deployment_name')\n",
    "\n",
    "chat_model = AzureChatOpenAI(deployment_name=deployment_name, temperature=0)\n",
    "\n",
    "def streaming_output(response_generator):\n",
    "    for chunk in response_generator:\n",
    "        print(chunk.content, end='')    \n",
    "\n",
    "chain = prompt | chat_model"
   ]
  },
  {
   "cell_type": "markdown",
   "metadata": {},
   "source": [
    "### Get a response with an empty input (Initiating a conversation)"
   ]
  },
  {
   "cell_type": "code",
   "execution_count": 4,
   "metadata": {},
   "outputs": [
    {
     "name": "stdout",
     "output_type": "stream",
     "text": [
      "## Persona Analysis\n",
      "- **Characteristics**: NotIntuitive\n",
      "- **Other Attributes**: Gender: Unknown, Name: Matthew Duke, Language: English, Nationality: Sweden, Age: 88, Hobbies: Playing chess, cycling, watching movies, playing guitar, Talkative: False, Education Level: PhD degree level\n",
      "\n",
      "## Conflict Detection in persona\n",
      "- **Conflict 1**: The gender is stated as unknown, but the name Matthew Duke is typically associated with males. \n",
      "- **Conflict 2**: The nationality is Swedish, but the name Matthew Duke is not a typical Swedish name.\n",
      "\n",
      "## Conflict Resolution in persona\n",
      "- **Adjusted Characteristics**: Gender: Male\n",
      "- **Adjusted Other Attributes**: Name: Mattias Duke\n",
      "\n",
      "## Detailed Persona Description\n",
      "Mattias Duke is an 88-year-old Swedish man who is not very talkative and lacks intuition. Despite his quiet nature, he has a rich inner life, enjoying hobbies such as playing chess, cycling, watching movies, and playing the guitar. He is highly educated, holding a PhD degree. He communicates in English.\n",
      "\n",
      "## Initial Dialogue Line for your conversation partner\n",
      "\"Ah, chess, a game of strategy and patience. I've spent many quiet evenings pondering over the board.\"\n",
      "\n",
      "---\n",
      "### Iteration 1\n",
      "#### Changes for Better Alignment with Persona Description\n",
      "- Emphasize his quiet nature and lack of intuition.\n",
      "- Highlight his age and wisdom.\n",
      "\n",
      "#### Revised Dialogue Line\n",
      "\"Ah, chess, a game of strategy and patience. Over the years, I've spent many quiet evenings, not always intuitively, but always thoughtfully, pondering over the board.\"\n",
      "\n",
      "#### Evaluation\n",
      "This revised dialogue line better reflects Mattias' quiet nature and lack of intuition. It also subtly hints at his age and wisdom.\n",
      "\n",
      "---\n",
      "### Iteration 2\n",
      "#### Changes for Better Alignment with Persona Description\n",
      "- Highlight his education level.\n",
      "- Emphasize his Swedish nationality.\n",
      "\n",
      "#### Revised Dialogue Line\n",
      "\"Ah, chess, a game of strategy and patience. Over the years, I've spent many quiet evenings, not always intuitively, but always thoughtfully, pondering over the board. It's a bit like my research during my PhD, you know. And in Sweden, we do appreciate a good game of chess.\"\n",
      "\n",
      "#### Evaluation\n",
      "This revised dialogue line better reflects Mattias' quiet nature, lack of intuition, and high education level. It also emphasizes his Swedish nationality.\n",
      "\n",
      "## Final Dialogue Line for your conversation partner\n",
      "\"Ah, chess, a game of strategy and patience. Over the years, I've spent many quiet evenings, not always intuitively, but always thoughtfully, pondering over the board. It's a bit like my research during my PhD, you know. And in Sweden, we do appreciate a good game of chess.\""
     ]
    }
   ],
   "source": [
    "response = chain.stream({'persona':persona, 'input': ''})\n",
    "streaming_output(response)"
   ]
  },
  {
   "cell_type": "code",
   "execution_count": 5,
   "metadata": {},
   "outputs": [
    {
     "name": "stdout",
     "output_type": "stream",
     "text": [
      "## Persona Analysis\n",
      "- **Characteristics**: NotIntuitive\n",
      "- **Other Attributes**: Gender: Unknown, Name: Matthew Duke, Language: English, Nationality: Sweden, Age: 88, Hobbies: Playing chess, cycling, watching movies, playing guitar, Talkative: False, Education Level: PhD degree level\n",
      "\n",
      "## Conflict Detection in persona\n",
      "- **Conflict 1**: The name \"Matthew Duke\" is not typically Swedish. It sounds more English or American.\n",
      "- **Conflict 2**: The gender of the persona is unknown, which could potentially conflict with the name \"Matthew Duke\" as it is typically a male name.\n",
      "\n",
      "## Conflict Resolution in persona\n",
      "- **Adjusted Characteristics**: The name can be adjusted to \"Matthias Duk\", a more Swedish sounding name. The gender can be assumed to be male based on the name.\n",
      "\n",
      "## Detailed Persona Description\n",
      "Matthias Duk is an 88-year-old Swedish man who is not very talkative and lacks intuition. Despite his quiet nature, he has a rich inner life, enjoying hobbies such as playing chess, cycling, watching movies, and playing guitar. He is highly educated, holding a PhD degree. His preferred language is English.\n",
      "\n",
      "## Initial Dialogue Line for your conversation partner\n",
      "\"Life can indeed seem monotonous at times, but have you tried engaging in different activities? Chess, for instance, is a great mental exercise.\"\n",
      "\n",
      "---\n",
      "### Iteration 1\n",
      "#### Changes for Better Alignment with Persona Description\n",
      "- The dialogue line should reflect Matthias's non-talkative nature and lack of intuition.\n",
      "- The dialogue line should also reflect his age and wisdom.\n",
      "\n",
      "#### Revised Dialogue Line\n",
      "\"Life's monotony, it's all about perspective. Ever tried chess? Stimulates the mind, it does.\"\n",
      "\n",
      "#### Evaluation\n",
      "The revised dialogue line is more in line with Matthias's persona. It reflects his non-talkative nature by being concise and to the point. It also shows his lack of intuition by offering a straightforward solution to the problem. Furthermore, the dialogue line reflects his age and wisdom by offering a thoughtful perspective on life.\n",
      "\n",
      "---\n",
      "### Iteration 2\n",
      "#### Changes for Better Alignment with Persona Description\n",
      "- The dialogue line should reflect Matthias's education level.\n",
      "- The dialogue line should also reflect his hobbies.\n",
      "\n",
      "#### Revised Dialogue Line\n",
      "\"Monotony, you say? Perhaps a game of chess could offer a change of pace. It's a fascinating study of strategy and foresight.\"\n",
      "\n",
      "#### Evaluation\n",
      "The revised dialogue line is even more in line with Matthias's persona. It reflects his high education level by using more sophisticated language. It also reflects his hobbies by suggesting chess as a solution to the problem.\n",
      "\n",
      "## Final Dialogue Line for your conversation partner\n",
      "\"Monotony, you say? Perhaps a game of chess could offer a change of pace. It's a fascinating study of strategy and foresight.\""
     ]
    }
   ],
   "source": [
    "response = chain.stream({'persona':persona, 'input': 'Life is so boring. Why is that?'})\n",
    "streaming_output(response)"
   ]
  },
  {
   "cell_type": "code",
   "execution_count": null,
   "metadata": {},
   "outputs": [],
   "source": []
  }
 ],
 "metadata": {
  "kernelspec": {
   "display_name": "Python 3.11.5 ('llm_agents')",
   "language": "python",
   "name": "python3"
  },
  "language_info": {
   "codemirror_mode": {
    "name": "ipython",
    "version": 3
   },
   "file_extension": ".py",
   "mimetype": "text/x-python",
   "name": "python",
   "nbconvert_exporter": "python",
   "pygments_lexer": "ipython3",
   "version": "3.11.5"
  },
  "orig_nbformat": 4,
  "vscode": {
   "interpreter": {
    "hash": "d3fb45ff54312d810d3b33eec9af47862c42661f076ce6b0d7045a13e18ceae3"
   }
  }
 },
 "nbformat": 4,
 "nbformat_minor": 2
}
