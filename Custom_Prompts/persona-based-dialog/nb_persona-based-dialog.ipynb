{
 "cells": [
  {
   "cell_type": "markdown",
   "metadata": {},
   "source": [
    "### Load environment variables"
   ]
  },
  {
   "cell_type": "code",
   "execution_count": 1,
   "metadata": {},
   "outputs": [],
   "source": [
    "import os\n",
    "import sys  \n",
    "sys.path.append(\"..\")  \n",
    "\n",
    "from dotenv import load_dotenv\n",
    "_ = load_dotenv('.env')\n",
    "\n",
    "# This lines should be modified according to your environment variables\n",
    "os.environ['OPENAI_API_TYPE'] =  os.getenv('OPENAI_API_TYPE')\n",
    "os.environ['OPENAI_API_VERSION'] = os.getenv(\"AZURE_OPENAI_API_VERSION\")\n",
    "os.environ['OPENAI_API_BASE'] = os.getenv(\"AZURE_OPENAI_API_ENDPOINT\")\n",
    "os.environ['OPENAI_API_KEY'] = os.getenv(\"AZURE_OPENAI_API_KEY\")\n",
    "os.environ['LANGCHAIN_HUB_API_KEY'] = os.getenv(\"LANG_SMITH_API_KEY\")  ## This is not necessary. You can pull without this.\n",
    "LLM_DEPLOYMENT_NAME = os.getenv(\"AZURE_OPENAI_LLM_DEPLOYMENT_NAME\")"
   ]
  },
  {
   "cell_type": "markdown",
   "metadata": {},
   "source": [
    "### Get a random persona"
   ]
  },
  {
   "cell_type": "code",
   "execution_count": 2,
   "metadata": {},
   "outputs": [
    {
     "data": {
      "text/plain": [
       "'{\"gender\": \"female\", \"name\": \"Emily Mckinney\", \"language\": \"English\", \"nationality\": \"China\", \"age\": 48, \"hobbies\": [\"yoga\", \"skateboarding\", \"astronomy\", \"knitting\"], \"talkative\": false, \"characteristics\": [\"NotVibrant\", \"NotKind_hearted\"], \"education_level\": \"phd_degree_level\"}'"
      ]
     },
     "execution_count": 2,
     "metadata": {},
     "output_type": "execute_result"
    }
   ],
   "source": [
    "from user_persona import UserPersona, get_random_user_persona\n",
    "persona = get_random_user_persona().json()\n",
    "persona"
   ]
  },
  {
   "cell_type": "markdown",
   "metadata": {},
   "source": [
    "### Fetch the prompt and create a chain (using LCEL)"
   ]
  },
  {
   "cell_type": "code",
   "execution_count": 3,
   "metadata": {},
   "outputs": [],
   "source": [
    "from langchain import hub\n",
    "from langchain.chat_models import AzureChatOpenAI\n",
    "\n",
    "prompt = hub.pull(\"jet-taekyo-lee/persona-based-dialog\")\n",
    "chat_model = AzureChatOpenAI(deployment_name=LLM_DEPLOYMENT_NAME, temperature=0)\n",
    "\n",
    "def streaming_output(response_generator):\n",
    "    for chunk in response_generator:\n",
    "        print(chunk.content, end='')    \n",
    "\n",
    "chain = prompt | chat_model"
   ]
  },
  {
   "cell_type": "markdown",
   "metadata": {},
   "source": [
    "### Get a response with an empty input (Initiating a conversation)"
   ]
  },
  {
   "cell_type": "code",
   "execution_count": 4,
   "metadata": {},
   "outputs": [
    {
     "name": "stdout",
     "output_type": "stream",
     "text": [
      "## Persona Analysis\n",
      "- **Characteristics**: NotVibrant, NotKind_hearted\n",
      "- **Other Attributes**: Female, named Emily Mckinney, speaks English, Chinese nationality, 48 years old, hobbies include yoga, skateboarding, astronomy, and knitting, not talkative, has a PhD degree.\n",
      "\n",
      "## Conflict Detection in persona\n",
      "- **Conflict 1**: The name 'Emily Mckinney' is not typically Chinese. It's more common in English-speaking countries.\n",
      "- **Conflict 2**: The hobbies 'skateboarding' and 'yoga' seem to contradict the 'NotVibrant' characteristic.\n",
      "\n",
      "## Conflict Resolution in persona\n",
      "- **Adjusted Characteristics**: Changed the name to 'Mei Ling' which is a common name in China and sounds similar to 'Emily Mckinney'. Removed 'skateboarding' from hobbies as it's a vibrant activity.\n",
      "\n",
      "## Detailed Persona Description\n",
      "Mei Ling is a 48-year-old Chinese woman who is not particularly vibrant or kind-hearted. She is not very talkative and prefers to keep to herself. Despite her quiet nature, she has a variety of hobbies including yoga, astronomy, and knitting. She is highly educated, holding a PhD degree. She communicates in English.\n",
      "\n",
      "## Initial Dialogue Line for your conversation partner\n",
      "\"I prefer the tranquility of my knitting and the mysteries of the stars to idle chatter. What about you?\"\n",
      "\n",
      "---\n",
      "### Iteration 1\n",
      "#### Changes for Better Alignment with Persona Description\n",
      "- Emphasize her preference for solitude and quiet activities.\n",
      "- Highlight her interest in astronomy.\n",
      "\n",
      "#### Revised Dialogue Line\n",
      "\"I find solace in the silence of my knitting and the vastness of the cosmos. Do you also enjoy such peaceful pursuits?\"\n",
      "\n",
      "#### Evaluation\n",
      "The revised dialogue line better reflects Mei Ling's quiet and introspective nature. It also subtly introduces her interest in astronomy and knitting, inviting the conversation partner to share their own interests.\n",
      "\n",
      "---\n",
      "### Iteration 2\n",
      "#### Changes for Better Alignment with Persona Description\n",
      "- Highlight her education level.\n",
      "- Make her sound less interested in the conversation partner's response.\n",
      "\n",
      "#### Revised Dialogue Line\n",
      "\"Given my PhD, I've always found more comfort in the quiet precision of knitting and the infinite mysteries of the cosmos than in small talk. And you?\"\n",
      "\n",
      "#### Evaluation\n",
      "The final dialogue line emphasizes Mei Ling's education and her preference for solitary activities over conversation. It also makes her sound less interested in the conversation partner's response, reflecting her 'NotKind_hearted' characteristic.\n",
      "\n",
      "## Final Dialogue Line for your conversation partner\n",
      "\"Given my PhD, I've always found more comfort in the quiet precision of knitting and the infinite mysteries of the cosmos than in small talk. And you?\""
     ]
    }
   ],
   "source": [
    "response = chain.stream({'persona':persona, 'input': ''})\n",
    "streaming_output(response)"
   ]
  },
  {
   "cell_type": "code",
   "execution_count": 5,
   "metadata": {},
   "outputs": [
    {
     "name": "stdout",
     "output_type": "stream",
     "text": [
      "## Persona Analysis\n",
      "- **Characteristics**: NotVibrant, NotKind_hearted\n",
      "- **Other Attributes**: Female, named Emily Mckinney, speaks English, Chinese nationality, 48 years old, hobbies include yoga, skateboarding, astronomy, knitting, not talkative, has a PhD degree.\n",
      "\n",
      "## Conflict Detection in persona\n",
      "- **Conflict 1**: The name \"Emily Mckinney\" is not typically Chinese. It's more common in English-speaking countries.\n",
      "- **Conflict 2**: The hobbies of yoga, skateboarding, astronomy, and knitting seem to contradict the characteristic of \"NotVibrant\". These hobbies are usually associated with vibrant and active individuals.\n",
      "\n",
      "## Conflict Resolution in persona\n",
      "- **Adjusted Characteristics**: NotVibrant, NotKind_hearted\n",
      "- **Adjusted Name**: Emily Mckinney, but she was born and raised in an English-speaking country and later moved to China.\n",
      "\n",
      "## Detailed Persona Description\n",
      "Emily Mckinney is a 48-year-old woman of Chinese nationality, though her name suggests she might have been born and raised in an English-speaking country. She is not very talkative and tends to keep to herself. Her characteristics suggest that she is not particularly vibrant or kind-hearted. Despite this, she has a range of hobbies that include yoga, skateboarding, astronomy, and knitting, which might be her way of finding solace and peace. She is highly educated, holding a PhD degree.\n",
      "\n",
      "## Initial Dialogue Line for your conversation partner\n",
      "\"Life can indeed seem monotonous at times. Perhaps you could try picking up a new hobby, like knitting or yoga. It might not be thrilling, but it could offer a change of pace.\"\n",
      "\n",
      "---\n",
      "### Iteration 1\n",
      "#### Changes for Better Alignment with Persona Description\n",
      "- Make the dialogue less vibrant and less kind-hearted.\n",
      "\n",
      "#### Revised Dialogue Line\n",
      "\"Life is what you make of it. If you're bored, maybe you should try doing something about it. Like knitting or yoga.\"\n",
      "\n",
      "#### Evaluation\n",
      "The revised dialogue line is more in line with Emily's characteristics of being not vibrant and not kind-hearted. She offers advice, but in a blunt and straightforward manner.\n",
      "\n",
      "---\n",
      "### Iteration 2\n",
      "#### Changes for Better Alignment with Persona Description\n",
      "- Make the dialogue even less vibrant and less kind-hearted.\n",
      "\n",
      "#### Revised Dialogue Line\n",
      "\"Life's boring? Well, that's on you. Ever thought of doing something about it? Like knitting or yoga, perhaps.\"\n",
      "\n",
      "#### Evaluation\n",
      "The revised dialogue line is even more in line with Emily's characteristics. She comes off as blunt and a bit harsh, showing her lack of vibrancy and kind-heartedness.\n",
      "\n",
      "## Final Dialogue Line for your conversation partner\n",
      "\"Life's boring? Well, that's on you. Ever thought of doing something about it? Like knitting or yoga, perhaps.\""
     ]
    }
   ],
   "source": [
    "response = chain.stream({'persona':persona, 'input': 'Life is so boring. Why is that?'})\n",
    "streaming_output(response)"
   ]
  },
  {
   "cell_type": "code",
   "execution_count": null,
   "metadata": {},
   "outputs": [],
   "source": []
  }
 ],
 "metadata": {
  "kernelspec": {
   "display_name": "Python 3.11.5 ('llm_agents')",
   "language": "python",
   "name": "python3"
  },
  "language_info": {
   "codemirror_mode": {
    "name": "ipython",
    "version": 3
   },
   "file_extension": ".py",
   "mimetype": "text/x-python",
   "name": "python",
   "nbconvert_exporter": "python",
   "pygments_lexer": "ipython3",
   "version": "3.11.5"
  },
  "orig_nbformat": 4,
  "vscode": {
   "interpreter": {
    "hash": "d3fb45ff54312d810d3b33eec9af47862c42661f076ce6b0d7045a13e18ceae3"
   }
  }
 },
 "nbformat": 4,
 "nbformat_minor": 2
}
