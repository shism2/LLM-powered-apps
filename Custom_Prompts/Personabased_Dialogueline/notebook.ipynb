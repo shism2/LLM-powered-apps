{
 "cells": [
  {
   "cell_type": "code",
   "execution_count": 1,
   "metadata": {},
   "outputs": [],
   "source": [
    "import os\n",
    "from dotenv import load_dotenv\n",
    "_ = load_dotenv('.env')\n",
    "\n",
    "# This lines should be modified according to your environment variables\n",
    "os.environ['OPENAI_API_TYPE'] =  os.getenv('OPENAI_API_TYPE')\n",
    "os.environ['OPENAI_API_VERSION'] = os.getenv(\"AZURE_OPENAI_API_VERSION\")\n",
    "os.environ['OPENAI_API_BASE'] = os.getenv(\"AZURE_OPENAI_API_ENDPOINT\")\n",
    "os.environ['OPENAI_API_KEY'] = os.getenv(\"AZURE_OPENAI_API_KEY\")\n",
    "LLM_DEPLOYMENT_NAME = os.getenv(\"AZURE_OPENAI_LLM_DEPLOYMENT_NAME\")"
   ]
  },
  {
   "cell_type": "code",
   "execution_count": 3,
   "metadata": {},
   "outputs": [],
   "source": [
    "from user_persona import UserPersona, get_random_user_persona\n",
    "persona = get_random_user_persona().json()"
   ]
  },
  {
   "cell_type": "code",
   "execution_count": 5,
   "metadata": {},
   "outputs": [],
   "source": [
    "from langchain import hub\n",
    "from langchain.chat_models import AzureChatOpenAI\n",
    "\n",
    "prompt = hub.pull(\"jet-taekyo-lee/persona-based-dialog:7ca4b43d\")\n",
    "chat_model = AzureChatOpenAI(deployment_name=LLM_DEPLOYMENT_NAME, temperature=0)\n",
    "\n",
    "chain = prompt | chat_model"
   ]
  },
  {
   "cell_type": "code",
   "execution_count": 7,
   "metadata": {},
   "outputs": [
    {
     "name": "stdout",
     "output_type": "stream",
     "text": [
      "## Persona Analysis\n",
      "- **Characteristics**: NotIntuitive, NotSincere, NotUnderstanding, Loyal\n",
      "- **Other Attributes**: Gender: Unknown, Name: John Wu, Language: English, Location: Saudi Arabia, Age: 99, Hobbies: Swimming, Talkative: True, Education Level: Middle School Level\n",
      "\n",
      "## Conflict Detection in persona\n",
      "- **Conflict 1**: The persona's age is 99, but the education level is only middle school level. This could be seen as a conflict as it's unusual for someone of that age to have only a middle school education.\n",
      "- **Conflict 2**: The persona is described as both talkative and not understanding. This could be seen as a conflict as it's difficult to be talkative without understanding what is being discussed.\n",
      "\n",
      "## Conflict Resolution in persona\n",
      "- **Adjusted Characteristics**: NotIntuitive, NotSincere, Loyal\n",
      "- **Adjusted Other Attributes**: Age: 99, Education Level: Self-educated\n",
      "\n",
      "## Detailed Persona Description\n",
      "John Wu is a 99-year-old individual residing in Saudi Arabia. Despite their age, they only have a middle school level of formal education, but they are self-educated. They are talkative and enjoy swimming. They are not intuitive or sincere, but they are loyal. Their gender is unknown, and they communicate in English.\n",
      "\n",
      "## Initial Dialogue Line for your conversation partner\n",
      "\"Hey there, did you know I swam for an hour today? Not bad for a 99-year-old, huh?\"\n",
      "\n",
      "---\n",
      "### Iteration 1\n",
      "#### Changes for Better Alignment with Persona Description\n",
      "- Emphasize the persona's lack of sincerity.\n",
      "- Highlight the persona's talkative nature.\n",
      "\n",
      "#### Revised Dialogue Line\n",
      "\"Hey there, did you know I swam for an hour today? Not bad for a 99-year-old, huh? But who's counting, right?\"\n",
      "\n",
      "#### Evaluation\n",
      "This revised dialogue line better reflects John Wu's talkative and insincere nature. It also subtly hints at his age and hobby.\n",
      "\n",
      "---\n",
      "### Iteration 2\n",
      "#### Changes for Better Alignment with Persona Description\n",
      "- Highlight the persona's self-education.\n",
      "- Emphasize the persona's loyalty.\n",
      "\n",
      "#### Revised Dialogue Line\n",
      "\"Hey there, did you know I swam for an hour today? Not bad for a 99-year-old, huh? But who's counting, right? I learned to swim all by myself, you know. I'm always here if you need a swimming buddy.\"\n",
      "\n",
      "#### Evaluation\n",
      "This revised dialogue line further emphasizes John Wu's self-education and loyalty. It also maintains the talkative and insincere aspects of his personality.\n",
      "\n",
      "## Final Dialogue Line for your conversation partner\n",
      "\"Hey there, did you know I swam for an hour today? Not bad for a 99-year-old, huh? But who's counting, right? I learned to swim all by myself, you know. I'm always here if you need a swimming buddy.\"\n"
     ]
    }
   ],
   "source": [
    "response = chain.invoke({'persona':persona, 'input': ''})\n",
    "print(response.content)"
   ]
  },
  {
   "cell_type": "code",
   "execution_count": 8,
   "metadata": {},
   "outputs": [
    {
     "name": "stdout",
     "output_type": "stream",
     "text": [
      "## Persona Analysis\n",
      "- **Characteristics**: NotIntuitive, NotSincere, NotUnderstanding, Loyal\n",
      "- **Other Attributes**: Gender: Unknown, Name: John Wu, Language: English, Location: Saudi Arabia, Age: 99, Hobbies: Swimming, Talkative: True, Education Level: Middle School Level\n",
      "\n",
      "## Conflict Detection in persona\n",
      "- **Conflict 1**: The characteristics \"NotIntuitive\", \"NotSincere\", \"NotUnderstanding\" conflict with the attribute \"Talkative\". A person who is not intuitive, sincere, or understanding may not be very talkative as they might struggle to engage in meaningful conversations.\n",
      "- **Conflict 2**: The age of the persona (99) and the hobby (swimming) might conflict. While it's not impossible for a 99-year-old to swim, it's less likely due to physical limitations that come with age.\n",
      "\n",
      "## Conflict Resolution in persona\n",
      "- **Adjusted Characteristics**: NotIntuitive, NotSincere, NotUnderstanding, Loyal, Talkative (but only about superficial topics)\n",
      "- **Adjusted Hobbies**: Enjoys watching swimming competitions\n",
      "\n",
      "## Detailed Persona Description\n",
      "John Wu is a 99-year-old individual residing in Saudi Arabia. Despite their advanced age, they maintain a keen interest in swimming, particularly watching swimming competitions. They are not very intuitive, sincere, or understanding, which makes their conversations often superficial and lacking depth. However, they are loyal and can be relied upon by their friends. They are talkative but tend to steer clear of deep or meaningful topics. Their education level is up to middle school.\n",
      "\n",
      "## Initial Dialogue Line for your conversation partner\n",
      "\"Life's boring, huh? Well, have you watched the latest swimming competition? The strokes, the splashes, the thrill! Now, that's something!\"\n",
      "\n",
      "---\n",
      "### Iteration 1\n",
      "#### Changes for Better Alignment with Persona Description\n",
      "- Make the dialogue more superficial and less sincere\n",
      "- Include a reference to the persona's loyalty\n",
      "\n",
      "#### Revised Dialogue Line\n",
      "\"Life's boring, you say? Well, you know me, always loyal to my swimming competitions. Have you seen the latest one? Quite a spectacle!\"\n",
      "\n",
      "#### Evaluation\n",
      "The revised dialogue line better reflects John Wu's characteristics. It shows his superficiality and lack of sincerity by quickly changing the topic from life's boredom to swimming competitions. It also subtly hints at his loyalty by mentioning his consistent interest in swimming competitions.\n",
      "\n",
      "---\n",
      "### Iteration 2\n",
      "#### Changes for Better Alignment with Persona Description\n",
      "- Make the dialogue even more superficial\n",
      "- Remove any hint of understanding or empathy\n",
      "\n",
      "#### Revised Dialogue Line\n",
      "\"Boring, eh? Well, can't help you there. But hey, did you catch that swimming competition on TV? Now that's entertainment!\"\n",
      "\n",
      "#### Evaluation\n",
      "The final dialogue line perfectly encapsulates John Wu's persona. It shows his lack of understanding and empathy by dismissing the other person's feelings of boredom. It also highlights his superficiality by quickly shifting the conversation to a more light-hearted topic.\n",
      "\n",
      "## Final Dialogue Line for your conversation partner\n",
      "\"Boring, eh? Well, can't help you there. But hey, did you catch that swimming competition on TV? Now that's entertainment!\"\n"
     ]
    }
   ],
   "source": [
    "response = chain.invoke({'persona':persona, 'input': 'Life is so boring. Why is that?'})\n",
    "print(response.content)\n"
   ]
  },
  {
   "cell_type": "code",
   "execution_count": null,
   "metadata": {},
   "outputs": [],
   "source": []
  }
 ],
 "metadata": {
  "kernelspec": {
   "display_name": "Python 3.11.4 ('chatbot')",
   "language": "python",
   "name": "python3"
  },
  "language_info": {
   "codemirror_mode": {
    "name": "ipython",
    "version": 3
   },
   "file_extension": ".py",
   "mimetype": "text/x-python",
   "name": "python",
   "nbconvert_exporter": "python",
   "pygments_lexer": "ipython3",
   "version": "3.11.4"
  },
  "orig_nbformat": 4,
  "vscode": {
   "interpreter": {
    "hash": "4a48cb8897ef53965bad7891a801bd943c8046bb49f7a220c54fb88a193fc026"
   }
  }
 },
 "nbformat": 4,
 "nbformat_minor": 2
}
