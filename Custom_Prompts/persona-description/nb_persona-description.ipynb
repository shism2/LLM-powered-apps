{
 "cells": [
  {
   "cell_type": "markdown",
   "metadata": {},
   "source": [
    "### Load environment variables"
   ]
  },
  {
   "cell_type": "code",
   "execution_count": 1,
   "metadata": {},
   "outputs": [],
   "source": [
    "import os\n",
    "import sys  \n",
    "sys.path.append(\"..\")  \n",
    "\n",
    "from dotenv import load_dotenv\n",
    "_ = load_dotenv('.env')\n",
    "\n",
    "# This lines should be modified according to your environment variables\n",
    "os.environ['OPENAI_API_TYPE'] =  os.getenv('OPENAI_API_TYPE')\n",
    "os.environ['OPENAI_API_VERSION'] = os.getenv(\"AZURE_OPENAI_API_VERSION\")\n",
    "os.environ['OPENAI_API_BASE'] = os.getenv(\"AZURE_OPENAI_API_ENDPOINT\")\n",
    "os.environ['OPENAI_API_KEY'] = os.getenv(\"AZURE_OPENAI_API_KEY\")\n",
    "os.environ['LANGCHAIN_HUB_API_KEY'] = os.getenv(\"LANG_SMITH_API_KEY\")  ## This is not necessary. You can pull without this.\n",
    "LLM_DEPLOYMENT_NAME = os.getenv(\"AZURE_OPENAI_LLM_DEPLOYMENT_NAME\")"
   ]
  },
  {
   "cell_type": "markdown",
   "metadata": {},
   "source": [
    "### Get a random persona"
   ]
  },
  {
   "cell_type": "code",
   "execution_count": 2,
   "metadata": {},
   "outputs": [
    {
     "data": {
      "text/plain": [
       "'{\"gender\": \"unknown\", \"name\": \"Natalie Whitaker\", \"language\": \"English\", \"location\": \"Thailand\", \"age\": 38, \"hobbies\": [\"swimming\", \"playing_chess\", \"baking\"], \"talkative\": false, \"characteristics\": [\"NotFickle\", \"NotUnderstanding\"], \"education_level\": \"kindergarten_level\"}'"
      ]
     },
     "execution_count": 2,
     "metadata": {},
     "output_type": "execute_result"
    }
   ],
   "source": [
    "from user_persona import UserPersona, get_random_user_persona\n",
    "persona = get_random_user_persona().json()\n",
    "persona"
   ]
  },
  {
   "cell_type": "markdown",
   "metadata": {},
   "source": [
    "### Get OpenAI functions"
   ]
  },
  {
   "cell_type": "code",
   "execution_count": 3,
   "metadata": {},
   "outputs": [],
   "source": [
    "from user_persona import UserProfile\n",
    "from langchain.utils.openai_functions import convert_pydantic_to_openai_function\n",
    "openai_function_profile = convert_pydantic_to_openai_function(UserProfile)\n",
    "\n",
    "# You can also get openai_function_profile in this way\n",
    "# with open('openai_function_profile.json', 'r') as f:  \n",
    "#     openai_function_profile = json.load(f)"
   ]
  },
  {
   "cell_type": "markdown",
   "metadata": {},
   "source": [
    "### Fetch the prompt and create a chain (using LCEL)\n"
   ]
  },
  {
   "cell_type": "code",
   "execution_count": 4,
   "metadata": {},
   "outputs": [],
   "source": [
    "from langchain import hub\n",
    "from langchain.chat_models import AzureChatOpenAI\n",
    "\n",
    "prompt = hub.pull(\"jet-taekyo-lee/persona-description\")\n",
    "chat_model = AzureChatOpenAI(deployment_name=LLM_DEPLOYMENT_NAME, temperature=0).bind(functions=[openai_function_profile], function_call={'name':'UserProfile'})\n",
    "\n",
    "\n",
    "chain = prompt | chat_model"
   ]
  },
  {
   "cell_type": "markdown",
   "metadata": {},
   "source": [
    "## Get a response"
   ]
  },
  {
   "cell_type": "code",
   "execution_count": 5,
   "metadata": {},
   "outputs": [
    {
     "name": "stdout",
     "output_type": "stream",
     "text": [
      "{\n",
      "  \"original_persona\": {\n",
      "    \"gender\": \"unknown\",\n",
      "    \"name\": \"Natalie Whitaker\",\n",
      "    \"language\": \"English\",\n",
      "    \"location\": \"Thailand\",\n",
      "    \"age\": 38,\n",
      "    \"hobbies\": [\"swimming\", \"playing_chess\", \"baking\"],\n",
      "    \"talkative\": false,\n",
      "    \"characteristics\": [\"NotFickle\", \"NotUnderstanding\"],\n",
      "    \"education_level\": \"kindergarten_level\"\n",
      "  },\n",
      "  \"refined_persona\": {\n",
      "    \"gender\": \"female\",\n",
      "    \"name\": \"Natalie Whitaker\",\n",
      "    \"language\": \"English\",\n",
      "    \"location\": \"Thailand\",\n",
      "    \"age\": 38,\n",
      "    \"hobbies\": [\"swimming\", \"playing_chess\", \"baking\"],\n",
      "    \"talkative\": false,\n",
      "    \"characteristics\": [\"Stable\", \"Misunderstood\"],\n",
      "    \"education_level\": \"undergraduate_college_level\"\n",
      "  },\n",
      "  \"refined_persona_description\": {\n",
      "    \"description_of_persona\": \"Natalie Whitaker is a 38-year-old woman who resides in Thailand. She is fluent in English. Natalie is not very talkative and enjoys hobbies such as swimming, playing chess, and baking. She is stable, meaning she is not fickle and does not change her mind frequently. However, she often feels misunderstood, which might be due to her quiet nature. Despite the original persona indicating a kindergarten level of education, considering her age and hobbies that require a certain level of intellectual engagement, it is more plausible that Natalie has an undergraduate college level of education.\"\n",
      "  }\n",
      "}\n"
     ]
    }
   ],
   "source": [
    "response = chain.invoke({'persona':persona})\n",
    "print(response.additional_kwargs['function_call']['arguments'])"
   ]
  },
  {
   "cell_type": "code",
   "execution_count": null,
   "metadata": {},
   "outputs": [],
   "source": []
  }
 ],
 "metadata": {
  "kernelspec": {
   "display_name": "Python 3.11.5 ('llm_agents')",
   "language": "python",
   "name": "python3"
  },
  "language_info": {
   "codemirror_mode": {
    "name": "ipython",
    "version": 3
   },
   "file_extension": ".py",
   "mimetype": "text/x-python",
   "name": "python",
   "nbconvert_exporter": "python",
   "pygments_lexer": "ipython3",
   "version": "3.11.5"
  },
  "orig_nbformat": 4,
  "vscode": {
   "interpreter": {
    "hash": "d3fb45ff54312d810d3b33eec9af47862c42661f076ce6b0d7045a13e18ceae3"
   }
  }
 },
 "nbformat": 4,
 "nbformat_minor": 2
}
