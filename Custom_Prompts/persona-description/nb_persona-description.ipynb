{
 "cells": [
  {
   "cell_type": "markdown",
   "metadata": {},
   "source": [
    "### 0. Load environment variables"
   ]
  },
  {
   "cell_type": "code",
   "execution_count": 1,
   "metadata": {},
   "outputs": [],
   "source": [
    "import os\n",
    "import sys  \n",
    "sys.path.append(\"..\")  \n",
    "\n",
    "from dotenv import load_dotenv\n",
    "_ = load_dotenv('.env')"
   ]
  },
  {
   "cell_type": "markdown",
   "metadata": {},
   "source": [
    "### 1. Get a random persona"
   ]
  },
  {
   "cell_type": "code",
   "execution_count": 2,
   "metadata": {},
   "outputs": [
    {
     "data": {
      "text/plain": [
       "'{\"gender\": \"female\", \"name\": \"Jean Forbes\", \"language\": \"English\", \"nationality\": \"Belgium\", \"age\": 32, \"hobbies\": [\"knitting\", \"pottery\", \"dancing\", \"sports\", \"gardening\"], \"talkative\": true, \"characteristics\": [\"NotWitty\"], \"education_level\": \"middle_school_level\"}'"
      ]
     },
     "execution_count": 2,
     "metadata": {},
     "output_type": "execute_result"
    }
   ],
   "source": [
    "from user_persona import UserPersona, get_random_user_persona\n",
    "persona = get_random_user_persona().json()\n",
    "persona"
   ]
  },
  {
   "cell_type": "markdown",
   "metadata": {},
   "source": [
    "### 2. Get OpenAI functions\n",
    "This prompt is supposed to work with OpenAI Functions "
   ]
  },
  {
   "cell_type": "code",
   "execution_count": 3,
   "metadata": {},
   "outputs": [],
   "source": [
    "from user_persona import UserProfile\n",
    "from langchain.utils.openai_functions import convert_pydantic_to_openai_function\n",
    "openai_function_profile = convert_pydantic_to_openai_function(UserProfile)\n",
    "\n",
    "### You can also get openai_function_profile in this way\n",
    "# with open('openai_function_profile.json', 'r') as f:  \n",
    "#     openai_function_profile = json.load(f)"
   ]
  },
  {
   "cell_type": "markdown",
   "metadata": {},
   "source": [
    "### 3. Fetch the prompt and create a chain (using LCEL)\n"
   ]
  },
  {
   "cell_type": "code",
   "execution_count": 9,
   "metadata": {},
   "outputs": [],
   "source": [
    "from typing import Literal\n",
    "from langchain import hub\n",
    "from langchain.chat_models import ChatOpenAI, AzureChatOpenAI\n",
    "\n",
    "def get_OpenAI_chain(provider: Literal['ChatOpenAI', 'AzureChatOpenAI'], model_or_deployment_name: str):\n",
    "    if provider == 'ChatOpenAI':\n",
    "        chat_model = ChatOpenAI(model_name=model_or_deployment_name, temperature=0).bind(functions=[openai_function_profile], function_call={'name':'UserProfile'})\n",
    "    else:\n",
    "        chat_model = AzureChatOpenAI(deployment_name=model_or_deployment_name, temperature=0).bind(functions=[openai_function_profile], function_call={'name':'UserProfile'})\n",
    "    return chat_model\n",
    "\n",
    "prompt = hub.pull(\"jet-taekyo-lee/persona-description\")\n",
    "provider = 'AzureChatOpenAI'\n",
    "model_or_deployment_name = os.getenv('model_name') if provider == 'ChatOpenAI' else os.getenv('deployment_name')\n",
    "chat_model = get_OpenAI_chain(provider, model_or_deployment_name)\n",
    "\n",
    "chain = prompt | chat_model"
   ]
  },
  {
   "cell_type": "markdown",
   "metadata": {},
   "source": [
    "### 4. Get a response"
   ]
  },
  {
   "cell_type": "code",
   "execution_count": 10,
   "metadata": {},
   "outputs": [
    {
     "name": "stdout",
     "output_type": "stream",
     "text": [
      "{\n",
      "  \"original_persona\": {\n",
      "    \"gender\": \"female\",\n",
      "    \"name\": \"Jean Forbes\",\n",
      "    \"language\": \"English\",\n",
      "    \"nationality\": \"Belgium\",\n",
      "    \"age\": 32,\n",
      "    \"hobbies\": [\"knitting\", \"pottery\", \"dancing\", \"sports\", \"gardening\"],\n",
      "    \"talkative\": true,\n",
      "    \"characteristics\": [\"NotWitty\"],\n",
      "    \"education_level\": \"middle_school_level\"\n",
      "  },\n",
      "  \"refined_persona\": {\n",
      "    \"gender\": \"female\",\n",
      "    \"name\": \"Jean Forbes\",\n",
      "    \"language\": \"English\",\n",
      "    \"nationality\": \"Belgium\",\n",
      "    \"age\": 32,\n",
      "    \"hobbies\": [\"knitting\", \"pottery\", \"dancing\", \"sports\", \"gardening\"],\n",
      "    \"talkative\": true,\n",
      "    \"characteristics\": [\"NotWitty\"],\n",
      "    \"education_level\": \"middle_school_level\"\n",
      "  },\n",
      "  \"refined_persona_description\": {\n",
      "    \"description_of_persona\": \"Jean Forbes is a 32-year-old woman from Belgium. She is fluent in English and is quite talkative. Despite having only a middle school level education, Jean has a wide range of hobbies that include knitting, pottery, dancing, sports, and gardening. One notable characteristic of Jean is that she is not particularly witty. Despite this, she is a vibrant individual with a passion for various activities.\"\n",
      "  }\n",
      "}\n"
     ]
    }
   ],
   "source": [
    "response = chain.invoke({'persona':persona})\n",
    "print(response.additional_kwargs['function_call']['arguments'])"
   ]
  }
 ],
 "metadata": {
  "kernelspec": {
   "display_name": "Python 3.11.5 ('llm_agents')",
   "language": "python",
   "name": "python3"
  },
  "language_info": {
   "codemirror_mode": {
    "name": "ipython",
    "version": 3
   },
   "file_extension": ".py",
   "mimetype": "text/x-python",
   "name": "python",
   "nbconvert_exporter": "python",
   "pygments_lexer": "ipython3",
   "version": "3.11.5"
  },
  "orig_nbformat": 4,
  "vscode": {
   "interpreter": {
    "hash": "d3fb45ff54312d810d3b33eec9af47862c42661f076ce6b0d7045a13e18ceae3"
   }
  }
 },
 "nbformat": 4,
 "nbformat_minor": 2
}
