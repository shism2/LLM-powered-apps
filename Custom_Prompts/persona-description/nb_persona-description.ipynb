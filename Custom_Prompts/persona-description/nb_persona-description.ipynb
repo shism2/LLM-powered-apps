{
 "cells": [
  {
   "cell_type": "markdown",
   "metadata": {},
   "source": [
    "### Load environment variables"
   ]
  },
  {
   "cell_type": "code",
   "execution_count": 1,
   "metadata": {},
   "outputs": [],
   "source": [
    "import os\n",
    "import sys  \n",
    "sys.path.append(\"..\")  \n",
    "\n",
    "from dotenv import load_dotenv\n",
    "_ = load_dotenv('.env')\n",
    "\n",
    "# This lines should be modified according to your environment variables\n",
    "os.environ['OPENAI_API_TYPE'] =  os.getenv('OPENAI_API_TYPE')\n",
    "os.environ['OPENAI_API_VERSION'] = os.getenv(\"AZURE_OPENAI_API_VERSION\")\n",
    "os.environ['OPENAI_API_BASE'] = os.getenv(\"AZURE_OPENAI_API_ENDPOINT\")\n",
    "os.environ['OPENAI_API_KEY'] = os.getenv(\"AZURE_OPENAI_API_KEY\")\n",
    "os.environ['LANGCHAIN_HUB_API_KEY'] = os.getenv(\"LANG_SMITH_API_KEY\")  ## This is not necessary. You can pull without this.\n",
    "LLM_DEPLOYMENT_NAME = os.getenv(\"AZURE_OPENAI_LLM_DEPLOYMENT_NAME\")"
   ]
  },
  {
   "cell_type": "markdown",
   "metadata": {},
   "source": [
    "### Get a random persona"
   ]
  },
  {
   "cell_type": "code",
   "execution_count": 2,
   "metadata": {},
   "outputs": [
    {
     "data": {
      "text/plain": [
       "'{\"gender\": \"male\", \"name\": \"Dennis Estrada\", \"language\": \"English\", \"nationality\": \"United_Kingdom\", \"age\": 30, \"hobbies\": [\"painting\", \"photography\", \"astronomy\"], \"talkative\": true, \"characteristics\": [\"NotImpulsive\", \"NotOptimistic\"], \"education_level\": \"genius_level\"}'"
      ]
     },
     "execution_count": 2,
     "metadata": {},
     "output_type": "execute_result"
    }
   ],
   "source": [
    "from user_persona import UserPersona, get_random_user_persona\n",
    "persona = get_random_user_persona().json()\n",
    "persona"
   ]
  },
  {
   "cell_type": "markdown",
   "metadata": {},
   "source": [
    "### Get OpenAI functions"
   ]
  },
  {
   "cell_type": "code",
   "execution_count": 3,
   "metadata": {},
   "outputs": [],
   "source": [
    "from user_persona import UserProfile\n",
    "from langchain.utils.openai_functions import convert_pydantic_to_openai_function\n",
    "openai_function_profile = convert_pydantic_to_openai_function(UserProfile)\n",
    "\n",
    "# You can also get openai_function_profile in this way\n",
    "# with open('openai_function_profile.json', 'r') as f:  \n",
    "#     openai_function_profile = json.load(f)"
   ]
  },
  {
   "cell_type": "markdown",
   "metadata": {},
   "source": [
    "### Fetch the prompt and create a chain (using LCEL)\n"
   ]
  },
  {
   "cell_type": "code",
   "execution_count": 4,
   "metadata": {},
   "outputs": [],
   "source": [
    "from langchain import hub\n",
    "from langchain.chat_models import AzureChatOpenAI\n",
    "\n",
    "prompt = hub.pull(\"jet-taekyo-lee/persona-description\")\n",
    "chat_model = AzureChatOpenAI(deployment_name=LLM_DEPLOYMENT_NAME, temperature=0).bind(functions=[openai_function_profile], function_call={'name':'UserProfile'})\n",
    "\n",
    "\n",
    "chain = prompt | chat_model"
   ]
  },
  {
   "cell_type": "markdown",
   "metadata": {},
   "source": [
    "## Get a response"
   ]
  },
  {
   "cell_type": "code",
   "execution_count": 5,
   "metadata": {},
   "outputs": [
    {
     "name": "stdout",
     "output_type": "stream",
     "text": [
      "{\n",
      "  \"original_persona\": {\n",
      "    \"gender\": \"male\",\n",
      "    \"name\": \"Dennis Estrada\",\n",
      "    \"language\": \"English\",\n",
      "    \"nationality\": \"United_Kingdom\",\n",
      "    \"age\": 30,\n",
      "    \"hobbies\": [\"painting\", \"photography\", \"astronomy\"],\n",
      "    \"talkative\": true,\n",
      "    \"characteristics\": [\"NotImpulsive\", \"NotOptimistic\"],\n",
      "    \"education_level\": \"genius_level\"\n",
      "  },\n",
      "  \"refined_persona\": {\n",
      "    \"gender\": \"male\",\n",
      "    \"name\": \"Dennis Estrada\",\n",
      "    \"language\": \"English\",\n",
      "    \"nationality\": \"United_Kingdom\",\n",
      "    \"age\": 30,\n",
      "    \"hobbies\": [\"painting\", \"photography\", \"astronomy\"],\n",
      "    \"talkative\": true,\n",
      "    \"characteristics\": [\"Patient\", \"Pessimistic\"],\n",
      "    \"education_level\": \"genius_level\"\n",
      "  },\n",
      "  \"refined_persona_description\": {\n",
      "    \"description_of_persona\": \"Dennis Estrada is a 30-year-old male from the United Kingdom. He is a genius-level intellect who communicates in English. Dennis is a talkative individual with a passion for painting, photography, and astronomy. Despite his high intelligence, he tends to be pessimistic. However, he is patient and not impulsive, which may contribute to his success in his hobbies and intellectual pursuits.\"\n",
      "  }\n",
      "}\n"
     ]
    }
   ],
   "source": [
    "response = chain.invoke({'persona':persona})\n",
    "print(response.additional_kwargs['function_call']['arguments'])"
   ]
  },
  {
   "cell_type": "code",
   "execution_count": null,
   "metadata": {},
   "outputs": [],
   "source": []
  }
 ],
 "metadata": {
  "kernelspec": {
   "display_name": "Python 3.11.5 ('llm_agents')",
   "language": "python",
   "name": "python3"
  },
  "language_info": {
   "codemirror_mode": {
    "name": "ipython",
    "version": 3
   },
   "file_extension": ".py",
   "mimetype": "text/x-python",
   "name": "python",
   "nbconvert_exporter": "python",
   "pygments_lexer": "ipython3",
   "version": "3.11.5"
  },
  "orig_nbformat": 4,
  "vscode": {
   "interpreter": {
    "hash": "d3fb45ff54312d810d3b33eec9af47862c42661f076ce6b0d7045a13e18ceae3"
   }
  }
 },
 "nbformat": 4,
 "nbformat_minor": 2
}
