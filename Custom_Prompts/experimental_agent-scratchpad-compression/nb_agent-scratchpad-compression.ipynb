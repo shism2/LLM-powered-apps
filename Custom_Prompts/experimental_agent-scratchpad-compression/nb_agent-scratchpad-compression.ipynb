{
 "cells": [
  {
   "cell_type": "markdown",
   "metadata": {},
   "source": [
    "### 0. Load environment variables\n",
    "#### Case 1) If you use OpenAI's ChatGPT, then you need store the following variables in '.env' file:\n",
    "\n",
    "- 'OPENAI_API_KEY' = XXXXXXXXXXXXXXX\n",
    "- 'model_name' = XXXXXXXXXXXXXXX\n",
    "\n",
    "##### Case 2) If you use AzureOpenAI's ChatGPT, then you need store the following variables in '.env' file:\n",
    "\n",
    "- 'OPENAI_API_TYPE' = XXXXXXXXXXXXXXX\n",
    "- 'OPENAI_API_VERSION' = XXXXXXXXXXXXXXX\n",
    "- 'OPENAI_API_BASE' = XXXXXXXXXXXXXXX\n",
    "- 'OPENAI_API_KEY' = XXXXXXXXXXXXXXX\n",
    "- 'deployment_name' = XXXXXXXXXXXXXXX"
   ]
  },
  {
   "cell_type": "code",
   "execution_count": 1,
   "metadata": {},
   "outputs": [],
   "source": [
    "import os\n",
    "import sys  \n",
    "from dotenv import load_dotenv\n",
    "sys.path.extend([\"..\", '../..'])  \n",
    "_ = load_dotenv('.env')\n",
    "\n",
    "\n",
    "model_name = os.getenv('deployment_name') if os.getenv('OPENAI_API_TYPE') == 'azure' else os.getenv('model_name')\n",
    "if os.getenv('OPENAI_API_TYPE') == 'azure':\n",
    "    deployment_name = model_name"
   ]
  },
  {
   "cell_type": "markdown",
   "metadata": {},
   "source": [
    "### 1. Fetch the prompt and create a chain (using LCEL)"
   ]
  },
  {
   "cell_type": "code",
   "execution_count": 2,
   "metadata": {},
   "outputs": [],
   "source": [
    "from langchain import hub\n",
    "prompt = hub.pull(\"jet-taekyo-lee/agent-scratchpad-compression\")\n",
    "\n",
    "from langchain.chat_models import AzureChatOpenAI, ChatOpenAI\n",
    "llm = AzureChatOpenAI(deployment_name=deployment_name, temperature=0) if os.getenv('OPENAI_API_TYPE') == 'azure' else ChatOpenAI(model_name=model_name, temperature=0)\n",
    "\n",
    "agent_scratchpad_compression_chain = prompt | llm\n"
   ]
  },
  {
   "cell_type": "markdown",
   "metadata": {},
   "source": [
    "### 2. Create a pseudo AgentAction log and observation for demonstration"
   ]
  },
  {
   "cell_type": "code",
   "execution_count": 29,
   "metadata": {},
   "outputs": [
    {
     "name": "stdout",
     "output_type": "stream",
     "text": [
      "Thought: The user wants to know the current time in New York City and the weather forecast for the next 3 days. I need to use the GetFromDatetimeModule tool to get the current time and the GetFromOpenWeatherMap tool to get the weather forecast. The current time is necessary to provide an accurate response. \n",
      "\n",
      "Action:\n",
      "```\n",
      "{\n",
      "\"action\": \"GetFromDatetimeModule\",\n",
      "\"action_input\": {\"IANA_timezone\": \"America/New_York\"}\n",
      "}\n",
      "```\n",
      "timezone: America/New_York, current time(year-month-day-hour-minute): 2023-11-12-7-18\n"
     ]
    }
   ],
   "source": [
    "# from utils.agent_components.configurations import Configurations\n",
    "# from utils.agent_tools.tools.web_search_tools import get_web_search_tools\n",
    "# from utils.agent_tools.tools.weather_tools import GetFromOpenWeatherMap\n",
    "# from utils.agent_tools.tools.time_tools import GetFromDatetimeModule\n",
    "# from utils.agent_tools.tools.python_repl_tools import GetLangChainPythonRepl\n",
    "# from langchain.prompts import ChatPromptTemplate\n",
    "# from langchain.tools.render import render_text_description_and_args\n",
    "# from langchain.schema.runnable import RunnablePassthrough\n",
    "# from langchain.agents.output_parsers.json import JSONAgentOutputParser\n",
    "# from utils.custom_output_parsers.agent_intermediatte_steps import format_intersteps_to_compressed_scratchpad\n",
    "\n",
    "# config = Configurations(provider='AzureChatOpenAI')\n",
    "# search_tool = get_web_search_tools(config)\n",
    "# weather_tool = GetFromOpenWeatherMap()\n",
    "# time_tool = GetFromDatetimeModule()\n",
    "# python_repl_tool = GetLangChainPythonRepl()\n",
    "# tools = [search_tool, weather_tool, time_tool, python_repl_tool]\n",
    "# tool_dict = {tool.name:tool for tool in tools}\n",
    "\n",
    "# obj = hub.pull(\"jet-taekyo-lee/rag-style-react\")\n",
    "# agent_prompt = ChatPromptTemplate.from_messages([\n",
    "#     obj.messages[0],\n",
    "#     # MessagesPlaceholder(variable_name=\"chat_history\"),  \n",
    "#     obj.messages[1],\n",
    "# ])\n",
    "\n",
    "# agent_prompt = agent_prompt.partial(\n",
    "#         tools=render_text_description_and_args(tools),\n",
    "#         tool_names=\", \".join([t.name for t in tools]),\n",
    "# )\n",
    "\n",
    "\n",
    "\n",
    "# agent = ( RunnablePassthrough.assign(compressed_agent_scratchpad = lambda x: format_intersteps_to_compressed_scratchpad(x[\"intermediate_steps\"], agent_scratchpad_compression_chain))\n",
    "# | agent_prompt \n",
    "# | llm\n",
    "# | JSONAgentOutputParser() )\n",
    "\n",
    "# agent_action = agent.invoke({'intermediate_steps':[], 'input':'Find out the current time in New York City and then provide the weather forecast for the next 3 days in the same location.'})\n",
    "# observation = tool_dict[agent_action.tool].run(tool_input=agent_action.tool_input)\n",
    "\n",
    "agent_action_log = '''Thought: The user wants to know the current time in New York City and the weather forecast for the next 3 days. I need to use the GetFromDatetimeModule tool to get the current time and the GetFromOpenWeatherMap tool to get the weather forecast. The current time is necessary to provide an accurate response. \n",
    "\n",
    "Action:\n",
    "```\n",
    "{\n",
    "\"action\": \"GetFromDatetimeModule\",\n",
    "\"action_input\": {\"IANA_timezone\": \"America/New_York\"}\n",
    "}\n",
    "```'''\n",
    "observation = 'timezone: America/New_York, current time(year-month-day-hour-minute): 2023-11-12-7-18'\n",
    "print(agent_action_log)\n",
    "print(observation)"
   ]
  },
  {
   "cell_type": "markdown",
   "metadata": {},
   "source": [
    "### Get a response"
   ]
  },
  {
   "cell_type": "code",
   "execution_count": 30,
   "metadata": {},
   "outputs": [
    {
     "name": "stdout",
     "output_type": "stream",
     "text": [
      "\"The current time in New York City is 7:18 on November 12th, 2023.\"\n"
     ]
    }
   ],
   "source": [
    "comprerssed_agent_scratchpad = agent_scratchpad_compression_chain.invoke({'log':agent_action_log, 'observation':observation})\n",
    "print(comprerssed_agent_scratchpad.content)"
   ]
  },
  {
   "cell_type": "code",
   "execution_count": null,
   "metadata": {},
   "outputs": [],
   "source": []
  }
 ],
 "metadata": {
  "kernelspec": {
   "display_name": "Python 3.11.5 ('llm_agents')",
   "language": "python",
   "name": "python3"
  },
  "language_info": {
   "codemirror_mode": {
    "name": "ipython",
    "version": 3
   },
   "file_extension": ".py",
   "mimetype": "text/x-python",
   "name": "python",
   "nbconvert_exporter": "python",
   "pygments_lexer": "ipython3",
   "version": "3.11.5"
  },
  "orig_nbformat": 4,
  "vscode": {
   "interpreter": {
    "hash": "d3fb45ff54312d810d3b33eec9af47862c42661f076ce6b0d7045a13e18ceae3"
   }
  }
 },
 "nbformat": 4,
 "nbformat_minor": 2
}
