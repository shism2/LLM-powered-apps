{
 "cells": [
  {
   "cell_type": "markdown",
   "metadata": {},
   "source": [
    "### 0. Load environment variables\n",
    "#### Case 1) If you use OpenAI's ChatGPT, then you need store the following variables in '.env' file:\n",
    "\n",
    "- 'OPENAI_API_KEY' = XXXXXXXXXXXXXXX\n",
    "- 'model_name' = XXXXXXXXXXXXXXX\n",
    "\n",
    "##### Case 2) If you use AzureOpenAI's ChatGPT, then you need store the following variables in '.env' file:\n",
    "\n",
    "- 'OPENAI_API_TYPE' = XXXXXXXXXXXXXXX\n",
    "- 'OPENAI_API_VERSION' = XXXXXXXXXXXXXXX\n",
    "- 'OPENAI_API_BASE' = XXXXXXXXXXXXXXX\n",
    "- 'OPENAI_API_KEY' = XXXXXXXXXXXXXXX\n",
    "- 'deployment_name' = XXXXXXXXXXXXXXX"
   ]
  },
  {
   "cell_type": "code",
   "execution_count": 1,
   "metadata": {},
   "outputs": [],
   "source": [
    "import os\n",
    "import sys  \n",
    "from dotenv import load_dotenv\n",
    "sys.path.extend([\"..\", '../..'])  \n",
    "_ = load_dotenv('.env')\n",
    "\n",
    "\n",
    "model_name = os.getenv('deployment_name') if os.getenv('OPENAI_API_TYPE') == 'azure' else os.getenv('model_name')\n",
    "if os.getenv('OPENAI_API_TYPE') == 'azure':\n",
    "    deployment_name = model_name"
   ]
  },
  {
   "cell_type": "markdown",
   "metadata": {},
   "source": [
    "### 1. Get OpenAI functions\n",
    "This prompt is supposed to work with OpenAI Functions "
   ]
  },
  {
   "cell_type": "code",
   "execution_count": 2,
   "metadata": {},
   "outputs": [],
   "source": [
    "from utils.pydantic_models.agent_trajectory import Trajectory\n",
    "from langchain.utils.openai_functions import convert_pydantic_to_openai_function\n",
    "trajectory_getting_func = convert_pydantic_to_openai_function(Trajectory)"
   ]
  },
  {
   "cell_type": "markdown",
   "metadata": {},
   "source": [
    "### 2. Get an example of input variables for the prompt"
   ]
  },
  {
   "cell_type": "code",
   "execution_count": 3,
   "metadata": {},
   "outputs": [],
   "source": [
    "task = \"Which is bigger? BTS's oldest member's birth month vs. incumbent Korean president's birth month.\"\n",
    "scratchpad = \"\"\"Entering new AgentExecutor chain...\n",
    "Thought: I need to find out the birth month of the oldest member of BTS and the birth month of the current Korean president. \n",
    "\n",
    "Action:\n",
    "{\n",
    "  \"action\": \"GetFromYDC\",\n",
    "  \"action_input\": {\n",
    "    \"Query\": \"Oldest member of BTS birth month\"\n",
    "  }\n",
    "}\n",
    "\n",
    "The oldest member of BTS is Jin, and his birth month is December. He was born on December 4, 1992.Action:\n",
    "\n",
    "Action:\n",
    "\n",
    "{\n",
    "  \"action\": \"GetFromYDC\",\n",
    "  \"action_input\": {\n",
    "    \"Query\": \"Current Korean president birth month\"\n",
    "  }\n",
    "}\n",
    "\n",
    "The current President of South Korea, Yoon Suk Yeol, was born on 18 December 1960. So, his birth month is December.\n",
    "\n",
    "Action:\n",
    "{\n",
    "  \"action\": \"Final Answer\",\n",
    "  \"action_input\": \"The birth month of the oldest member of BTS, Jin, and the birth month of the current Korean president, Yoon Suk Yeol, are both December. Therefore, neither is bigger as they are the same.\"\n",
    "}\n",
    "\n",
    "\n",
    "Finished chain.\"\"\""
   ]
  },
  {
   "cell_type": "markdown",
   "metadata": {},
   "source": [
    "### 3. Fetch the prompt and create a chain (using LCEL)"
   ]
  },
  {
   "cell_type": "code",
   "execution_count": 4,
   "metadata": {},
   "outputs": [],
   "source": [
    "from typing import Literal\n",
    "from langchain import hub\n",
    "from langchain.chat_models import ChatOpenAI, AzureChatOpenAI\n",
    "from utils.custom_output_parsers.functioncall_output_parsers import ReActOutputJsonKeyStrParser\n",
    "\n",
    "\n",
    "def get_OpenAI_chain(provider: Literal['ChatOpenAI', 'AzureChatOpenAI'], model_or_deployment_name: str):\n",
    "    if provider == 'ChatOpenAI':\n",
    "        chat_model = ChatOpenAI(model_name=model_or_deployment_name, temperature=0).bind(functions=[trajectory_getting_func], function_call={'name':'Trajectory'})\n",
    "    else:\n",
    "        chat_model = AzureChatOpenAI(deployment_name=model_or_deployment_name, temperature=0).bind(functions=[trajectory_getting_func], function_call={'name':'Trajectory'})\n",
    "    return chat_model\n",
    "\n",
    "prompt = hub.pull(\"jet-taekyo-lee/tagging-extracting-agent-scratchpad\")\n",
    "provider = 'AzureChatOpenAI'\n",
    "model_or_deployment_name = os.getenv('model_name') if provider == 'ChatOpenAI' else os.getenv('deployment_name')\n",
    "chat_model = get_OpenAI_chain(provider, model_or_deployment_name)\n",
    "\n",
    "\n",
    "\n",
    "chain = prompt | chat_model\n",
    "chain_with_parser = prompt | chat_model | ReActOutputJsonKeyStrParser(key='observations')\n"
   ]
  },
  {
   "cell_type": "markdown",
   "metadata": {},
   "source": [
    "### 4. Get a response"
   ]
  },
  {
   "cell_type": "code",
   "execution_count": 5,
   "metadata": {},
   "outputs": [
    {
     "name": "stdout",
     "output_type": "stream",
     "text": [
      "{\n",
      "  \"task\": \"Which is bigger? BTS's oldest member's birth month vs. incumbent Korean president's birth month.\",\n",
      "  \"thoughts\": [\n",
      "    {\n",
      "      \"thought\": \"I need to find out the birth month of the oldest member of BTS and the birth month of the current Korean president.\"\n",
      "    },\n",
      "    {\n",
      "      \"thought\": \"The oldest member of BTS is Jin, and his birth month is December.\"\n",
      "    },\n",
      "    {\n",
      "      \"thought\": \"The current President of South Korea, Yoon Suk Yeol, was born in December.\"\n",
      "    },\n",
      "    {\n",
      "      \"thought\": \"Therefore, neither is bigger as they are the same.\"\n",
      "    }\n",
      "  ],\n",
      "  \"actions\": [\n",
      "    {\n",
      "      \"action\": \"GetFromYDC\",\n",
      "      \"action_input\": \"Oldest member of BTS birth month\"\n",
      "    },\n",
      "    {\n",
      "      \"action\": \"GetFromYDC\",\n",
      "      \"action_input\": \"Current Korean president birth month\"\n",
      "    },\n",
      "    {\n",
      "      \"action\": \"Final Answer\",\n",
      "      \"action_input\": \"The birth month of the oldest member of BTS, Jin, and the birth month of the current Korean president, Yoon Suk Yeol, are both December. Therefore, neither is bigger as they are the same.\"\n",
      "    }\n",
      "  ],\n",
      "  \"observations\": [\n",
      "    {\n",
      "      \"observation\": \"The oldest member of BTS is Jin, and his birth month is December.\"\n",
      "    },\n",
      "    {\n",
      "      \"observation\": \"The current President of South Korea, Yoon Suk Yeol, was born in December.\"\n",
      "    }\n",
      "  ]\n",
      "}\n"
     ]
    }
   ],
   "source": [
    "response = chain.invoke({'task':task, 'scratchpad':scratchpad})\n",
    "print(response.additional_kwargs['function_call']['arguments'])"
   ]
  },
  {
   "cell_type": "code",
   "execution_count": 6,
   "metadata": {},
   "outputs": [
    {
     "name": "stdout",
     "output_type": "stream",
     "text": [
      "1.  The oldest member of BTS is Jin, and his birth month is December.\n",
      "2.  The current President of South Korea, Yoon Suk Yeol, was born in December.\n"
     ]
    }
   ],
   "source": [
    "response_with_parser = chain_with_parser.invoke({'task':task, 'scratchpad':scratchpad})\n",
    "print(response_with_parser)"
   ]
  },
  {
   "cell_type": "code",
   "execution_count": null,
   "metadata": {},
   "outputs": [],
   "source": []
  }
 ],
 "metadata": {
  "kernelspec": {
   "display_name": "Python 3.11.5 ('llm_agents')",
   "language": "python",
   "name": "python3"
  },
  "language_info": {
   "codemirror_mode": {
    "name": "ipython",
    "version": 3
   },
   "file_extension": ".py",
   "mimetype": "text/x-python",
   "name": "python",
   "nbconvert_exporter": "python",
   "pygments_lexer": "ipython3",
   "version": "3.11.5"
  },
  "orig_nbformat": 4,
  "vscode": {
   "interpreter": {
    "hash": "d3fb45ff54312d810d3b33eec9af47862c42661f076ce6b0d7045a13e18ceae3"
   }
  }
 },
 "nbformat": 4,
 "nbformat_minor": 2
}
