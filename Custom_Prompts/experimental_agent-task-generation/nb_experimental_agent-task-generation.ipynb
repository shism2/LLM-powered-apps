{
 "cells": [
  {
   "cell_type": "markdown",
   "metadata": {},
   "source": [
    "### 0. Load environment variables\n",
    "#### Case 1) If you use OpenAI's ChatGPT, then you need store the following variables in '.env' file:\n",
    "\n",
    "- 'OPENAI_API_KEY' = XXXXXXXXXXXXXXX\n",
    "- 'model_name' = XXXXXXXXXXXXXXX\n",
    "\n",
    "##### Case 2) If you use AzureOpenAI's ChatGPT, then you need store the following variables in '.env' file:\n",
    "\n",
    "- 'OPENAI_API_TYPE' = XXXXXXXXXXXXXXX\n",
    "- 'OPENAI_API_VERSION' = XXXXXXXXXXXXXXX\n",
    "- 'OPENAI_API_BASE' = XXXXXXXXXXXXXXX\n",
    "- 'OPENAI_API_KEY' = XXXXXXXXXXXXXXX\n",
    "- 'deployment_name' = XXXXXXXXXXXXXXX"
   ]
  },
  {
   "cell_type": "code",
   "execution_count": 1,
   "metadata": {},
   "outputs": [],
   "source": [
    "import os\n",
    "import sys  \n",
    "from dotenv import load_dotenv\n",
    "sys.path.extend([\"..\", '../..'])  \n",
    "_ = load_dotenv('.env')\n",
    "\n",
    "\n",
    "model_name = os.getenv('deployment_name') if os.getenv('OPENAI_API_TYPE') == 'azure' else os.getenv('model_name')\n",
    "if os.getenv('OPENAI_API_TYPE') == 'azure':\n",
    "    deployment_name = model_name"
   ]
  },
  {
   "cell_type": "markdown",
   "metadata": {},
   "source": [
    "### 1. Get tools and tool descriptions"
   ]
  },
  {
   "cell_type": "code",
   "execution_count": 2,
   "metadata": {},
   "outputs": [
    {
     "data": {
      "text/plain": [
       "\"tool_1: Googling_from_SerpAPI: This is useful for when you need to search Google to answer questions. You should ask targeted questions. Input should be a single string not a list. Never pass in ['string', $query], Just pass in $query., args: {'tool_input': {'type': 'string'}}\\ntool_2: GetFromOpenWeatherMap: Return the weather information based on current location. Not only can you get the current weather, you can also get weather prediction up to 7 days in advance. This function is two-input function. Input 1: 'IANA_timezone' is the timezone name of the current location with respect to IANA Time Zone Databasse. The default value is 'Asia/Seoul' (str). Input 2: 'Days_from_now', is the number of days from today. The default value is 0 (int). value is string. Only use this function for the current weather and weather forecast for up to 7 days. This functon CANNOT provide historical weather data., args: {'IANA_timezone': {'title': 'Iana Timezone', 'description': 'the region you want to know the weather for', 'default': 'Asia/Seoul', 'type': 'string'}, 'Days_from_now': {'title': 'Days From Now', 'description': 'Number of days after today. 0 means today and 1 means tomorrow, and 2 means the day after tomorrow', 'default': 0, 'minimum': 0, 'maximum': 7, 'type': 'integer'}}\\ntool_3: GetFromDatetimeModule: Return the current time based on location. The input, whose type is string, is the timezone name of the current location with respect to IANA Time Zone Databasse. The default value is Asia/Seoul. The return value is also string. Only use this function for the current time., args: {'IANA_timezone': {'title': 'Iana Timezone', 'description': 'the region you want to know the current time in', 'default': 'Asia/Seoul', 'type': 'string'}}\\ntool_4: Python_REPL: A Python shell. Use this to execute python commands. Input should be a valid python command. If you want to see the output of a value, you should print it out with `print(...)`., args: {'query': {'title': 'Query', 'type': 'string'}}\""
      ]
     },
     "execution_count": 2,
     "metadata": {},
     "output_type": "execute_result"
    }
   ],
   "source": [
    "from utils.agent_components.get_llm import get_base_llm\n",
    "from utils.agent_components.configurations import Configurations\n",
    "config = Configurations(provider='AzureChatOpenAI')\n",
    "\n",
    "\n",
    "from utils.agent_tools.tools.web_search_tools import get_web_search_tools\n",
    "from utils.agent_tools.tools.weather_tools import GetFromOpenWeatherMap\n",
    "from utils.agent_tools.tools.time_tools import GetFromDatetimeModule\n",
    "from utils.agent_tools.tools.python_repl_tools import GetLangChainPythonRepl\n",
    "\n",
    "search_tool = get_web_search_tools(config)\n",
    "weather_tool = GetFromOpenWeatherMap()\n",
    "time_tool = GetFromDatetimeModule()\n",
    "python_repl_tool = GetLangChainPythonRepl()\n",
    "tools = [search_tool, weather_tool, time_tool, python_repl_tool]\n",
    "\n",
    "from utils.agent_tools.render.tools_render import My_render_text_description_and_args\n",
    "tool_descriotions = My_render_text_description_and_args(tools)\n",
    "tool_descriotions"
   ]
  },
  {
   "cell_type": "markdown",
   "metadata": {},
   "source": [
    "### 2. Fetch the prompt and create a chain (using LCEL)"
   ]
  },
  {
   "cell_type": "code",
   "execution_count": 6,
   "metadata": {},
   "outputs": [],
   "source": [
    "from langchain import hub\n",
    "from langchain.chat_models import AzureChatOpenAI, ChatOpenAI\n",
    "from langchain.schema.output_parser import StrOutputParser\n",
    "\n",
    "prompt = hub.pull(\"jet-taekyo-lee/agent-task-generation\")\n",
    "deployment_name = os.getenv('deployment_name')\n",
    "\n",
    "\n",
    "chat_model = AzureChatOpenAI(deployment_name=deployment_name, temperature=0.7) if os.getenv('OPENAI_API_TYPE') == 'azure' else ChatOpenAI(model_name=model_name, temperature=0.7)\n",
    "task_generation_chain = prompt | chat_model | StrOutputParser()\n"
   ]
  },
  {
   "cell_type": "markdown",
   "metadata": {},
   "source": [
    "### 3. Get a response "
   ]
  },
  {
   "cell_type": "code",
   "execution_count": 7,
   "metadata": {},
   "outputs": [
    {
     "data": {
      "text/plain": [
       "'{\"task\": \"Find out the current temperature in New York City.\"}\\n{\"task\": \"What is the current time in Sydney, Australia?\"}\\n{\"task\": \"Perform a Google search to find the highest grossing film of all time.\"}\\n{\"task\": \"Execute the Python command \\'print(5 + 7)\\' and provide the output.\"}\\n{\"task\": \"Forecast the weather in London, UK, two days from now.\"}\\n{\"task\": \"What is the current date and time in Tokyo, Japan?\"}\\n{\"task\": \"Perform a Google search to find the current President of France.\"}\\n{\"task\": \"Execute the Python command \\'print([i*2 for i in range(10)])\\' and provide the output.\"}\\n{\"task\": \"Find out the weather in Berlin, Germany, three days from now.\"}\\n{\"task\": \"What is the current time in Los Angeles, USA?\"}\\n{\"task\": \"Perform a Google search to find the capital city of Brazil.\"}\\n{\"task\": \"Execute the Python command \\'print(sum(range(1, 101)))\\' and provide the output.\"}\\n{\"task\": \"Forecast the weather in Rome, Italy, five days from now.\"}\\n{\"task\": \"What is the current date and time in Dubai, UAE?\"}\\n{\"task\": \"Perform a Google search to find the winner of the 2020 US Presidential Election.\"}\\n{\"task\": \"Execute the Python command \\'print((lambda x, y: x*y)(3, 7))\\' and provide the output.\"}\\n{\"task\": \"Find out the weather in Moscow, Russia, one week from now.\"}\\n{\"task\": \"What is the current time in Hawaii, USA?\"}\\n{\"task\": \"Perform a Google search to find the tallest mountain in the world.\"}\\n{\"task\": \"Execute the Python command \\'print([i**2 for i in range(1, 11)])\\' and provide the output.\"}\\n{\"task\": \"Forecast the weather in Paris, France, four days from now.\"}\\n{\"task\": \"What is the current date and time in Beijing, China?\"}\\n{\"task\": \"Perform a Google search to find the longest river in the world.\"}\\n{\"task\": \"Execute the Python command \\'print(\\\\\"Hello, World!\\\\\")\\' and provide the output.\"}\\n{\"task\": \"Find out the weather in Toronto, Canada, six days from now.\"}\\n{\"task\": \"What is the current time in Madrid, Spain?\"}\\n{\"task\": \"Perform a Google search to find the largest ocean in the world.\"}\\n{\"task\": \"Execute the Python command \\'print(sum([i**3 for i in range(1, 11)]))\\' and provide the output.\"}\\n{\"task\": \"Forecast the weather in Sydney, Australia, three days from now.\"}\\n{\"task\": \"What is the current date and time in Rio de Janeiro, Brazil?\"}\\n{\"task\": \"Perform a Google search to find the most populous country in the world.\"}\\n{\"task\": \"Execute the Python command \\'print([i for i in range(20) if i%2==0])\\' and provide the output.\"}\\n{\"task\": \"Find out the weather in Seoul, South Korea, seven days from now.\"}\\n{\"task\": \"What is the current time in Cape Town, South Africa?\"}\\n{\"task\": \"Perform a Google search to find the fastest animal in the world.\"}\\n{\"task\": \"Execute the Python command \\'print(sum([i**2 for i in range(1, 21)]))\\' and provide the output.\"}\\n{\"task\": \"Forecast the weather in Buenos Aires, Argentina, two days from now.\"}\\n{\"task\": \"What is the current date and time in Toronto, Canada?\"}\\n{\"task\": \"Perform a Google search to find the deepest part of the ocean.\"}\\n{\"task\": \"Execute the Python command \\'print(\\\\\", \\\\\".join([str(i) for i in range(100, 0, -1)]))\\' and provide the output.\"}\\n{\"task\": \"Find out the weather in New Delhi, India, one week from now.\"}\\n{\"task\": \"What is the current time in Moscow, Russia?\"}\\n{\"task\": \"Perform a Google search to find the largest desert in the world.\"}\\n{\"task\": \"Execute the Python command \\'print(sum([i for i in range(1, 101) if i%2==0]))\\' and provide the output.\"}\\n{\"task\": \"Forecast the weather in Cairo, Egypt, five days from now.\"}\\n{\"task\": \"What is the current date and time in Mexico City, Mexico?\"}\\n{\"task\": \"Perform a Google search to find the smallest country in the world by area.\"}\\n{\"task\": \"Execute the Python command \\'print([i for i in range(1, 101) if i%3==0])\\' and provide the output.\"}\\n{\"task\": \"Find out the weather in Athens, Greece, six days from now.\"}\\n{\"task\": \"What is the current time in Wellington, New Zealand?\"}\\n{\"task\": \"Perform a Google search to find the largest island in the world.\"}\\n{\"task\": \"Execute the Python command \\'print(\\\\\" \\\\\".join([\\\\\"FizzBuzz\\\\\" if i%15==0 else \\\\\"Fizz\\\\\" if i%3==0 else \\\\\"Buzz\\\\\" if i%5==0 else str(i) for i in range(1, 101)]))\\' and provide the output.\"}\\n{\"task\": \"Forecast the weather in Dublin, Ireland, four days from now.\"}\\n{\"task\": \"What is the current date and time in Stockholm, Sweden?\"}\\n{\"task\": \"Perform a Google search to find the highest waterfall in the world.\"}\\n{\"task\": \"Execute the Python command \\'print([i for i in range(1, 101) if i%5==0])\\' and provide the output.\"}\\n{\"task\": \"Find out the weather in Helsinki, Finland, seven days from now.\"}\\n{\"task\": \"What is the current time in Oslo, Norway?\"}\\n{\"task\": \"Perform a Google search to find the tallest building in the world.\"}\\n{\"task\": \"Execute the Python command \\'print([i for i in range(1, 101) if i%7==0])\\' and provide the output.\"}\\n{\"task\": \"Forecast the weather in Vienna, Austria, three days from now.\"}\\n{\"task\": \"What is the current date and time in Copenhagen, Denmark?\"}\\n{\"task\": \"Perform a Google search to find the longest bridge in the world.\"}\\n{\"task\": \"Execute the Python command \\'print([i for i in range(1, 101) if i%11==0])\\' and provide the output.\"}\\n{\"task\": \"Find out the weather in Lisbon, Portugal, two days from now.\"}\\n{\"task\": \"What is the current time in Warsaw, Poland?\"}\\n{\"task\": \"Perform a Google search to find the most populous city in the world.\"}\\n{\"task\": \"Execute the Python command \\'print([i for i in range(1, 101) if i%13==0])\\' and provide the output.\"}\\n{\"task\": \"Forecast the weather in Budapest, Hungary, one week from now.\"}\\n{\"task\": \"What is the current date and time in Prague, Czech Republic?\"}\\n{\"task\": \"Perform a Google search to find the oldest university in the world.\"}\\n{\"task\": \"Execute the Python command \\'print([i for i in range(1, 101) if i%17==0])\\' and provide the output.\"}\\n{\"task\": \"Find out the weather in Brussels, Belgium, five days from now.\"}\\n{\"task\": \"What is the current time in Zurich, Switzerland?\"}\\n{\"task\": \"Perform a Google search to find the largest lake in the world.\"}\\n{\"task\": \"Execute the Python command \\'print([i for i in range(1, 101) if i%19==0])\\' and provide the output.\"}\\n{\"task\": \"Forecast the weather in Amsterdam, Netherlands, four days from now.\"}\\n{\"task\": \"What is the current date and time in Tel Aviv, Israel?\"}\\n{\"task\": \"Perform a Google search to find the most spoken language in the world.\"}\\n{\"task\": \"Execute the Python command \\'print([i for i in range(1, 101) if i%23==0])\\' and provide the output.\"}\\n{\"task\": \"Find out the weather in Riyadh, Saudi Arabia, three days from now.\"}\\n{\"task\": \"What is the current time in Tehran, Iran?\"}\\n{\"task\": \"Perform a Google search to find the richest person in the world.\"}\\n{\"task\": \"Execute the Python command \\'print([i for i in range(1, 101) if i%29==0])\\' and provide the output.\"}\\n{\"task\": \"Forecast the weather in Istanbul, Turkey, two days from now.\"}\\n{\"task\": \"What is the current date and time in Islamabad, Pakistan?\"}\\n{\"task\": \"Perform a Google search to find the largest forest in the world.\"}\\n{\"task\": \"Execute the Python command \\'print([i for i in range(1, 101) if i%31==0])\\' and provide the output.\"}\\n{\"task\": \"Find out the weather in Dhaka, Bangladesh, one week from now.\"}\\n{\"task\": \"What is the current time in New Delhi, India?\"}\\n{\"task\": \"Perform a Google search to find the largest dinosaur ever discovered.\"}\\n{\"task\": \"Execute the Python command \\'print([i for i in range(1, 101) if i%37==0])\\' and provide the output.\"}\\n{\"task\": \"Forecast the weather in Jakarta, Indonesia, six days from now.\"}\\n{\"task\": \"What is the current date and time in Manila, Philippines?\"}\\n{\"task\": \"Perform a Google search to find the most dangerous animal in the world.\"}\\n{\"task\": \"Execute the Python command \\'print([i for i in range(1, 101) if i%41==0])\\' and provide the output.\"}\\n{\"task\": \"Find out the weather in Kuala Lumpur, Malaysia, five days from now.\"}\\n{\"task\": \"What is the current time in Bangkok, Thailand?\"}\\n{\"task\": \"Perform a Google search to find the most visited city in the world.\"}\\n{\"task\": \"Execute the Python command \\'print([i for i in range(1, 101) if i%43==0])\\' and provide the output.\"}\\n{\"task\": \"Forecast the weather in Singapore, Singapore, four days from now.\"}\\n{\"task\": \"What is the current date and time in Hanoi, Vietnam?\"}\\n{\"task\": \"Perform a Google search to find the most expensive painting ever sold.\"}\\n{\"task\": \"Execute the Python command \\'print([i for i in range(1, 101) if i%47==0])\\' and provide the output.\"}\\n{\"task\": \"Find out the weather in Taipei, Taiwan, three days from now.\"}\\n{\"task\": \"What is the current time in Seoul, South Korea?\"}\\n{\"task\": \"Perform a Google search to find the most popular sport in the world.\"}\\n{\"task\": \"Execute the Python command \\'print([i for i in range(1, 101) if i%53==0])\\' and provide the output.\"}\\n{\"task\": \"Forecast the weather in Tokyo, Japan, two days from now.\"}\\n{\"task\": \"What is the current date and time in Beijing, China?\"}\\n{\"task\": \"Perform a Google search to find the most successful football club in the world.\"}\\n{\"task\": \"Execute the Python command \\'print([i for i in range(1, 101) if i%59==0])\\' and provide the output.\"}\\n{\"task\": \"Find out the weather in Hong Kong, China, one week from now.\"}\\n{\"task\": \"What is the current time in Sydney, Australia?\"}\\n{\"task\": \"Perform a Google search to find the most translated book in the world.\"}\\n{\"task\": \"Execute the Python command \\'print([i for i in range(1, 101) if i%61==0])\\' and provide the output.\"}\\n{\"task\": \"Forecast the weather in Melbourne, Australia, seven days from now.\"}\\n{\"task\": \"What is the current date and time in Wellington, New Zealand?\"}\\n{\"task\": \"Perform a Google search to find the largest volcano in the world.\"}\\n{\"task\": \"Execute the Python command \\'print([i for i in range(1, 101) if i%67==0])\\' and provide the output.\"}\\n{\"task\": \"Find out the weather in Auckland, New Zealand, six days from now.\"}\\n{\"task\": \"What is the current time in Fiji, Fiji?\"}\\n{\"task\": \"Perform a Google search to find the largest animal in the world.\"}\\n{\"task\": \"Execute the Python command \\'print([i for i in range(1, 101) if i%71==0])\\' and provide the output.\"}\\n{\"task\": \"Forecast the weather in Samoa, Samoa, five days from now.\"}\\n{\"task\": \"What is the current date and time in Tonga, Tonga?\"}\\n{\"task\": \"Perform a Google search to find the deepest lake in the world.\"}\\n{\"task\": \"Execute the Python command \\'print([i for i in range(1, 101) if i%73==0])\\' and provide the output.\"}\\n{\"task\": \"Find out the weather in Tahiti, French Polynesia, four days from now.\"}\\n{\"task\": \"What is the current time in Honolulu, Hawaii, USA?\"}\\n{\"task\": \"Perform a Google search to find the oldest living organism in the world.\"}\\n{\"task\": \"Execute the Python command \\'print([i for i in range(1, 101) if i%79==0])\\' and provide the output.\"}\\n{\"task\": \"Forecast the weather in Alaska, USA, three days from now.\"}'"
      ]
     },
     "execution_count": 7,
     "metadata": {},
     "output_type": "execute_result"
    }
   ],
   "source": [
    "answer = task_generation_chain.invoke({'tool_descriotions':tool_descriotions, 'num_tasks':100, 'h':3})\n",
    "answer"
   ]
  },
  {
   "cell_type": "markdown",
   "metadata": {},
   "source": [
    "### 4. Save outpus as jsonl object"
   ]
  },
  {
   "cell_type": "code",
   "execution_count": 8,
   "metadata": {},
   "outputs": [],
   "source": [
    "from utils.post_processing.save_outputs_as_files import save_as_jsonl_files\n",
    "save_as_jsonl_files(answer, file_name='temp_0_7.jsonl')"
   ]
  },
  {
   "cell_type": "code",
   "execution_count": null,
   "metadata": {},
   "outputs": [],
   "source": []
  }
 ],
 "metadata": {
  "kernelspec": {
   "display_name": "Python 3.11.5 ('llm_agents')",
   "language": "python",
   "name": "python3"
  },
  "language_info": {
   "codemirror_mode": {
    "name": "ipython",
    "version": 3
   },
   "file_extension": ".py",
   "mimetype": "text/x-python",
   "name": "python",
   "nbconvert_exporter": "python",
   "pygments_lexer": "ipython3",
   "version": "3.11.5"
  },
  "orig_nbformat": 4,
  "vscode": {
   "interpreter": {
    "hash": "d3fb45ff54312d810d3b33eec9af47862c42661f076ce6b0d7045a13e18ceae3"
   }
  }
 },
 "nbformat": 4,
 "nbformat_minor": 2
}
