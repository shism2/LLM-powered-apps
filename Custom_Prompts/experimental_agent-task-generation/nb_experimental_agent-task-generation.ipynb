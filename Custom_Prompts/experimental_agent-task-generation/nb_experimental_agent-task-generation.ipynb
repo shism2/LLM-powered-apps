{
 "cells": [
  {
   "cell_type": "markdown",
   "metadata": {},
   "source": [
    "### 0. Load environment variables\n",
    "#### Case 1) If you use OpenAI's ChatGPT, then you need store the following variables in '.env' file:\n",
    "\n",
    "- 'OPENAI_API_KEY' = XXXXXXXXXXXXXXX\n",
    "- 'model_name' = XXXXXXXXXXXXXXX\n",
    "\n",
    "##### Case 2) If you use AzureOpenAI's ChatGPT, then you need store the following variables in '.env' file:\n",
    "\n",
    "- 'OPENAI_API_TYPE' = XXXXXXXXXXXXXXX\n",
    "- 'OPENAI_API_VERSION' = XXXXXXXXXXXXXXX\n",
    "- 'OPENAI_API_BASE' = XXXXXXXXXXXXXXX\n",
    "- 'OPENAI_API_KEY' = XXXXXXXXXXXXXXX\n",
    "- 'deployment_name' = XXXXXXXXXXXXXXX"
   ]
  },
  {
   "cell_type": "code",
   "execution_count": 3,
   "metadata": {},
   "outputs": [],
   "source": [
    "import os\n",
    "import sys  \n",
    "from dotenv import load_dotenv\n",
    "sys.path.extend([\"..\", '../..'])  \n",
    "_ = load_dotenv('.env')\n",
    "\n",
    "\n",
    "model_name = os.getenv('deployment_name') if os.getenv('OPENAI_API_TYPE') == 'azure' else os.getenv('model_name')\n",
    "if os.getenv('OPENAI_API_TYPE') == 'azure':\n",
    "    deployment_name = model_name"
   ]
  },
  {
   "cell_type": "markdown",
   "metadata": {},
   "source": [
    "### 1. Get tools and tool descriptions"
   ]
  },
  {
   "cell_type": "code",
   "execution_count": 2,
   "metadata": {},
   "outputs": [
    {
     "data": {
      "text/plain": [
       "\"tool_1: Googling_from_SerpAPI: This is useful for when you need to search Google to answer questions. You should ask targeted questions. Input should be a single string not a list. Never pass in ['string', $query], Just pass in $query., args: {'tool_input': {'type': 'string'}}\\ntool_2: GetFromOpenWeatherMap: Return the weather information based on current location. Not only can you get the current weather, you can also get weather prediction up to 7 days in advance. This function is two-input function. Input 1: 'IANA_timezone' is the timezone name of the current location with respect to IANA Time Zone Databasse. The default value is 'Asia/Seoul' (str). Input 2: 'Days_from_now', is the number of days from today. The default value is 0 (int). value is string. Only use this function for the current weather and weather forecast for up to 7 days. This functon CANNOT provide historical weather data., args: {'IANA_timezone': {'title': 'Iana Timezone', 'description': 'the region you want to know the weather for', 'default': 'Asia/Seoul', 'type': 'string'}, 'Days_from_now': {'title': 'Days From Now', 'description': 'Number of days after today. 0 means today and 1 means tomorrow, and 2 means the day after tomorrow', 'default': 0, 'minimum': 0, 'maximum': 7, 'type': 'integer'}}\\ntool_3: GetFromDatetimeModule: Return the current time based on location. The input, whose type is string, is the timezone name of the current location with respect to IANA Time Zone Databasse. The default value is Asia/Seoul. The return value is also string. Only use this function for the current time., args: {'IANA_timezone': {'title': 'Iana Timezone', 'description': 'the region you want to know the current time in', 'default': 'Asia/Seoul', 'type': 'string'}}\\ntool_4: Python_REPL: A Python shell. Use this to execute python commands. Input should be a valid python command. If you want to see the output of a value, you should print it out with `print(...)`., args: {'query': {'title': 'Query', 'type': 'string'}}\""
      ]
     },
     "execution_count": 2,
     "metadata": {},
     "output_type": "execute_result"
    }
   ],
   "source": [
    "from utils.agent_components.get_llm import get_base_llm\n",
    "from utils.agent_components.configurations import Configurations\n",
    "config = Configurations(provider='AzureChatOpenAI')\n",
    "\n",
    "\n",
    "from utils.agent_tools.tools.web_search_tools import get_web_search_tools\n",
    "from utils.agent_tools.tools.weather_tools import GetFromOpenWeatherMap\n",
    "from utils.agent_tools.tools.time_tools import GetFromDatetimeModule\n",
    "from utils.agent_tools.tools.python_repl_tools import GetLangChainPythonRepl\n",
    "\n",
    "search_tool = get_web_search_tools(config)\n",
    "weather_tool = GetFromOpenWeatherMap()\n",
    "time_tool = GetFromDatetimeModule()\n",
    "python_repl_tool = GetLangChainPythonRepl()\n",
    "tools = [search_tool, weather_tool, time_tool, python_repl_tool]\n",
    "\n",
    "from utils.agent_tools.render.tools_render import My_render_text_description_and_args\n",
    "tool_descriotions = My_render_text_description_and_args(tools)\n",
    "tool_descriotions"
   ]
  },
  {
   "cell_type": "markdown",
   "metadata": {},
   "source": [
    "### 2. Fetch the prompt and create a chain (using LCEL)"
   ]
  },
  {
   "cell_type": "code",
   "execution_count": 5,
   "metadata": {},
   "outputs": [],
   "source": [
    "from langchain import hub\n",
    "from langchain.chat_models import AzureChatOpenAI, ChatOpenAI\n",
    "\n",
    "prompt = hub.pull(\"jet-taekyo-lee/agent-task-generation\")\n",
    "deployment_name = os.getenv('deployment_name')\n",
    "\n",
    "\n",
    "chat_model = AzureChatOpenAI(deployment_name=deployment_name, temperature=0) if os.getenv('OPENAI_API_TYPE') == 'azure' else ChatOpenAI(model_name=model_name, temperature=0)\n",
    "task_generation_chain = prompt | chat_model\n"
   ]
  },
  {
   "cell_type": "markdown",
   "metadata": {},
   "source": [
    "### 3. Get a response "
   ]
  },
  {
   "cell_type": "code",
   "execution_count": 6,
   "metadata": {},
   "outputs": [
    {
     "name": "stdout",
     "output_type": "stream",
     "text": [
      "{\"task\": \"1. Find out the current time in New York City and then calculate the number of seconds that will pass until the same time tomorrow.\"}\n",
      "\n",
      "{\"task\": \"2. Determine the weather forecast for London, UK, two days from now and then search online for suggestions on what to wear in such weather conditions.\"}\n",
      "\n",
      "{\"task\": \"3. Get the current weather in Tokyo, Japan, and then search online for the impact of such weather conditions on the local traffic.\"}\n"
     ]
    }
   ],
   "source": [
    "answer = task_generation_chain.invoke({'tool_descriotions':tool_descriotions, 'num_tasks':3, 'h':2})\n",
    "print(answer.content)"
   ]
  },
  {
   "cell_type": "code",
   "execution_count": null,
   "metadata": {},
   "outputs": [],
   "source": []
  }
 ],
 "metadata": {
  "kernelspec": {
   "display_name": "Python 3.11.5 ('llm_agents')",
   "language": "python",
   "name": "python3"
  },
  "language_info": {
   "codemirror_mode": {
    "name": "ipython",
    "version": 3
   },
   "file_extension": ".py",
   "mimetype": "text/x-python",
   "name": "python",
   "nbconvert_exporter": "python",
   "pygments_lexer": "ipython3",
   "version": "3.11.5"
  },
  "orig_nbformat": 4,
  "vscode": {
   "interpreter": {
    "hash": "d3fb45ff54312d810d3b33eec9af47862c42661f076ce6b0d7045a13e18ceae3"
   }
  }
 },
 "nbformat": 4,
 "nbformat_minor": 2
}
