{
 "cells": [
  {
   "cell_type": "code",
   "execution_count": 1,
   "metadata": {},
   "outputs": [],
   "source": [
    "import load_envs\n",
    "LLM_DEPLOYMENT_NAME= os.getenv(\"AZURE_OPENAI_LLM_DEPLOYMENT_NAME\")\n",
    "EMBEDDING_DEPLOYMENT_NAME= os.getenv(\"EMBEDDING_DEPLOYMENT_NAME\")\n",
    "from langchain.chat_models import AzureChatOpenAI\n",
    "llm = AzureChatOpenAI(deployment_name=LLM_DEPLOYMENT_NAME, temperature=0.0)\n",
    "from CustomAgents import OpenAIFunctionCallAgent, ZeroShotReActAgent"
   ]
  },
  {
   "cell_type": "code",
   "execution_count": 2,
   "metadata": {},
   "outputs": [],
   "source": [
    "agent = ZeroShotReActAgent(llm)"
   ]
  },
  {
   "cell_type": "code",
   "execution_count": 3,
   "metadata": {},
   "outputs": [
    {
     "name": "stdout",
     "output_type": "stream",
     "text": [
      "\n",
      "\n",
      "\u001b[1m> Entering new AgentExecutor chain...\u001b[0m\n",
      "\u001b[32;1m\u001b[1;3mThought: The user is asking for the current weather in Korea. I can use the GetFromOpenWeatherMap tool to get this information. \n",
      "Action:\n",
      "```\n",
      "{\n",
      "  \"action\": \"GetFromOpenWeatherMap\",\n",
      "  \"action_input\": {\n",
      "    \"IANA_timezone\": \"Asia/Seoul\",\n",
      "    \"Days_from_now\": 0\n",
      "  }\n",
      "}\n",
      "```\u001b[0m\n",
      "Observation: \u001b[38;5;200m\u001b[1;3myear-month-day: 2023-10-26, hour-minute: 15-8, temperature: 20.660000000000025, humidity: 65, wind_speed: 4.16, weather_summary: Expect a day of partly cloudy with rain.\u001b[0m\n",
      "Thought:\u001b[32;1m\u001b[1;3mThe tool has provided the current weather in Korea. It's partly cloudy with rain, the temperature is around 20.66 degrees Celsius, the humidity is at 65%, and the wind speed is 4.16 m/s. Now I can provide this information to the user.\n",
      "Action:\n",
      "```\n",
      "{\n",
      "  \"action\": \"Final Answer\",\n",
      "  \"action_input\": \"현재 한국의 날씨는 부분적으로 흐리며 비가 내리고 있습니다. 온도는 약 20.66도, 습도는 65%, 풍속은 4.16m/s입니다.\"\n",
      "}\n",
      "```\u001b[0m\n",
      "\n",
      "\u001b[1m> Finished chain.\u001b[0m\n"
     ]
    },
    {
     "data": {
      "text/plain": [
       "'현재 한국의 날씨는 부분적으로 흐리며 비가 내리고 있습니다. 온도는 약 20.66도, 습도는 65%, 풍속은 4.16m/s입니다.'"
      ]
     },
     "execution_count": 3,
     "metadata": {},
     "output_type": "execute_result"
    }
   ],
   "source": [
    "agent.run(\"지금 한국 날씨는?\")"
   ]
  },
  {
   "cell_type": "code",
   "execution_count": 4,
   "metadata": {},
   "outputs": [
    {
     "name": "stdout",
     "output_type": "stream",
     "text": [
      "\n",
      "\n",
      "\u001b[1m> Entering new AgentExecutor chain...\u001b[0m\n",
      "\u001b[32;1m\u001b[1;3mThought: To answer this question, I need to find out the age of the oldest member of BTS and the age of the current South Korean president. I will start by finding the age of the oldest member of BTS.\n",
      "Action:\n",
      "```\n",
      "{\n",
      "  \"action\": \"Googling_from_SerpAPI\",\n",
      "  \"action_input\": \"oldest member of BTS age\"\n",
      "}\n",
      "```\u001b[0m\n",
      "Observation: \u001b[36;1m\u001b[1;3m[\"With their youngest member being just 15 when the band debuted, BTS' members are a varied range of ages from 23 to 28. BTS Member J-Hope Does a ...\"]\u001b[0m\n",
      "Thought:\u001b[32;1m\u001b[1;3mThe search result indicates that the oldest member of BTS is 28 years old. Now, I need to find out the age of the current South Korean president.\n",
      "Action:\n",
      "```\n",
      "{\n",
      "  \"action\": \"Googling_from_SerpAPI\",\n",
      "  \"action_input\": \"current South Korean president age\"\n",
      "}\n",
      "```\u001b[0m\n",
      "Observation: \u001b[36;1m\u001b[1;3m62 years\u001b[0m\n",
      "Thought:\u001b[32;1m\u001b[1;3mThe current South Korean president is 62 years old. Now, I will add the age of the oldest BTS member (28 years old) to the age of the South Korean president (62 years old).\n",
      "Action:\n",
      "```\n",
      "{\n",
      "  \"action\": \"Get_from_Wolfram\",\n",
      "  \"action_input\": \"28 + 62\"\n",
      "}\n",
      "```\u001b[0m\n",
      "Observation: \u001b[33;1m\u001b[1;3mAssumption: 28 + 62 \n",
      "Answer: 90\u001b[0m\n",
      "Thought:\u001b[32;1m\u001b[1;3mThe sum of the age of the oldest member of BTS (28 years old) and the age of the current South Korean president (62 years old) is 90 years old.\n",
      "Action:\n",
      "```\n",
      "{\n",
      "  \"action\": \"Final Answer\",\n",
      "  \"action_input\": \"The sum of the age of the oldest member of BTS and the age of the current South Korean president is 90 years old.\"\n",
      "}\n",
      "```\u001b[0m\n",
      "\n",
      "\u001b[1m> Finished chain.\u001b[0m\n"
     ]
    },
    {
     "data": {
      "text/plain": [
       "'The sum of the age of the oldest member of BTS and the age of the current South Korean president is 90 years old.'"
      ]
     },
     "execution_count": 4,
     "metadata": {},
     "output_type": "execute_result"
    }
   ],
   "source": [
    "agent.run(\"bts에서 가장 나이 많은 멤버의 나이와 한국 대통령의 나이를 더하면?\")"
   ]
  },
  {
   "cell_type": "code",
   "execution_count": null,
   "metadata": {},
   "outputs": [],
   "source": []
  }
 ],
 "metadata": {
  "kernelspec": {
   "display_name": "Python 3.11.4 ('chatbot')",
   "language": "python",
   "name": "python3"
  },
  "language_info": {
   "codemirror_mode": {
    "name": "ipython",
    "version": 3
   },
   "file_extension": ".py",
   "mimetype": "text/x-python",
   "name": "python",
   "nbconvert_exporter": "python",
   "pygments_lexer": "ipython3",
   "version": "3.11.4"
  },
  "orig_nbformat": 4,
  "vscode": {
   "interpreter": {
    "hash": "4a48cb8897ef53965bad7891a801bd943c8046bb49f7a220c54fb88a193fc026"
   }
  }
 },
 "nbformat": 4,
 "nbformat_minor": 2
}
