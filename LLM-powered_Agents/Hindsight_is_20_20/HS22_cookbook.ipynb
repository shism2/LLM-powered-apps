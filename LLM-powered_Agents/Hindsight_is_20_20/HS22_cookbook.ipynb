{
 "cells": [
  {
   "cell_type": "markdown",
   "metadata": {},
   "source": [
    "### Load Envs "
   ]
  },
  {
   "cell_type": "code",
   "execution_count": 1,
   "metadata": {},
   "outputs": [
    {
     "data": {
      "text/plain": [
       "<utils.load_envs.Environ at 0x7fa56d5d3210>"
      ]
     },
     "execution_count": 1,
     "metadata": {},
     "output_type": "execute_result"
    }
   ],
   "source": [
    "import os\n",
    "from reasoning_engines.langchain_llm_wrappers import QuickAzureChatOpenAI\n",
    "from tools.get_tools import get_all_schemas_and_tools_by_default\n",
    "from langchain import hub\n",
    "from utils.load_envs import Environ\n",
    "\n",
    "from chains.qa_evaluators import CustomQAEvaluator\n",
    "\n",
    "\n",
    "\n",
    "GPT_VER = '1106'\n",
    "Environ(GPT_VER)"
   ]
  },
  {
   "cell_type": "markdown",
   "metadata": {},
   "source": [
    "### ReAct"
   ]
  },
  {
   "cell_type": "code",
   "execution_count": null,
   "metadata": {},
   "outputs": [],
   "source": [
    "#### ReAct Agent\n",
    "from agents.react_agents import ReActAgent\n",
    "react_prompt = \"hwchase17/react-multi-input-json\"\n",
    "\n",
    "react_agent = ReActAgent(reasoninig_engine=QuickAzureChatOpenAI(version=GPT_VER), \n",
    "                        base_prompt=react_prompt, \n",
    "                        schemas_and_tools=get_all_schemas_and_tools_by_default(azure_gpt_version=GPT_VER), \n",
    "                        evaluator=CustomQAEvaluator(llm=QuickAzureChatOpenAI(version=GPT_VER)), \n",
    "                        stop_words=[\"Observation\"], \n",
    "                        thought_word= 'Thought', \n",
    "                        action_word='Action',\n",
    "                        file_logging=True,\n",
    "                        horizon=5)\n",
    "\n",
    "\n",
    "react_agent.clear_logs()\n",
    "react_agent.run_agent_trials(num_trials=3, \n",
    "query=\"Which one is bigger, 'World War 2 outbreak year plus Donald Trumps birth month' vs. 'U.S. Independece-day year plus Michael Jordan birth year'?\",\n",
    "# query=\"Sort the following list in an descending order [1, 6, 3, 6, 8, 3, 5, 0]\",\n",
    "# query=\"How is the weather in Boston tomorrow?\",\n",
    "# reference=\"'U.S. Independece-day year plus Michael Jordan birth year' is bigger.\")\n",
    ")\n"
   ]
  },
  {
   "cell_type": "markdown",
   "metadata": {},
   "source": [
    "### Reflexion ReAct"
   ]
  },
  {
   "cell_type": "code",
   "execution_count": null,
   "metadata": {},
   "outputs": [],
   "source": [
    "#### Reflexion Agent\n",
    "from agents.reflexion_react_agents import ReflexionReActAgent\n",
    "from chains.reflexion_chains import BaseReflexionChain\n",
    "from fewshot_examples.reflections import REACT_REFLECTION_HEADER, REACT_REFLECTIONS\n",
    "   \n",
    "reflexion_chains = BaseReflexionChain(\n",
    "                    reasoninig_engine=QuickAzureChatOpenAI(version=GPT_VER),\n",
    "                    prompt=\"jet-taekyo-lee/experimental-reflextion\", \n",
    "                    schemas_and_tools=get_all_schemas_and_tools_by_default(azure_gpt_version=GPT_VER),\n",
    "                    reflexion_examples=REACT_REFLECTIONS\n",
    "                    )\n",
    "\n",
    "reflexion_prompt = \"jet-taekyo-lee/reflexion-react\"\n",
    "reflexion_agent = ReflexionReActAgent(\n",
    "                        reflexion_chain = reflexion_chains,\n",
    "                        reflexion_header = REACT_REFLECTION_HEADER,\n",
    "                        reasoninig_engine=QuickAzureChatOpenAI(version=GPT_VER), \n",
    "                        base_prompt=react_prompt, \n",
    "                        schemas_and_tools=get_all_schemas_and_tools_by_default(azure_gpt_version=GPT_VER), \n",
    "                        evaluator=CustomQAEvaluator(llm=QuickAzureChatOpenAI(version=GPT_VER)), \n",
    "                        stop_words=[\"Observation\"], \n",
    "                        thought_word= 'Thought', \n",
    "                        action_word='Action',\n",
    "                        file_logging=True,\n",
    "                        horizon=5)\n",
    "\n",
    "\n",
    "\n",
    "reflexion_agent.clear_logs()\n",
    "reflexion_agent.run_agent_trials(num_trials=3, \n",
    "query=\"Which one is bigger, 'World War 2 outbreak year plus Donald Trumps birth month' vs. 'U.S. Independece-day year plus Michael Jordan birth year'? And How is the weather in Boston tomorrow?\",\n",
    "reference=\"'U.S. Independece-day year plus Michael Jordan birth year' is bigger.\")\n",
    "\n"
   ]
  },
  {
   "cell_type": "markdown",
   "metadata": {},
   "source": [
    "### OpenAI FunctionCalling agent"
   ]
  },
  {
   "cell_type": "code",
   "execution_count": 4,
   "metadata": {},
   "outputs": [
    {
     "name": "stderr",
     "output_type": "stream",
     "text": [
      "[INFO] Query: How old are the current Korean president and Joe Biden?\n",
      "[INFO] Trial 1\n",
      "[INFO] Invoking 1: YDCSearch(query='current age of the president of South Korea')\n",
      "[INFO] Observation 1: Yoon Suk Yeol, the current president of South Korea, was born on December 18, 1960. As of today, he is 62 years old.\n",
      "[INFO] Invoking 2: YDCSearch(query='current age of Joe Biden')\n"
     ]
    },
    {
     "name": "stdout",
     "output_type": "stream",
     "text": [
      "RateLimitError for _get_function_observation. -----> Will automatically retry 54 seconds later.\n",
      "54 53 52 51 50 49 48 47 46 45 44 43 42 41 40 39 38 37 36 35 34 33 32 31 30 29 28 27 26 25 24 23 22 21 20 19 18 17 16 15 14 13 12 11 10 9 8 7 6 5 4 3 2 1 "
     ]
    },
    {
     "name": "stderr",
     "output_type": "stream",
     "text": [
      "[INFO] Observation 2: As of the current date, Joe Biden is 80 years old. He was born on November 20, 1942.\n",
      "[INFO] Invoking 3: Yoon Suk Yeol is 62 years old and Joe Biden is 80 years old.\n",
      "[INFO] Answer: Yoon Suk Yeol is 62 years old and Joe Biden is 80 years old.\n",
      "[INFO] Jugdement: Your answer is incorrect. The correct answer is \"Joe Biden is 81 years old and the current Korean president, Yoon Suk Yeol, is 62 years old.\"\n",
      "[INFO] Trial 2\n",
      "[INFO] Invoking 1: YDCSearch(query='current age of President of South Korea')\n"
     ]
    },
    {
     "name": "stdout",
     "output_type": "stream",
     "text": [
      "RateLimitError for _get_function_observation. -----> Will automatically retry 52 seconds later.\n",
      "52 51 50 49 48 47 46 45 44 43 42 41 40 39 38 37 36 35 34 33 32 31 30 29 28 27 26 25 24 23 22 21 20 19 18 17 16 15 14 13 12 11 10 9 8 7 6 5 4 3 2 1 "
     ]
    },
    {
     "name": "stderr",
     "output_type": "stream",
     "text": [
      "[INFO] Observation 1: As of the information provided, Yoon Suk Yeol, the current President of South Korea, was born on December 18, 1960. Therefore, as of today's date, April 28, 2023, he is 62 years old.\n",
      "[INFO] Invoking 2: YDCSearch(query='current age of Joe Biden')\n"
     ]
    },
    {
     "name": "stdout",
     "output_type": "stream",
     "text": [
      "RateLimitError for _get_function_observation. -----> Will automatically retry 54 seconds later.\n",
      "54 53 52 51 50 49 48 47 46 45 44 43 42 41 40 39 38 37 36 35 34 33 32 31 30 29 28 27 26 25 24 23 22 21 20 19 18 17 16 15 14 13 12 11 10 9 8 7 6 5 4 3 2 1 "
     ]
    },
    {
     "name": "stderr",
     "output_type": "stream",
     "text": [
      "[INFO] Observation 2: As of the current date, Joe Biden is 80 years old. He was born on November 20, 1942.\n",
      "[INFO] Invoking 3: The current Korean president, Yoon Suk Yeol, is 62 years old, and Joe Biden is 80 years old.\n",
      "[INFO] Answer: The current Korean president, Yoon Suk Yeol, is 62 years old, and Joe Biden is 80 years old.\n",
      "[INFO] Jugdement: Your answer is incorrect. The correct answer is \"Joe Biden is 81 years old and the current Korean president, Yoon Suk Yeol, is 62 years old.\"\n",
      "[INFO] Trial 3\n",
      "[INFO] Invoking 1: YDCSearch(query='current Korean president age')\n"
     ]
    },
    {
     "name": "stdout",
     "output_type": "stream",
     "text": [
      "RateLimitError for _get_function_observation. -----> Will automatically retry 53 seconds later.\n",
      "53 52 51 50 49 48 47 46 45 44 43 42 41 40 39 38 37 36 35 34 33 32 31 30 29 28 27 26 25 24 23 22 21 20 19 18 17 16 15 14 13 12 11 10 9 8 7 6 5 4 3 2 1 "
     ]
    },
    {
     "name": "stderr",
     "output_type": "stream",
     "text": [
      "[INFO] Observation 1: The current president of South Korea, Yoon Suk Yeol, was born on December 18, 1960. As of today, he is 61 years old.\n",
      "[INFO] Invoking 2: YDCSearch(query='Joe Biden age')\n"
     ]
    },
    {
     "name": "stdout",
     "output_type": "stream",
     "text": [
      "RateLimitError for _get_function_observation. -----> Will automatically retry 55 seconds later.\n",
      "55 54 53 52 51 50 49 48 47 46 45 44 43 42 41 40 39 38 37 36 35 34 33 32 31 30 29 28 27 26 25 24 23 22 21 20 19 18 17 16 15 14 13 12 11 10 9 8 7 6 5 4 3 2 1 "
     ]
    },
    {
     "name": "stderr",
     "output_type": "stream",
     "text": [
      "[INFO] Observation 2: Joe Biden is 81 years old. He was born on November 20, 1942.\n",
      "[INFO] Invoking 3: Yoon Suk Yeol: 61 Jahre alt, Joe Biden: 81 Jahre alt.\n",
      "[INFO] Answer: Yoon Suk Yeol: 61 Jahre alt, Joe Biden: 81 Jahre alt.\n",
      "[INFO] Jugdement: Your answer is incorrect. The correct answer is \"Joe Biden is 81 years old and the current Korean president, Yoon Suk Yeol, is 62 years old.\"\n"
     ]
    }
   ],
   "source": [
    "# #### OepnAI Agent\n",
    "from agents.openai_function_calling_agent import OpenAIFuntionCallingAgent\n",
    "openai_agent = OpenAIFuntionCallingAgent(\n",
    "    reasoninig_engine = QuickAzureChatOpenAI(version=GPT_VER),\n",
    "    base_prompt = \"jet-taekyo-lee/openai-function-calling-agent\",\n",
    "    schemas_and_tools=get_all_schemas_and_tools_by_default(azure_gpt_version=GPT_VER),\n",
    "    evaluator = CustomQAEvaluator(llm=QuickAzureChatOpenAI(version=GPT_VER)),\n",
    "    action_word = 'Invoking',\n",
    "    horizon = 3)\n",
    "\n",
    "openai_agent.clear_logs()\n",
    "openai_agent.run_agent_trials(num_trials=3, \n",
    "query=\"How old are the current Korean president and Joe Biden?\",\n",
    "reference=\"Joe Biden is 81 years old and the current Korean president, Yoon Suk Yeol, is 62 years old.\")"
   ]
  },
  {
   "cell_type": "markdown",
   "metadata": {},
   "source": [
    "### Reflexion OpenAI FunctionCalling agent"
   ]
  },
  {
   "cell_type": "code",
   "execution_count": 5,
   "metadata": {},
   "outputs": [
    {
     "ename": "NameError",
     "evalue": "name 'retry' is not defined",
     "output_type": "error",
     "traceback": [
      "\u001b[0;31m---------------------------------------------------------------------------\u001b[0m",
      "\u001b[0;31mNameError\u001b[0m                                 Traceback (most recent call last)",
      "Cell \u001b[0;32mIn[5], line 2\u001b[0m\n\u001b[1;32m      1\u001b[0m \u001b[39m# # #### Reflexion OepnAI Agent\u001b[39;00m\n\u001b[0;32m----> 2\u001b[0m \u001b[39mfrom\u001b[39;00m \u001b[39magents\u001b[39;00m\u001b[39m.\u001b[39;00m\u001b[39mreflexion_openai_function_calling_agent\u001b[39;00m \u001b[39mimport\u001b[39;00m ReflexionOpenAIFuntionCallingAgent\n\u001b[1;32m      3\u001b[0m \u001b[39mfrom\u001b[39;00m \u001b[39mchains\u001b[39;00m\u001b[39m.\u001b[39;00m\u001b[39mreflexion_chains\u001b[39;00m \u001b[39mimport\u001b[39;00m BaseReflexionChain\n\u001b[1;32m      4\u001b[0m \u001b[39mfrom\u001b[39;00m \u001b[39mfewshot_examples\u001b[39;00m\u001b[39m.\u001b[39;00m\u001b[39mreflections\u001b[39;00m \u001b[39mimport\u001b[39;00m OPENAI_REFLECTIONS, REACT_REFLECTION_HEADER\n",
      "File \u001b[0;32m~/workspace/LLM-powered-apps/LLM-powered_Agents/Hindsight_is_20_20/agents/reflexion_openai_function_calling_agent.py:10\u001b[0m\n\u001b[1;32m      7\u001b[0m \u001b[39mfrom\u001b[39;00m \u001b[39mdatetime\u001b[39;00m \u001b[39mimport\u001b[39;00m datetime\n\u001b[1;32m      8\u001b[0m \u001b[39mimport\u001b[39;00m \u001b[39mpytz\u001b[39;00m\n\u001b[0;32m---> 10\u001b[0m \u001b[39mclass\u001b[39;00m \u001b[39mReflexionOpenAIFuntionCallingAgent\u001b[39;00m(OpenAIFuntionCallingAgent):\n\u001b[1;32m     11\u001b[0m     \u001b[39mdef\u001b[39;00m \u001b[39m__init__\u001b[39m(\u001b[39mself\u001b[39m, \n\u001b[1;32m     12\u001b[0m                 reflexion_chain: Any,\n\u001b[1;32m     13\u001b[0m                 reflexion_header: \u001b[39mstr\u001b[39m, \n\u001b[1;32m     14\u001b[0m                 \u001b[39m*\u001b[39m\u001b[39m*\u001b[39mkwargs):\n\u001b[1;32m     16\u001b[0m         \u001b[39mself\u001b[39m\u001b[39m.\u001b[39mreflexion_chain \u001b[39m=\u001b[39m reflexion_chain\n",
      "File \u001b[0;32m~/workspace/LLM-powered-apps/LLM-powered_Agents/Hindsight_is_20_20/agents/reflexion_openai_function_calling_agent.py:58\u001b[0m, in \u001b[0;36mReflexionOpenAIFuntionCallingAgent\u001b[0;34m()\u001b[0m\n\u001b[1;32m     54\u001b[0m     \u001b[39mself\u001b[39m\u001b[39m.\u001b[39m_reflexion_reset_()\n\u001b[1;32m     57\u001b[0m \u001b[39m\u001b[39m\u001b[39m''' OVERRIDE '''\u001b[39;00m\n\u001b[0;32m---> 58\u001b[0m \u001b[39m@retry\u001b[39m(allowed_exceptions\u001b[39m=\u001b[39m(RateLimitError,))\n\u001b[1;32m     59\u001b[0m \u001b[39mdef\u001b[39;00m \u001b[39m_invoke_agent_action\u001b[39m(\u001b[39mself\u001b[39m, query):\n\u001b[1;32m     60\u001b[0m     \u001b[39mreturn\u001b[39;00m \u001b[39mself\u001b[39m\u001b[39m.\u001b[39mbrain\u001b[39m.\u001b[39minvoke({\n\u001b[1;32m     61\u001b[0m             \u001b[39m'\u001b[39m\u001b[39mintermediate_steps\u001b[39m\u001b[39m'\u001b[39m: \u001b[39mself\u001b[39m\u001b[39m.\u001b[39mintermediate_steps,\n\u001b[1;32m     62\u001b[0m             \u001b[39m'\u001b[39m\u001b[39minput\u001b[39m\u001b[39m'\u001b[39m: query,\n\u001b[1;32m     63\u001b[0m             \u001b[39m'\u001b[39m\u001b[39mreflections\u001b[39m\u001b[39m'\u001b[39m:\u001b[39mself\u001b[39m\u001b[39m.\u001b[39mreflexion \u001b[39mif\u001b[39;00m \u001b[39mself\u001b[39m\u001b[39m.\u001b[39mtrial\u001b[39m>\u001b[39m\u001b[39m0\u001b[39m \u001b[39melse\u001b[39;00m \u001b[39m'\u001b[39m\u001b[39m'\u001b[39m, \n\u001b[1;32m     64\u001b[0m         })\n\u001b[1;32m     66\u001b[0m \u001b[39m\u001b[39m\u001b[39m''' Reflect '''\u001b[39;00m\n",
      "\u001b[0;31mNameError\u001b[0m: name 'retry' is not defined"
     ]
    }
   ],
   "source": [
    "# # #### Reflexion OepnAI Agent\n",
    "from agents.reflexion_openai_function_calling_agent import ReflexionOpenAIFuntionCallingAgent\n",
    "from chains.reflexion_chains import BaseReflexionChain\n",
    "from fewshot_examples.reflections import OPENAI_REFLECTIONS, REACT_REFLECTION_HEADER\n",
    "   \n",
    "openai_reflexion_chains = BaseReflexionChain(\n",
    "                    reasoninig_engine=QuickAzureChatOpenAI(version=GPT_VER),\n",
    "                    prompt=\"jet-taekyo-lee/openai-reflexion-chain-prompt\", \n",
    "                    schemas_and_tools=get_all_schemas_and_tools_by_default(azure_gpt_version=GPT_VER),\n",
    "                    reflexion_examples=OPENAI_REFLECTIONS\n",
    "                    )\n",
    "\n",
    "openai_reflexion_prompt = \"jet-taekyo-lee/rexlexion-openai-function-calling-agent\"\n",
    "openai_reflexion_agent = ReflexionOpenAIFuntionCallingAgent(\n",
    "                        reflexion_chain = openai_reflexion_chains,\n",
    "                        reflexion_header = REACT_REFLECTION_HEADER,\n",
    "                        reasoninig_engine=QuickAzureChatOpenAI(version=GPT_VER), \n",
    "                        base_prompt=openai_reflexion_prompt, \n",
    "                        schemas_and_tools=get_all_schemas_and_tools_by_default(azure_gpt_version=GPT_VER),\n",
    "                        evaluator=CustomQAEvaluator(llm=QuickAzureChatOpenAI(version=GPT_VER)),\n",
    "                        action_word='Invoking',\n",
    "                        file_logging=True,\n",
    "                        horizon = 3)\n",
    "\n",
    "openai_reflexion_agent.clear_logs()\n",
    "openai_reflexion_agent.run_agent_trials(num_trials=3, \n",
    "query=\"How old are the current Korean president and Joe Biden?\",\n",
    "reference=\"Joe Biden is 81 years old and the current Korean president, Yoon Suk Yeol, is 62 years old.\")\n"
   ]
  },
  {
   "cell_type": "markdown",
   "metadata": {},
   "source": [
    "### Parallel Function Calling agent"
   ]
  },
  {
   "cell_type": "code",
   "execution_count": null,
   "metadata": {},
   "outputs": [],
   "source": [
    "#### Parallel Function Calling Agent\n",
    "from agents.parallel_func_calling_agent import OpenAIParallelFuntionCallingAgent\n",
    "parallel_function_calling_agent = OpenAIParallelFuntionCallingAgent(\n",
    "    reasoninig_engine = QuickAzureChatOpenAI(),\n",
    "    base_prompt = 'jet-taekyo-lee/parallel-function-calling-agent',\n",
    "    evaluator = CustomQAEvaluator(llm=QuickAzureChatOpenAI()),\n",
    "    action_word = 'Invoking',\n",
    "    schemas_and_tools = get_all_schemas_and_tools_by_default(llm=QuickAzureChatOpenAI())\n",
    ")\n",
    "\n",
    "\n",
    "\n",
    "parallel_function_calling_agent.clear_logs()\n",
    "parallel_function_calling_agent.run_agent_trials(num_trials=3, \n",
    "query=\"How old are the current Korean president and Joe Biden?\",\n",
    "reference=\"Joe Biden is 81 years old and the current Korean president, Yoon Suk Yeol, is 62 years old.\")\n",
    "\n"
   ]
  },
  {
   "cell_type": "code",
   "execution_count": null,
   "metadata": {},
   "outputs": [],
   "source": []
  }
 ],
 "metadata": {
  "kernelspec": {
   "display_name": "Python 3.11.5 ('llm_agents')",
   "language": "python",
   "name": "python3"
  },
  "language_info": {
   "codemirror_mode": {
    "name": "ipython",
    "version": 3
   },
   "file_extension": ".py",
   "mimetype": "text/x-python",
   "name": "python",
   "nbconvert_exporter": "python",
   "pygments_lexer": "ipython3",
   "version": "3.11.5"
  },
  "orig_nbformat": 4,
  "vscode": {
   "interpreter": {
    "hash": "d3fb45ff54312d810d3b33eec9af47862c42661f076ce6b0d7045a13e18ceae3"
   }
  }
 },
 "nbformat": 4,
 "nbformat_minor": 2
}
