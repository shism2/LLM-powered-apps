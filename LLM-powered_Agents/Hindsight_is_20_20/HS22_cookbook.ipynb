{
 "cells": [
  {
   "cell_type": "markdown",
   "metadata": {},
   "source": [
    "### Load Envs "
   ]
  },
  {
   "cell_type": "code",
   "execution_count": 3,
   "metadata": {},
   "outputs": [],
   "source": [
    "import os\n",
    "from reasoning_engines.langchain_llm_wrappers import QuickAzureChatOpenAI, QuickAzureOpenAIClient\n",
    "from tools.get_tools import DefaultSchemasTools\n",
    "from langchain import hub\n",
    "from utils.load_envs import Environ\n",
    "from chains.qa_evaluators import CustomQAEvaluator\n"
   ]
  },
  {
   "cell_type": "markdown",
   "metadata": {},
   "source": [
    "### ReAct"
   ]
  },
  {
   "cell_type": "code",
   "execution_count": null,
   "metadata": {},
   "outputs": [],
   "source": [
    "import os\n",
    "from reasoning_engines.langchain_llm_wrappers import QuickAzureChatOpenAI, QuickAzureOpenAIClient\n",
    "from tools.get_tools import DefaultSchemasTools\n",
    "from langchain import hub\n",
    "from utils.load_envs import Environ\n",
    "from chains.qa_evaluators import CustomQAEvaluator\n",
    "\n",
    "\n",
    "#### ReAct Agent\n",
    "from agents.react_agents import ReActAgent\n",
    "\n",
    "GPT_VER = '0613'\n",
    "react_agent = ReActAgent(reasoninig_engine=QuickAzureChatOpenAI(version=GPT_VER), \n",
    "                        base_prompt=\"hwchase17/react-multi-input-json\", \n",
    "                        schemas_and_tools=DefaultSchemasTools(azure_gpt_version=GPT_VER), \n",
    "                        evaluator=CustomQAEvaluator(llm=QuickAzureChatOpenAI(version='1106')), \n",
    "                        stop_words=[\"Observation\"], \n",
    "                        thought_word= 'Thought', \n",
    "                        action_word='Action',\n",
    "                        file_logging=True,\n",
    "                        horizon=6)\n",
    "\n",
    "\n",
    "react_agent.clear_logs()\n",
    "react_agent.run_agent_trials(num_trials=2, \n",
    "query=\"Who is older? The former president of Korea vs. the MLB American League MVP of the last season. What is the result if you sum up the ages of the two?\",\n",
    "reference=\"The former former president of Korea is older. The sum of their age is 99.\")\n",
    "\n"
   ]
  },
  {
   "cell_type": "markdown",
   "metadata": {},
   "source": [
    "### Reflexion ReAct"
   ]
  },
  {
   "cell_type": "code",
   "execution_count": null,
   "metadata": {},
   "outputs": [
    {
     "name": "stderr",
     "output_type": "stream",
     "text": [
      "[INFO] Query: Who is older? The former president of Korea vs. the MLB American League MVP of the last season. What is the result if you sum up the ages of the two?\n",
      "[INFO] Trial 1\n",
      "[INFO] Thought 1: I need to find out who the former president of Korea is and who the MLB American League MVP of the last season is. I'll start with the former president of Korea.\n",
      "[INFO] Action 1: YDCSearch(query='former president of Korea')\n",
      "[INFO] Observation 1: The most recent former president of South Korea is Moon Jae-In, who served from 2017 to 2022.\n",
      "[INFO] Thought 2: Now I need to find out Moon Jae-In's age.\n",
      "[INFO] Action 2: YDCSearch(query='Moon Jae-In age')\n",
      "[INFO] Observation 2: Moon Jae-in was born on January 24, 1953.\n",
      "[INFO] Thought 3: I need to calculate Moon Jae-In's age based on his birth year. I'll use the current year to do this.\n",
      "[INFO] Action 3: GetDatetime(IANA_timezone='Asia/Seoul')\n",
      "[INFO] Observation 3: timezone: Asia/Seoul, current time(year-month-day-hour-minute): 2023-11-30-14-14\n",
      "[INFO] Thought 4: Now I know the current year is 2023. I can calculate Moon Jae-In's age by subtracting his birth year from the current year.\n",
      "[INFO] Action 4: PythonREPL(command='print(2023 - 1953)')\n",
      "[INFO] Observation 4: 70\n",
      "[INFO] Thought 5: Moon Jae-In is 70 years old. Now I need to find out who the MLB American League MVP of the last season is.\n",
      "[INFO] Action 5: YDCSearch(query='MLB American League MVP 2023')\n",
      "[INFO] Observation 5: The American League Most Valuable Player (MVP) for the 2023 MLB season was Shohei Ohtani from the Los Angeles Angels.\n",
      "[INFO] Thought 6: Now I need to find out Shohei Ohtani's age.\n",
      "[INFO] Action 6: YDCSearch(query='Shohei Ohtani age')\n",
      "[INFO] Observation 6: Shohei Ohtani is 29 years old.\n",
      "[INFO] Jugdement: You failed to provide an answer because you exceeded the permitted number of reasoning steps. You must give an answer within 6 steps.\n",
      "[INFO] Trial 2\n",
      "[INFO] Reflexion......\n",
      "[INFO] You have attempted to answer following question before and failed. The following reflection(s) give a plan to avoid failing to answer the question in the same way you did previously. Use them to improve your strategy of correctly answering the given question.\n",
      "- In this trial, I exceeded the permitted number of reasoning steps before providing an answer. This was due to the fact that I used separate steps to identify the individuals in question, determine their ages, and then calculate the sum of their ages. To mitigate this in the future, I could combine the steps of identifying the individuals and determining their ages into single steps. For example, I could use the YDCSearch tool with queries like 'age of the former president of Korea' and 'age of the MLB American League MVP of the last season'. This would allow me to obtain the necessary information in fewer steps.\n",
      "[INFO] Thought 1: I need to find out who the former president of Korea is and who the MLB American League MVP of the last season is. Then, I need to find out their ages. I'll start by finding out who the former president of Korea is.\n",
      "[INFO] Action 1: YDCSearch(query='former president of Korea')\n",
      "[INFO] Observation 1: The most recent former president of South Korea is Moon Jae-In, who served from 2017 to 2022.\n",
      "[INFO] Thought 2: Now that I know the former president of Korea is Moon Jae-In, I need to find out his age.\n",
      "[INFO] Action 2: YDCSearch(query='Moon Jae-In age')\n",
      "[INFO] Observation 2: Moon Jae-in was born on January 24, 1953.\n",
      "[INFO] Thought 3: Now that I know Moon Jae-In was born on January 24, 1953, I can calculate his age. I'll use the current year to do this.\n",
      "[INFO] Action 3: GetDatetime(IANA_timezone='Asia/Seoul')\n",
      "[INFO] Observation 3: timezone: Asia/Seoul, current time(year-month-day-hour-minute): 2023-11-30-14-15\n",
      "[INFO] Thought 4: Now that I know the current year is 2023 in Korea, I can calculate Moon Jae-In's age by subtracting his birth year from the current year.\n",
      "[INFO] Action 4: PythonREPL(command='print(2023 - 1953)')\n",
      "[INFO] Observation 4: 70\n",
      "[INFO] Thought 5: Moon Jae-In is 70 years old. Now I need to find out who the MLB American League MVP of the last season is.\n",
      "[INFO] Action 5: YDCSearch(query='MLB American League MVP 2023')\n",
      "[INFO] Observation 5: The 2023 American League Most Valuable Player (MVP) is Shohei Ohtani from the Los Angeles Angels.\n",
      "[INFO] Thought 6: Now that I know the MLB American League MVP of the last season is Shohei Ohtani, I need to find out his age.\n",
      "[INFO] Action 6: YDCSearch(query='Shohei Ohtani age')\n",
      "[INFO] Observation 6: Shohei Ohtani is 29 years old.\n",
      "[INFO] Jugdement: You failed to provide an answer because you exceeded the permitted number of reasoning steps. You must give an answer within 6 steps.\n"
     ]
    }
   ],
   "source": [
    "import os\n",
    "from reasoning_engines.langchain_llm_wrappers import QuickAzureChatOpenAI, QuickAzureOpenAIClient\n",
    "from tools.get_tools import DefaultSchemasTools\n",
    "from langchain import hub\n",
    "from utils.load_envs import Environ\n",
    "from chains.qa_evaluators import CustomQAEvaluator\n",
    "\n",
    "\n",
    "#### Reflexion Agent\n",
    "from agents.reflexion_react_agents import ReflexionReActAgent\n",
    "from chains.reflexion_chains import BaseReflexionChain\n",
    "from fewshot_examples.reflections import REACT_REFLECTION_HEADER, REACT_REFLECTIONS\n",
    "\n",
    "GPT_VER = '0613'   \n",
    "reflexion_chains = BaseReflexionChain(\n",
    "                    reasoninig_engine=QuickAzureChatOpenAI(version=GPT_VER),\n",
    "                    prompt=\"jet-taekyo-lee/experimental-reflextion\", \n",
    "                    schemas_and_tools=DefaultSchemasTools(azure_gpt_version=GPT_VER),\n",
    "                    reflexion_examples=REACT_REFLECTIONS\n",
    "                    )\n",
    "\n",
    "reflexion_prompt = \"jet-taekyo-lee/reflexion-react\"\n",
    "reflexion_agent = ReflexionReActAgent(\n",
    "                        reflexion_chain = reflexion_chains,\n",
    "                        reflexion_header = REACT_REFLECTION_HEADER,\n",
    "                        reasoninig_engine=QuickAzureChatOpenAI(version=GPT_VER), \n",
    "                        base_prompt=\"hwchase17/react-multi-input-json\", \n",
    "                        schemas_and_tools=DefaultSchemasTools(azure_gpt_version=GPT_VER), \n",
    "                        evaluator=CustomQAEvaluator(llm=QuickAzureChatOpenAI(version='1106')), \n",
    "                        stop_words=[\"Observation\"], \n",
    "                        thought_word= 'Thought', \n",
    "                        action_word='Action',\n",
    "                        file_logging=True,\n",
    "                        horizon=6)\n",
    "\n",
    "\n",
    "\n",
    "reflexion_agent.clear_logs()\n",
    "reflexion_agent.run_agent_trials(num_trials=2, \n",
    "query=\"Who is older? The former president of Korea vs. the MLB American League MVP of the last season. What is the result if you sum up the ages of the two?\",\n",
    "reference=\"The former former president of Korea is older. The sum of their age is 99.\")\n",
    "\n"
   ]
  },
  {
   "cell_type": "markdown",
   "metadata": {},
   "source": [
    "### OpenAI FunctionCalling agent"
   ]
  },
  {
   "cell_type": "code",
   "execution_count": null,
   "metadata": {},
   "outputs": [
    {
     "name": "stderr",
     "output_type": "stream",
     "text": [
      "[INFO] Query: Who is older? The former president of Korea vs. the MLB American League MVP of the last season. What is the result if you sum up the ages of the two?\n",
      "[INFO] Trial 1\n",
      "[INFO] Invoking 1: YDCSearch(query='former president of Korea age')\n",
      "[INFO] Observation 1: The former president of South Korea, Moon Jae-in, was born on January 24, 1953. As of 2022, he is 69 years old. The current president, Yoon Suk Yeol, was born on December 18, 1960, making him 62 years old as of 2022.\n",
      "[INFO] Invoking 2: YDCSearch(query='MLB American League MVP last season age')\n",
      "[INFO] Observation 2: The American League MVP for the 2023 season was Shohei Ohtani from the Los Angeles Angels. He was born on July 5, 1994, which would have made him 29 years old during the 2023 season.\n",
      "[INFO] Invoking 3: PythonREPL(command='print(69 + 29)')\n",
      "Python REPL can execute arbitrary code. Use with caution.\n",
      "[INFO] Observation 3: 98\n",
      "[INFO] Jugdement: You failed to provide an answer because you exceeded the permitted number of reasoning steps. You must give an answer within 3 steps.\n",
      "[INFO] Trial 2\n",
      "[INFO] Invoking 1: YDCSearch(query='former president of Korea age')\n",
      "[INFO] Observation 1: The former president of South Korea, Moon Jae-in, was born on January 24, 1953. As of 2022, he is 69 years old.\n",
      "[INFO] Invoking 2: YDCSearch(query='MLB American League MVP last season age')\n",
      "[INFO] Observation 2: The American League MVP for the 2023 season was Shohei Ohtani from the Los Angeles Angels. He was born on July 5, 1994, which would have made him 29 years old during the 2023 season.\n",
      "[INFO] Invoking 3: PythonREPL(command='print(69 + 29)')\n",
      "[INFO] Observation 3: 98\n",
      "[INFO] Jugdement: You failed to provide an answer because you exceeded the permitted number of reasoning steps. You must give an answer within 3 steps.\n"
     ]
    }
   ],
   "source": [
    "import os\n",
    "from reasoning_engines.langchain_llm_wrappers import QuickAzureChatOpenAI, QuickAzureOpenAIClient\n",
    "from tools.get_tools import DefaultSchemasTools\n",
    "from langchain import hub\n",
    "from utils.load_envs import Environ\n",
    "from chains.qa_evaluators import CustomQAEvaluator\n",
    "\n",
    "\n",
    "# #### OepnAI Agent\n",
    "GPT_VER = '0613' \n",
    "from agents.openai_function_calling_agent import OpenAIFuntionCallingAgent\n",
    "openai_agent = OpenAIFuntionCallingAgent(\n",
    "    reasoninig_engine = QuickAzureChatOpenAI(version=GPT_VER),\n",
    "    base_prompt = \"jet-taekyo-lee/openai-function-calling-agent\",\n",
    "    schemas_and_tools=DefaultSchemasTools(azure_gpt_version=GPT_VER),\n",
    "    evaluator = CustomQAEvaluator(llm=QuickAzureChatOpenAI(version='1106')),\n",
    "    action_word = 'Invoking',\n",
    "    horizon = 3)\n",
    "\n",
    "openai_agent.clear_logs()\n",
    "openai_agent.run_agent_trials(num_trials=2, \n",
    "query=\"Who is older? The former president of Korea vs. the MLB American League MVP of the last season. What is the result if you sum up the ages of the two?\",\n",
    "reference=\"The former former president of Korea is older. The sum of their age is 99.\")"
   ]
  },
  {
   "cell_type": "markdown",
   "metadata": {},
   "source": [
    "### Reflexion OpenAI FunctionCalling agent"
   ]
  },
  {
   "cell_type": "code",
   "execution_count": null,
   "metadata": {},
   "outputs": [
    {
     "name": "stderr",
     "output_type": "stream",
     "text": [
      "[INFO] Query: Who is older? The former president of Korea vs. the MLB American League MVP of the last season. What is the result if you sum up the ages of the two?\n",
      "[INFO] Trial 1\n",
      "[INFO] Invoking 1: YDCSearch(query='former president of Korea age')\n",
      "[INFO] Observation 1: The former president of South Korea, Moon Jae-in, was born on January 24, 1953. As of 2022, he is 69 years old. The current president, Yoon Suk Yeol, was born on December 18, 1960, making him 62 years old as of 2022.\n",
      "[INFO] Invoking 2: YDCSearch(query='MLB American League MVP last season age')\n",
      "[INFO] Observation 2: The American League MVP for the 2023 season was Shohei Ohtani. He was born on July 5, 1994, which would have made him 29 years old during the 2023 season.\n",
      "[INFO] Jugdement: You failed to provide an answer because you exceeded the permitted number of reasoning steps. You must give an answer within 2 steps.\n",
      "[INFO] Trial 2\n",
      "[INFO] Reflexion......\n",
      "[INFO] You have attempted to answer following question before and failed. The following reflection(s) give a plan to avoid failing to answer the question in the same way you did previously. Use them to improve your strategy of correctly answering the given question.\n",
      "- In this trial, I failed to provide an answer within the allocated reasoning steps. I spent both steps gathering the necessary information but did not perform the final step of comparing the ages and summing them up. In the future, I should aim to gather the necessary information in a single step, if possible, to leave room for the final calculation and comparison. For instance, I could use a more specific query in the YDCSearch tool to get both ages in one step, such as 'ages of the former president of Korea and the MLB American League MVP of the last season'. Then, I can perform the comparison and summation in the second step.\n",
      "[INFO] Invoking 1: YDCSearch(query='ages of the former president of Korea and the MLB American League MVP of the last season')\n",
      "[INFO] Observation 1: The text does not provide information on the ages of the former president of Korea and the MLB American League MVP of the last season.\n",
      "[INFO] Invoking 2: I'm sorry, but I couldn't find the specific ages of the former president of Korea and the MLB American League MVP of the last season. Could you please provide more specific names?\n",
      "[INFO] Answer: I'm sorry, but I couldn't find the specific ages of the former president of Korea and the MLB American League MVP of the last season. Could you please provide more specific names?\n",
      "[INFO] Jugdement: Your answer is incorrect. The correct answer is \"The former former president of Korea is older. The sum of their age is 99.\"\n"
     ]
    }
   ],
   "source": [
    "import os\n",
    "from reasoning_engines.langchain_llm_wrappers import QuickAzureChatOpenAI, QuickAzureOpenAIClient\n",
    "from tools.get_tools import DefaultSchemasTools\n",
    "from langchain import hub\n",
    "from utils.load_envs import Environ\n",
    "from chains.qa_evaluators import CustomQAEvaluator\n",
    "\n",
    "\n",
    "# # #### Reflexion OepnAI Agent\n",
    "from agents.reflexion_openai_function_calling_agent import ReflexionOpenAIFuntionCallingAgent\n",
    "from chains.reflexion_chains import BaseReflexionChain\n",
    "from fewshot_examples.reflections import OPENAI_REFLECTIONS, REACT_REFLECTION_HEADER\n",
    "\n",
    "GPT_VER = '0613'    \n",
    "openai_reflexion_chains = BaseReflexionChain(\n",
    "                    reasoninig_engine=QuickAzureChatOpenAI(version=GPT_VER),\n",
    "                    prompt=\"jet-taekyo-lee/openai-reflexion-chain-prompt\", \n",
    "                    schemas_and_tools=DefaultSchemasTools(azure_gpt_version=GPT_VER),\n",
    "                    reflexion_examples=OPENAI_REFLECTIONS\n",
    "                    )\n",
    "\n",
    "\n",
    "openai_reflexion_agent = ReflexionOpenAIFuntionCallingAgent(\n",
    "                        reflexion_chain = openai_reflexion_chains,\n",
    "                        reflexion_header = REACT_REFLECTION_HEADER,\n",
    "                        reasoninig_engine=QuickAzureChatOpenAI(version=GPT_VER), \n",
    "                        base_prompt=\"jet-taekyo-lee/rexlexion-openai-function-calling-agent\", \n",
    "                        schemas_and_tools=DefaultSchemasTools(azure_gpt_version=GPT_VER),\n",
    "                        evaluator=CustomQAEvaluator(llm=QuickAzureChatOpenAI(version='1106')),\n",
    "                        action_word='Invoking',\n",
    "                        file_logging=True,\n",
    "                        horizon = 2)\n",
    "\n",
    "openai_reflexion_agent.clear_logs()\n",
    "openai_reflexion_agent.run_agent_trials(num_trials=2, \n",
    "query=\"Who is older? The former president of Korea vs. the MLB American League MVP of the last season. What is the result if you sum up the ages of the two?\",\n",
    "reference=\"The former former president of Korea is older. The sum of their age is 99.\")\n"
   ]
  },
  {
   "cell_type": "markdown",
   "metadata": {},
   "source": [
    "### Parallel Function Calling agent"
   ]
  },
  {
   "cell_type": "code",
   "execution_count": null,
   "metadata": {},
   "outputs": [],
   "source": [
    "import os\n",
    "from reasoning_engines.langchain_llm_wrappers import QuickAzureChatOpenAI, QuickAzureOpenAIClient\n",
    "from tools.get_tools import DefaultSchemasTools\n",
    "from langchain import hub\n",
    "from utils.load_envs import Environ\n",
    "from chains.qa_evaluators import CustomQAEvaluator\n",
    "\n",
    "\n",
    "#### Parallel Function Calling Agent\n",
    "GPT_VER = '1106' \n",
    "from agents.parallel_func_calling_agent import OpenAIParallelFuntionCallingAgent\n",
    "parallel_calling_agent = OpenAIParallelFuntionCallingAgent(\n",
    "    reasoninig_engine = QuickAzureChatOpenAI(version=GPT_VER),\n",
    "    base_prompt = 'jet-taekyo-lee/parallel-function-calling-agent',\n",
    "    schemas_and_tools = DefaultSchemasTools(azure_gpt_version=GPT_VER),\n",
    "    evaluator = CustomQAEvaluator(llm=QuickAzureChatOpenAI('0613')),\n",
    "    action_word = 'Tool invocations in parallel',\n",
    "    observation_word = 'Tool-invocations results in parallel',\n",
    "    use_chat_completion_api = True,\n",
    "    azure_apenai_client = QuickAzureOpenAIClient(GPT_VER),\n",
    "    horizon = 5\n",
    ")\n",
    "\n",
    "\n",
    "\n",
    "\n",
    "\n",
    "parallel_calling_agent.clear_logs()\n",
    "parallel_calling_agent.run_agent_trials(num_trials=2, \n",
    "query=\"Who is older? The former president of Korea vs. the MLB American League MVP of the last season. What is the result if you sum up the ages of the two?\",\n",
    "reference=\"The former former president of Korea is older. The sum of their age is 99.\")\n",
    "\n"
   ]
  },
  {
   "cell_type": "markdown",
   "metadata": {},
   "source": [
    "### Reflexion + Parallel Function Calling agent"
   ]
  },
  {
   "cell_type": "code",
   "execution_count": 1,
   "metadata": {},
   "outputs": [
    {
     "name": "stderr",
     "output_type": "stream",
     "text": [
      "[INFO] Query: Who is older? The former president of Korea vs. the MLB American League MVP of the last season. What is the result if you sum up the ages of the two?\n",
      "[INFO] Trial 1\n",
      "[INFO] (step 1-action) Tool invocations in parallel: [Tool 1-> YDCSearch(query=former president of South Korea), Tool 2-> YDCSearch(query=MLB American League MVP last season)]\n",
      "[INFO] (step 1-observation) :: [Tool 1-> Park Geun-hye is a former president of South Korea who served as the 11th president from 2013 until her impeachment in 2017. She was the first woman to be elected as president of South Korea and the first female president popularly elected as head of state in East Asia. Her presidency ended when she was impeached and subsequently convicted on charges related to corruption. After spending nearly five years in prison, Park Geun-hye was released in December 2021 following a presidential pardon., Tool 2-> The American League MVP for the 2023 season was Shohei Ohtani of the LA Angels.]\n",
      "[INFO] (step 2-action) Tool invocations in parallel: [Tool 1-> YDCSearch(query=Park Geun-hye age), Tool 2-> YDCSearch(query=Shohei Ohtani age)]\n"
     ]
    },
    {
     "name": "stdout",
     "output_type": "stream",
     "text": [
      "RateLimitError for _get_function_observation. -----> Will automatically retry 20 seconds later.\n",
      "20 19 18 17 16 15 14 13 12 11 10 9 8 7 6 5 4 3 2 1 RateLimitError for _get_function_observation. -----> Will automatically retry 20 seconds later.\n",
      "20 19 18 17 16 15 14 13 12 11 10 9 8 7 6 5 4 3 2 1 "
     ]
    },
    {
     "name": "stderr",
     "output_type": "stream",
     "text": [
      "[INFO] (step 2-observation) :: [Tool 1-> Park Geun-hye was born on February 2, 1952. As of my knowledge cutoff in 2023, she would be 71 years old., Tool 2-> Shohei Ohtani is 29 years old.]\n",
      "[INFO] (step 3-action) Tool invocations in parallel: [Tool 1-> PythonREPL(command=print(71 + 29))]\n",
      "Python REPL can execute arbitrary code. Use with caution.\n",
      "[INFO] (step 3-observation) :: [Tool 1-> 100]\n",
      "[INFO] Jugdement: You failed to provide an answer because you exceeded the permitted number of reasoning steps. You must give an answer within 3 steps.\n",
      "[INFO] Trial 2\n",
      "[INFO] Reflexion......\n",
      "[INFO] You have attempted to answer following question before and failed. The following reflection(s) give a plan to avoid failing to answer the question in the same way you did previously. Use them to improve your strategy of correctly answering the given question.\n",
      "- Reflection: The previous trial failed because the answer was not provided within the permitted number of reasoning steps. The process of identifying the individuals and then calculating their ages was correct, but the final step of providing the answer should have been combined with the calculation step to meet the requirement of answering within three steps.\n",
      "\n",
      "To prevent a similar error in future attempts, the strategy should be to streamline the process by combining actions where possible. For instance, once the ages of the individuals are known, the sum of their ages can be calculated mentally or with a simple tool invocation, and the answer can be provided immediately without requiring an additional step. This will ensure that the response is given within the allotted number of steps.\n",
      "\n",
      "New strategy for future trials:\n",
      "1. Use the YDCSearch tool to identify the former president of South Korea and the MLB American League MVP of the last season.\n",
      "2. Use the YDCSearch tool to find the ages of both individuals.\n",
      "3. Calculate the sum of their ages and determine who is older in the same step, then provide the answer directly without requiring an additional step. If necessary, use the PythonREPL tool to assist with the calculation, but ensure that this is done within the same step as providing the answer.\n",
      "[INFO] (step 1-action) Tool invocations in parallel: [Tool 1-> YDCSearch(query=former president of South Korea), Tool 2-> YDCSearch(query=MLB American League MVP last season)]\n",
      "[INFO] (step 1-observation) :: [Tool 1-> The former president of South Korea is Park Geun-hye, who served as the 11th president from 2013 until her impeachment in 2017. She was the first woman to be elected as president of South Korea and also the first female president popularly elected as head of state in East Asia. Her presidency ended when she was impeached and later convicted on charges related to corruption. Park Geun-hye was released from prison on December 31, 2021, after receiving a presidential pardon., Tool 2-> The American League MVP for the 2023 season was Shohei Ohtani of the LA Angels.]\n"
     ]
    },
    {
     "name": "stdout",
     "output_type": "stream",
     "text": [
      "RateLimitError for get_chat_response_tool_use. -----> Will automatically retry 20 seconds later.\n",
      "20 19 18 17 16 15 14 13 12 11 10 9 8 7 6 5 4 3 2 1 RateLimitError for get_chat_response_tool_use. -----> Will automatically retry 20 seconds later.\n",
      "20 19 18 17 16 15 14 13 12 11 10 9 8 7 6 5 4 3 2 1 "
     ]
    },
    {
     "name": "stderr",
     "output_type": "stream",
     "text": [
      "[INFO] (step 2-action) Tool invocations in parallel: [Tool 1-> YDCSearch(query=Park Geun-hye age), Tool 2-> YDCSearch(query=Shohei Ohtani age)]\n"
     ]
    },
    {
     "name": "stdout",
     "output_type": "stream",
     "text": [
      "RateLimitError for _get_function_observation. -----> Will automatically retry 20 seconds later.\n",
      "20 19 18 17 16 15 14 13 12 11 10 9 8 7 6 5 4 3 2 1 "
     ]
    },
    {
     "name": "stderr",
     "output_type": "stream",
     "text": [
      "[INFO] (step 2-observation) :: [Tool 1-> Park Geun-hye was born on February 2, 1952. As of my knowledge cutoff in 2023, she would be 71 years old., Tool 2-> Shohei Ohtani is 29 years old.]\n",
      "[INFO] (step 3-action) Tool invocations in parallel: [Tool 1-> PythonREPL(command=print(71 + 29, 71 > 29))]\n",
      "[INFO] (step 3-observation) :: [Tool 1-> 100 True]\n",
      "[INFO] Jugdement: You failed to provide an answer because you exceeded the permitted number of reasoning steps. You must give an answer within 3 steps.\n"
     ]
    }
   ],
   "source": [
    "import os\n",
    "from reasoning_engines.langchain_llm_wrappers import QuickAzureChatOpenAI, QuickAzureOpenAIClient\n",
    "from tools.get_tools import DefaultSchemasTools\n",
    "from langchain import hub\n",
    "from utils.load_envs import Environ\n",
    "from chains.qa_evaluators import CustomQAEvaluator\n",
    "\n",
    "\n",
    "#### Reflexion + Parallel Function Calling Agent\n",
    "from chains.reflexion_chains import BaseReflexionChain\n",
    "from agents.reflexion_parallel_calling_agent import ReflexionOpenAIParallelFuntionCallingAgent\n",
    "from fewshot_examples.reflections import OPENAI_PARALLEL_CALLING_REFLECTIONS, REACT_REFLECTION_HEADER\n",
    "\n",
    "GPT_VER = '1106'    \n",
    "openai_parallel_calling_reflexion_chains = BaseReflexionChain(\n",
    "                    reasoninig_engine=QuickAzureChatOpenAI(version=GPT_VER),\n",
    "                    prompt=\"jet-taekyo-lee/openai-parallel-calling-reflexion-chain-prompt\", \n",
    "                    schemas_and_tools=DefaultSchemasTools(azure_gpt_version=GPT_VER),\n",
    "                    reflexion_examples=OPENAI_PARALLEL_CALLING_REFLECTIONS\n",
    "                    )\n",
    "\n",
    "\n",
    "openai_parallel_calling_reflexion_agent = ReflexionOpenAIParallelFuntionCallingAgent(\n",
    "                        reflexion_chain = openai_parallel_calling_reflexion_chains,\n",
    "                        reflexion_header = REACT_REFLECTION_HEADER,\n",
    "                        reasoninig_engine=QuickAzureChatOpenAI(version=GPT_VER), \n",
    "                        base_prompt=\"jet-taekyo-lee/reflexion-openai-parallel-calling-agent\", \n",
    "                        schemas_and_tools=DefaultSchemasTools(azure_gpt_version=GPT_VER),\n",
    "                        evaluator=CustomQAEvaluator(llm=QuickAzureChatOpenAI(version='1106')),\n",
    "                        action_word = 'Tool invocations in parallel',\n",
    "                        observation_word = 'Tool-invocations results in parallel',\n",
    "                        use_chat_completion_api = True,\n",
    "                        azure_apenai_client = QuickAzureOpenAIClient(GPT_VER),\n",
    "                        file_logging=True,\n",
    "                        horizon = 3)\n",
    "\n",
    "\n",
    "openai_parallel_calling_reflexion_agent.clear_logs()\n",
    "# parallel_calling_agent.run_agent_trials(num_trials=3, \n",
    "# query=\"Which is bigger? The summation of the current Korean president's age and Joe Biden'age vs. the summation of current temperatures of Seoul, Tokyo, and New York?\",\n",
    "# reference=\"The summation of the current Korean president's age and Joe Biden'age is bigger.\")\n",
    "openai_parallel_calling_reflexion_agent.run_agent_trials(num_trials=2, \n",
    "query=\"Who is older? The former president of Korea vs. the MLB American League MVP of the last season. What is the result if you sum up the ages of the two?\",\n",
    "reference=\"The former former president of Korea is older. The sum of their age is 99.\")\n",
    "\n"
   ]
  },
  {
   "cell_type": "code",
   "execution_count": null,
   "metadata": {},
   "outputs": [],
   "source": []
  }
 ],
 "metadata": {
  "kernelspec": {
   "display_name": "Python 3.11.5 ('llm_agents')",
   "language": "python",
   "name": "python3"
  },
  "language_info": {
   "codemirror_mode": {
    "name": "ipython",
    "version": 3
   },
   "file_extension": ".py",
   "mimetype": "text/x-python",
   "name": "python",
   "nbconvert_exporter": "python",
   "pygments_lexer": "ipython3",
   "version": "3.11.5"
  },
  "orig_nbformat": 4,
  "vscode": {
   "interpreter": {
    "hash": "d3fb45ff54312d810d3b33eec9af47862c42661f076ce6b0d7045a13e18ceae3"
   }
  }
 },
 "nbformat": 4,
 "nbformat_minor": 2
}
