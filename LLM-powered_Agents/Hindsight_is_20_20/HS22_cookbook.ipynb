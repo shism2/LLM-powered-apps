{
 "cells": [
  {
   "cell_type": "markdown",
   "metadata": {},
   "source": [
    "### Load Envs "
   ]
  },
  {
   "cell_type": "code",
   "execution_count": 1,
   "metadata": {},
   "outputs": [
    {
     "data": {
      "text/plain": [
       "<utils.load_envs.Environ at 0x7f37e5f0f410>"
      ]
     },
     "execution_count": 1,
     "metadata": {},
     "output_type": "execute_result"
    }
   ],
   "source": [
    "import os\n",
    "from reasoning_engines.langchain_llm_wrappers import QuickAzureChatOpenAI\n",
    "from tools.get_tools import get_all_schemas_and_tools_by_default\n",
    "from langchain import hub\n",
    "from utils.load_envs import Environ\n",
    "\n",
    "from chains.qa_evaluators import CustomQAEvaluator\n",
    "\n",
    "\n",
    "\n",
    "GPT_VER = '1106'\n",
    "Environ(GPT_VER)"
   ]
  },
  {
   "cell_type": "markdown",
   "metadata": {},
   "source": [
    "### ReAct"
   ]
  },
  {
   "cell_type": "code",
   "execution_count": null,
   "metadata": {},
   "outputs": [],
   "source": [
    "#### ReAct Agent\n",
    "from agents.react_agents import ReActAgent\n",
    "react_prompt = \"hwchase17/react-multi-input-json\"\n",
    "\n",
    "react_agent = ReActAgent(reasoninig_engine=QuickAzureChatOpenAI(version=GPT_VER), \n",
    "                        base_prompt=react_prompt, \n",
    "                        schemas_and_tools=get_all_schemas_and_tools_by_default(azure_gpt_version=GPT_VER), \n",
    "                        evaluator=CustomQAEvaluator(llm=QuickAzureChatOpenAI(version=GPT_VER)), \n",
    "                        stop_words=[\"Observation\"], \n",
    "                        thought_word= 'Thought', \n",
    "                        action_word='Action',\n",
    "                        file_logging=True,\n",
    "                        horizon=5)\n",
    "\n",
    "\n",
    "react_agent.clear_logs()\n",
    "react_agent.run_agent_trials(num_trials=3, \n",
    "query=\"Which one is bigger, 'World War 2 outbreak year plus Donald Trumps birth month' vs. 'U.S. Independece-day year plus Michael Jordan birth year'?\",\n",
    "# query=\"Sort the following list in an descending order [1, 6, 3, 6, 8, 3, 5, 0]\",\n",
    "# query=\"How is the weather in Boston tomorrow?\",\n",
    "# reference=\"'U.S. Independece-day year plus Michael Jordan birth year' is bigger.\")\n",
    ")\n"
   ]
  },
  {
   "cell_type": "markdown",
   "metadata": {},
   "source": [
    "### Reflexion ReAct"
   ]
  },
  {
   "cell_type": "code",
   "execution_count": null,
   "metadata": {},
   "outputs": [],
   "source": [
    "#### Reflexion Agent\n",
    "from agents.reflexion_react_agents import ReflexionReActAgent\n",
    "from chains.reflexion_chains import BaseReflexionChain\n",
    "from fewshot_examples.reflections import REACT_REFLECTION_HEADER, REACT_REFLECTIONS\n",
    "   \n",
    "reflexion_chains = BaseReflexionChain(\n",
    "                    reasoninig_engine=QuickAzureChatOpenAI(version=GPT_VER),\n",
    "                    prompt=\"jet-taekyo-lee/experimental-reflextion\", \n",
    "                    schemas_and_tools=get_all_schemas_and_tools_by_default(azure_gpt_version=GPT_VER),\n",
    "                    reflexion_examples=REACT_REFLECTIONS\n",
    "                    )\n",
    "\n",
    "reflexion_prompt = \"jet-taekyo-lee/reflexion-react\"\n",
    "reflexion_agent = ReflexionReActAgent(\n",
    "                        reflexion_chain = reflexion_chains,\n",
    "                        reflexion_header = REACT_REFLECTION_HEADER,\n",
    "                        reasoninig_engine=QuickAzureChatOpenAI(version=GPT_VER), \n",
    "                        base_prompt=react_prompt, \n",
    "                        schemas_and_tools=get_all_schemas_and_tools_by_default(azure_gpt_version=GPT_VER), \n",
    "                        evaluator=CustomQAEvaluator(llm=QuickAzureChatOpenAI(version=GPT_VER)), \n",
    "                        stop_words=[\"Observation\"], \n",
    "                        thought_word= 'Thought', \n",
    "                        action_word='Action',\n",
    "                        file_logging=True,\n",
    "                        horizon=5)\n",
    "\n",
    "\n",
    "\n",
    "reflexion_agent.clear_logs()\n",
    "reflexion_agent.run_agent_trials(num_trials=3, \n",
    "query=\"Which one is bigger, 'World War 2 outbreak year plus Donald Trumps birth month' vs. 'U.S. Independece-day year plus Michael Jordan birth year'? And How is the weather in Boston tomorrow?\",\n",
    "reference=\"'U.S. Independece-day year plus Michael Jordan birth year' is bigger.\")\n",
    "\n"
   ]
  },
  {
   "cell_type": "markdown",
   "metadata": {},
   "source": [
    "### OpenAI FunctionCalling agent"
   ]
  },
  {
   "cell_type": "code",
   "execution_count": 4,
   "metadata": {},
   "outputs": [
    {
     "name": "stderr",
     "output_type": "stream",
     "text": [
      "[INFO] Query: How old are the current Korean president and Joe Biden?\n",
      "[INFO] Trial 1\n",
      "[INFO] Invoking 1: YDCSearch(query='current age of the president of South Korea')\n",
      "[INFO] Observation 1: Yoon Suk Yeol, the current president of South Korea, was born on December 18, 1960. As of today, he is 62 years old.\n",
      "[INFO] Invoking 2: YDCSearch(query='current age of Joe Biden')\n"
     ]
    },
    {
     "name": "stdout",
     "output_type": "stream",
     "text": [
      "RateLimitError for _get_function_observation. -----> Will automatically retry 54 seconds later.\n",
      "54 53 52 51 50 49 48 47 46 45 44 43 42 41 40 39 38 37 36 35 34 33 32 31 30 29 28 27 26 25 24 23 22 21 20 19 18 17 16 15 14 13 12 11 10 9 8 7 6 5 4 3 2 1 "
     ]
    },
    {
     "name": "stderr",
     "output_type": "stream",
     "text": [
      "[INFO] Observation 2: As of the current date, Joe Biden is 80 years old. He was born on November 20, 1942.\n",
      "[INFO] Invoking 3: Yoon Suk Yeol is 62 years old and Joe Biden is 80 years old.\n",
      "[INFO] Answer: Yoon Suk Yeol is 62 years old and Joe Biden is 80 years old.\n",
      "[INFO] Jugdement: Your answer is incorrect. The correct answer is \"Joe Biden is 81 years old and the current Korean president, Yoon Suk Yeol, is 62 years old.\"\n",
      "[INFO] Trial 2\n",
      "[INFO] Invoking 1: YDCSearch(query='current age of President of South Korea')\n"
     ]
    },
    {
     "name": "stdout",
     "output_type": "stream",
     "text": [
      "RateLimitError for _get_function_observation. -----> Will automatically retry 52 seconds later.\n",
      "52 51 50 49 48 47 46 45 44 43 42 41 40 39 38 37 36 35 34 33 32 31 30 29 28 27 26 25 24 23 22 21 20 19 18 17 16 15 14 13 12 11 10 9 8 7 6 5 4 3 2 1 "
     ]
    },
    {
     "name": "stderr",
     "output_type": "stream",
     "text": [
      "[INFO] Observation 1: As of the information provided, Yoon Suk Yeol, the current President of South Korea, was born on December 18, 1960. Therefore, as of today's date, April 28, 2023, he is 62 years old.\n",
      "[INFO] Invoking 2: YDCSearch(query='current age of Joe Biden')\n"
     ]
    },
    {
     "name": "stdout",
     "output_type": "stream",
     "text": [
      "RateLimitError for _get_function_observation. -----> Will automatically retry 54 seconds later.\n",
      "54 53 52 51 50 49 48 47 46 45 44 43 42 41 40 39 38 37 36 35 34 33 32 31 30 29 28 27 26 25 24 23 22 21 20 19 18 17 16 15 14 13 12 11 10 9 8 7 6 5 4 3 2 1 "
     ]
    },
    {
     "name": "stderr",
     "output_type": "stream",
     "text": [
      "[INFO] Observation 2: As of the current date, Joe Biden is 80 years old. He was born on November 20, 1942.\n",
      "[INFO] Invoking 3: The current Korean president, Yoon Suk Yeol, is 62 years old, and Joe Biden is 80 years old.\n",
      "[INFO] Answer: The current Korean president, Yoon Suk Yeol, is 62 years old, and Joe Biden is 80 years old.\n",
      "[INFO] Jugdement: Your answer is incorrect. The correct answer is \"Joe Biden is 81 years old and the current Korean president, Yoon Suk Yeol, is 62 years old.\"\n",
      "[INFO] Trial 3\n",
      "[INFO] Invoking 1: YDCSearch(query='current Korean president age')\n"
     ]
    },
    {
     "name": "stdout",
     "output_type": "stream",
     "text": [
      "RateLimitError for _get_function_observation. -----> Will automatically retry 53 seconds later.\n",
      "53 52 51 50 49 48 47 46 45 44 43 42 41 40 39 38 37 36 35 34 33 32 31 30 29 28 27 26 25 24 23 22 21 20 19 18 17 16 15 14 13 12 11 10 9 8 7 6 5 4 3 2 1 "
     ]
    },
    {
     "name": "stderr",
     "output_type": "stream",
     "text": [
      "[INFO] Observation 1: The current president of South Korea, Yoon Suk Yeol, was born on December 18, 1960. As of today, he is 61 years old.\n",
      "[INFO] Invoking 2: YDCSearch(query='Joe Biden age')\n"
     ]
    },
    {
     "name": "stdout",
     "output_type": "stream",
     "text": [
      "RateLimitError for _get_function_observation. -----> Will automatically retry 55 seconds later.\n",
      "55 54 53 52 51 50 49 48 47 46 45 44 43 42 41 40 39 38 37 36 35 34 33 32 31 30 29 28 27 26 25 24 23 22 21 20 19 18 17 16 15 14 13 12 11 10 9 8 7 6 5 4 3 2 1 "
     ]
    },
    {
     "name": "stderr",
     "output_type": "stream",
     "text": [
      "[INFO] Observation 2: Joe Biden is 81 years old. He was born on November 20, 1942.\n",
      "[INFO] Invoking 3: Yoon Suk Yeol: 61 Jahre alt, Joe Biden: 81 Jahre alt.\n",
      "[INFO] Answer: Yoon Suk Yeol: 61 Jahre alt, Joe Biden: 81 Jahre alt.\n",
      "[INFO] Jugdement: Your answer is incorrect. The correct answer is \"Joe Biden is 81 years old and the current Korean president, Yoon Suk Yeol, is 62 years old.\"\n"
     ]
    }
   ],
   "source": [
    "# #### OepnAI Agent\n",
    "from agents.openai_function_calling_agent import OpenAIFuntionCallingAgent\n",
    "openai_agent = OpenAIFuntionCallingAgent(\n",
    "    reasoninig_engine = QuickAzureChatOpenAI(version=GPT_VER),\n",
    "    base_prompt = \"jet-taekyo-lee/openai-function-calling-agent\",\n",
    "    schemas_and_tools=get_all_schemas_and_tools_by_default(azure_gpt_version=GPT_VER),\n",
    "    evaluator = CustomQAEvaluator(llm=QuickAzureChatOpenAI(version=GPT_VER)),\n",
    "    action_word = 'Invoking',\n",
    "    horizon = 3)\n",
    "\n",
    "openai_agent.clear_logs()\n",
    "openai_agent.run_agent_trials(num_trials=3, \n",
    "query=\"How old are the current Korean president and Joe Biden?\",\n",
    "reference=\"Joe Biden is 81 years old and the current Korean president, Yoon Suk Yeol, is 62 years old.\")"
   ]
  },
  {
   "cell_type": "markdown",
   "metadata": {},
   "source": [
    "### Reflexion OpenAI FunctionCalling agent"
   ]
  },
  {
   "cell_type": "code",
   "execution_count": 2,
   "metadata": {},
   "outputs": [
    {
     "name": "stderr",
     "output_type": "stream",
     "text": [
      "[INFO] Query: How old are the current Korean president and Joe Biden?\n",
      "[INFO] Trial 1\n",
      "[INFO] Invoking 1: YDCSearch(query='current Korean president age')\n",
      "[INFO] Observation 1: The current President of South Korea, Yoon Suk Yeol, was born on December 18, 1960. As of the current date, October 26, 2022, he is 61 years old.\n",
      "[INFO] Invoking 2: YDCSearch(query='Joe Biden age')\n"
     ]
    },
    {
     "name": "stdout",
     "output_type": "stream",
     "text": [
      "RateLimitError for _get_function_observation. -----> Will automatically retry 57 seconds later.\n",
      "57 56 55 54 53 52 51 50 49 48 47 46 45 44 43 42 41 40 39 38 37 36 35 34 33 32 31 30 29 28 27 26 25 24 23 22 21 20 19 18 17 16 15 14 13 12 11 10 9 8 7 6 5 4 3 2 1 "
     ]
    },
    {
     "name": "stderr",
     "output_type": "stream",
     "text": [
      "[INFO] Observation 2: Joe Biden is 81 years old. He was born on November 20, 1942.\n",
      "[INFO] Invoking 3: Yoon Suk Yeol is 61 years old and Joe Biden is 81 years old.\n",
      "[INFO] Answer: Yoon Suk Yeol is 61 years old and Joe Biden is 81 years old.\n",
      "[INFO] Jugdement: Your answer is incorrect. The correct answer is \"Joe Biden is 81 years old and the current Korean president, Yoon Suk Yeol, is 62 years old.\"\n",
      "[INFO] Trial 2\n",
      "[INFO] Reflexion......\n",
      "[INFO] You have attempted to answer following question before and failed. The following reflection(s) give a plan to avoid failing to answer the question in the same way you did previously. Use them to improve your strategy of correctly answering the given question.\n",
      "- The query asked for the ages of two individuals, the current Korean president and Joe Biden. The initial steps taken to search for their ages separately were correct. However, I did not verify the accuracy of the information obtained from the search results. For Joe Biden, the search result stated that he is 81 years old, which is incorrect as of the current date provided (October 26, 2022). Joe Biden, born in 1942, would be 79 years old, not 81. This mistake led to an incorrect final answer.\n",
      "\n",
      "In the future trial, I will use the current date to calculate the exact age of individuals instead of relying on potentially outdated search results. For precise age calculations, I will use the GetDatetime tool to obtain the current date and then calculate the age using the birthdates of the individuals in question. This will ensure the accuracy of the age-related information provided.\n",
      "[INFO] Invoking 1: GetDatetime(IANA_timezone='America/New_York')\n",
      "[INFO] Observation 1: timezone: America/New_York, current time(year-month-day-hour-minute): 2023-11-28-6-3\n"
     ]
    },
    {
     "name": "stdout",
     "output_type": "stream",
     "text": [
      "RateLimitError for _invoke_agent_action. -----> Will automatically retry 47 seconds later.\n",
      "47 46 45 44 43 42 41 40 39 38 37 36 35 34 33 32 31 30 29 28 27 26 25 24 23 22 21 20 19 18 17 16 15 14 13 12 11 10 9 8 7 6 5 4 3 2 1 "
     ]
    },
    {
     "name": "stderr",
     "output_type": "stream",
     "text": [
      "[INFO] Invoking 2: YDCSearch(query='current Korean president 2023')\n",
      "[INFO] Observation 2: The current president of South Korea as of 2023 is Yoon Suk Yeol.\n",
      "[INFO] Invoking 3: YDCSearch(query='Yoon Suk Yeol birthdate')\n"
     ]
    },
    {
     "name": "stdout",
     "output_type": "stream",
     "text": [
      "RateLimitError for _get_function_observation. -----> Will automatically retry 53 seconds later.\n",
      "53 52 51 50 49 48 47 46 45 44 43 42 41 40 39 38 37 36 35 34 33 32 31 30 29 28 27 26 25 24 23 22 21 20 19 18 17 16 15 14 13 12 11 10 9 8 7 6 5 4 3 2 1 "
     ]
    },
    {
     "name": "stderr",
     "output_type": "stream",
     "text": [
      "[INFO] Observation 3: Yoon Suk Yeol was born on 18 December 1960.\n",
      "[INFO] Jugdement: You failed to provide an answer because you exceeded the permitted number of reasoning steps. You must give an answer within 3 steps.\n",
      "[INFO] Trial 3\n",
      "[INFO] Reflexion......\n",
      "[INFO] You have attempted to answer following question before and failed. The following reflection(s) give a plan to avoid failing to answer the question in the same way you did previously. Use them to improve your strategy of correctly answering the given question.\n",
      "- The query asked for the ages of two individuals, the current Korean president and Joe Biden. The initial steps taken to search for their ages separately were correct. However, I did not verify the accuracy of the information obtained from the search results. For Joe Biden, the search result stated that he is 81 years old, which is incorrect as of the current date provided (October 26, 2022). Joe Biden, born in 1942, would be 79 years old, not 81. This mistake led to an incorrect final answer.\n",
      "\n",
      "In the future trial, I will use the current date to calculate the exact age of individuals instead of relying on potentially outdated search results. For precise age calculations, I will use the GetDatetime tool to obtain the current date and then calculate the age using the birthdates of the individuals in question. This will ensure the accuracy of the age-related information provided.\n",
      "- The failure in the previous trial was due to the inefficient use of reasoning steps without reaching a conclusion within the given limit. Specifically, while the current time and the Korean president’s identity were established, the age calculation for both the Korean president and Joe Biden was not completed.\n",
      "\n",
      "To avoid this in the future, a more concise plan should be followed. Here's the revised plan:\n",
      "\n",
      "1. Use YDCSearch to find the birthdates of both the current Korean president and Joe Biden in one step, if possible.\n",
      "2. Calculate their current ages by considering the year obtained from the GetDatetime tool and their birth years.\n",
      "3. Provide the ages of both individuals in one answer without using additional steps for calculations that can be done mentally. \n",
      "\n",
      "It's important to gather all necessary information in one step when possible and to perform simple arithmetic without the use of external tools to stay within the reasoning step limit.\n",
      "[INFO] Invoking 1: YDCSearch(query='current Korean president birthdate')\n"
     ]
    },
    {
     "name": "stdout",
     "output_type": "stream",
     "text": [
      "RateLimitError for _get_function_observation. -----> Will automatically retry 47 seconds later.\n",
      "47 46 45 44 43 42 41 40 39 38 37 36 35 34 33 32 31 30 29 28 27 26 25 24 23 22 21 20 19 18 17 16 15 14 13 12 11 10 9 8 7 6 5 4 3 2 1 "
     ]
    },
    {
     "name": "stderr",
     "output_type": "stream",
     "text": [
      "[INFO] Observation 1: The current president of South Korea, Yoon Suk Yeol, was born on 18 December 1960.\n",
      "[INFO] Invoking 2: YDCSearch(query='Joe Biden birthdate')\n"
     ]
    },
    {
     "name": "stdout",
     "output_type": "stream",
     "text": [
      "RateLimitError for _get_function_observation. -----> Will automatically retry 54 seconds later.\n",
      "54 53 52 51 50 49 48 47 46 45 44 43 42 41 40 39 38 37 36 35 34 33 32 31 30 29 28 27 26 25 24 23 22 21 20 19 18 17 16 15 14 13 12 11 10 9 8 7 6 5 4 3 2 1 "
     ]
    },
    {
     "name": "stderr",
     "output_type": "stream",
     "text": [
      "[INFO] Observation 2: Joe Biden was born on November 20, 1942.\n",
      "[INFO] Invoking 3: GetDatetime(IANA_timezone='Asia/Seoul')\n",
      "[INFO] Observation 3: timezone: Asia/Seoul, current time(year-month-day-hour-minute): 2023-11-28-20-6\n",
      "[INFO] Jugdement: You failed to provide an answer because you exceeded the permitted number of reasoning steps. You must give an answer within 3 steps.\n"
     ]
    }
   ],
   "source": [
    "# # #### Reflexion OepnAI Agent\n",
    "from agents.reflexion_openai_function_calling_agent import ReflexionOpenAIFuntionCallingAgent\n",
    "from chains.reflexion_chains import BaseReflexionChain\n",
    "from fewshot_examples.reflections import OPENAI_REFLECTIONS, REACT_REFLECTION_HEADER\n",
    "   \n",
    "openai_reflexion_chains = BaseReflexionChain(\n",
    "                    reasoninig_engine=QuickAzureChatOpenAI(version=GPT_VER),\n",
    "                    prompt=\"jet-taekyo-lee/openai-reflexion-chain-prompt\", \n",
    "                    schemas_and_tools=get_all_schemas_and_tools_by_default(azure_gpt_version=GPT_VER),\n",
    "                    reflexion_examples=OPENAI_REFLECTIONS\n",
    "                    )\n",
    "\n",
    "openai_reflexion_prompt = \"jet-taekyo-lee/rexlexion-openai-function-calling-agent\"\n",
    "openai_reflexion_agent = ReflexionOpenAIFuntionCallingAgent(\n",
    "                        reflexion_chain = openai_reflexion_chains,\n",
    "                        reflexion_header = REACT_REFLECTION_HEADER,\n",
    "                        reasoninig_engine=QuickAzureChatOpenAI(version=GPT_VER), \n",
    "                        base_prompt=openai_reflexion_prompt, \n",
    "                        schemas_and_tools=get_all_schemas_and_tools_by_default(azure_gpt_version=GPT_VER),\n",
    "                        evaluator=CustomQAEvaluator(llm=QuickAzureChatOpenAI(version=GPT_VER)),\n",
    "                        action_word='Invoking',\n",
    "                        file_logging=True,\n",
    "                        horizon = 3)\n",
    "\n",
    "openai_reflexion_agent.clear_logs()\n",
    "openai_reflexion_agent.run_agent_trials(num_trials=3, \n",
    "query=\"How old are the current Korean president and Joe Biden?\",\n",
    "reference=\"Joe Biden is 81 years old and the current Korean president, Yoon Suk Yeol, is 62 years old.\")\n"
   ]
  },
  {
   "cell_type": "markdown",
   "metadata": {},
   "source": [
    "### Parallel Function Calling agent"
   ]
  },
  {
   "cell_type": "code",
   "execution_count": null,
   "metadata": {},
   "outputs": [],
   "source": [
    "#### Parallel Function Calling Agent\n",
    "from agents.parallel_func_calling_agent import OpenAIParallelFuntionCallingAgent\n",
    "parallel_function_calling_agent = OpenAIParallelFuntionCallingAgent(\n",
    "    reasoninig_engine = QuickAzureChatOpenAI(),\n",
    "    base_prompt = 'jet-taekyo-lee/parallel-function-calling-agent',\n",
    "    evaluator = CustomQAEvaluator(llm=QuickAzureChatOpenAI()),\n",
    "    action_word = 'Invoking',\n",
    "    schemas_and_tools = get_all_schemas_and_tools_by_default(llm=QuickAzureChatOpenAI())\n",
    ")\n",
    "\n",
    "\n",
    "\n",
    "parallel_function_calling_agent.clear_logs()\n",
    "parallel_function_calling_agent.run_agent_trials(num_trials=3, \n",
    "query=\"How old are the current Korean president and Joe Biden?\",\n",
    "reference=\"Joe Biden is 81 years old and the current Korean president, Yoon Suk Yeol, is 62 years old.\")\n",
    "\n"
   ]
  },
  {
   "cell_type": "code",
   "execution_count": null,
   "metadata": {},
   "outputs": [],
   "source": []
  }
 ],
 "metadata": {
  "kernelspec": {
   "display_name": "Python 3.11.5 ('llm_agents')",
   "language": "python",
   "name": "python3"
  },
  "language_info": {
   "codemirror_mode": {
    "name": "ipython",
    "version": 3
   },
   "file_extension": ".py",
   "mimetype": "text/x-python",
   "name": "python",
   "nbconvert_exporter": "python",
   "pygments_lexer": "ipython3",
   "version": "3.11.5"
  },
  "orig_nbformat": 4,
  "vscode": {
   "interpreter": {
    "hash": "d3fb45ff54312d810d3b33eec9af47862c42661f076ce6b0d7045a13e18ceae3"
   }
  }
 },
 "nbformat": 4,
 "nbformat_minor": 2
}
