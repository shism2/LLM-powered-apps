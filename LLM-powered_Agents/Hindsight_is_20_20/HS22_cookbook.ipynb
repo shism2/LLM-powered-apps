{
 "cells": [
  {
   "cell_type": "markdown",
   "metadata": {},
   "source": [
    "### Load Envs "
   ]
  },
  {
   "cell_type": "code",
   "execution_count": 1,
   "metadata": {},
   "outputs": [],
   "source": [
    "import os\n",
    "from reasoning_engines.langchain_llm_wrappers import QuickAzureChatOpenAI, QuickAzureOpenAIClient\n",
    "from tools.get_tools import DefaultSchemasTools\n",
    "from langchain import hub\n",
    "from utils.load_envs import Environ\n",
    "from chains.qa_evaluators import CustomQAEvaluator\n"
   ]
  },
  {
   "cell_type": "markdown",
   "metadata": {},
   "source": [
    "### ReAct"
   ]
  },
  {
   "cell_type": "code",
   "execution_count": 2,
   "metadata": {},
   "outputs": [
    {
     "name": "stderr",
     "output_type": "stream",
     "text": [
      "[INFO] Query: Who is older? The former president of Korea vs. the MLB American League MVP of the last season. What is the result if you sum up the ages of the two?\n",
      "[INFO] Trial 1\n",
      "[INFO] Thought 1: I need to find out who the former president of Korea is and who the MLB American League MVP of the last season is. Then, I need to find their ages. I'll start by searching for the former president of Korea.\n",
      "[INFO] Action 1: YDCSearch(query='former president of Korea')\n",
      "[INFO] Observation 1: The most recent former president of South Korea is Moon Jae-In, who served from 2017 to 2022.\n",
      "[INFO] Thought 2: Now I need to find out the age of Moon Jae-In.\n",
      "[INFO] Action 2: YDCSearch(query='Moon Jae-In age')\n",
      "[INFO] Observation 2: Moon Jae-in was born on January 24, 1953.\n",
      "[INFO] Thought 3: Now I need to calculate Moon Jae-In's age. I'll use the current year to do this.\n",
      "[INFO] Action 3: GetDatetime(IANA_timezone='Asia/Seoul')\n",
      "[INFO] Observation 3: timezone: Asia/Seoul, current time(year-month-day-hour-minute): 2023-12-1-17-29\n",
      "[INFO] Thought 4: Moon Jae-In was born in 1953 and the current year is 2023, so he is 70 years old. Now I need to find out who the MLB American League MVP of the last season is.\n",
      "[INFO] Action 4: YDCSearch(query='MLB American League MVP 2023')\n",
      "[INFO] Observation 4: The 2023 American League Most Valuable Player (MVP) is Shohei Ohtani from the Los Angeles Angels.\n",
      "[INFO] Thought 5: Now I need to find out the age of Shohei Ohtani.\n",
      "[INFO] Action 5: YDCSearch(query='Shohei Ohtani age')\n",
      "[INFO] Observation 5: Shohei Ohtani is 29 years old.\n",
      "[INFO] Thought 6: Shohei Ohtani was born on July 5, 1994. Now I need to calculate his age. I'll use the current year to do this.\n",
      "[INFO] Action 6: GetDatetime(IANA_timezone='America/Los_Angeles')\n",
      "[INFO] Observation 6: timezone: America/Los_Angeles, current time(year-month-day-hour-minute): 2023-12-1-0-30\n",
      "[INFO] Jugdement: You failed to provide an answer because you exceeded the permitted number of reasoning steps. You must give an answer within 6 steps.\n",
      "[INFO] Trial 2\n",
      "[INFO] Thought 1: I need to find out who the former president of Korea is and who the MLB American League MVP of the last season is. I'll start with the former president of Korea.\n",
      "[INFO] Action 1: YDCSearch(query='former president of Korea')\n",
      "[INFO] Observation 1: The most recent former president of South Korea is Moon Jae-In, who served from 2017 to 2022.\n",
      "[INFO] Thought 2: Now I need to find out Moon Jae-In's age.\n",
      "[INFO] Action 2: YDCSearch(query='Moon Jae-In age')\n",
      "[INFO] Observation 2: Moon Jae-in was born on January 24, 1953.\n",
      "[INFO] Thought 3: Now I need to calculate Moon Jae-In's age.\n",
      "[INFO] Action 3: PythonREPL(command='from datetime import datetime\n",
      "print((datetime.now() - datetime(1953, 1, 24)).days // 365)')\n",
      "Python REPL can execute arbitrary code. Use with caution.\n",
      "[INFO] Observation 3: 70\n",
      "[INFO] Thought 4: Moon Jae-In is 70 years old. Now I need to find out who the MLB American League MVP of the last season is.\n",
      "[INFO] Action 4: YDCSearch(query='MLB American League MVP 2022')\n",
      "[INFO] Observation 4: The 2022 American League Most Valuable Player (MVP) was Aaron Judge from the New York Yankees.\n",
      "[INFO] Thought 5: Now I need to find out Aaron Judge's age.\n",
      "[INFO] Action 5: YDCSearch(query='Aaron Judge age')\n",
      "[INFO] Observation 5: Aaron Judge is 31 years old.\n",
      "[INFO] Thought 6: Now I need to sum up the ages of Moon Jae-In and Aaron Judge.\n",
      "[INFO] Action 6: PythonREPL(command='print(70 + 31)')\n",
      "[INFO] Observation 6: 101\n",
      "[INFO] Jugdement: You failed to provide an answer because you exceeded the permitted number of reasoning steps. You must give an answer within 6 steps.\n"
     ]
    }
   ],
   "source": [
    "import os\n",
    "from reasoning_engines.langchain_llm_wrappers import QuickAzureChatOpenAI, QuickAzureOpenAIClient\n",
    "from tools.get_tools import DefaultSchemasTools\n",
    "from langchain import hub\n",
    "from utils.load_envs import Environ\n",
    "from chains.qa_evaluators import CustomQAEvaluator\n",
    "\n",
    "\n",
    "#### ReAct Agent\n",
    "from agents.react_agents import ReActAgent\n",
    "\n",
    "GPT_VER = '0613'\n",
    "react_agent = ReActAgent(reasoninig_engine=QuickAzureChatOpenAI(version=GPT_VER), \n",
    "                        base_prompt=\"hwchase17/react-multi-input-json\", \n",
    "                        schemas_and_tools=DefaultSchemasTools(azure_gpt_version=GPT_VER), \n",
    "                        evaluator=CustomQAEvaluator(llm=QuickAzureChatOpenAI(version='1106')), \n",
    "                        stop_words=[\"Observation\"], \n",
    "                        thought_word= 'Thought', \n",
    "                        action_word='Action',\n",
    "                        file_logging=True,\n",
    "                        horizon=6)\n",
    "\n",
    "\n",
    "react_agent.clear_logs()\n",
    "react_agent.run_agent_trials(num_trials=2, \n",
    "query=\"Who is older? The former president of Korea vs. the MLB American League MVP of the last season. What is the result if you sum up the ages of the two?\",\n",
    "reference=\"The former former president of Korea is older. The sum of their age is 99.\")\n",
    "\n"
   ]
  },
  {
   "cell_type": "markdown",
   "metadata": {},
   "source": [
    "### Reflexion ReAct"
   ]
  },
  {
   "cell_type": "code",
   "execution_count": 3,
   "metadata": {},
   "outputs": [
    {
     "name": "stderr",
     "output_type": "stream",
     "text": [
      "[INFO] Query: Who is older? The former president of Korea vs. the MLB American League MVP of the last season. What is the result if you sum up the ages of the two?\n",
      "[INFO] Trial 1\n",
      "[INFO] Thought 1: I need to find out who the former president of Korea is and who the MLB American League MVP of the last season is. Then, I need to find out their ages. I'll start by finding out who the former president of Korea is.\n",
      "[INFO] Action 1: YDCSearch(query='former president of Korea')\n",
      "[INFO] Observation 1: The most recent former president of South Korea is Moon Jae-In, who served from 2017 to 2022.\n",
      "[INFO] Thought 2: Now I know that the former president of Korea is Moon Jae-In. Next, I need to find out his age.\n",
      "[INFO] Action 2: YDCSearch(query='Moon Jae-In age')\n",
      "[INFO] Observation 2: Moon Jae-in was born on January 24, 1953.\n",
      "[INFO] Thought 3: Now I know that Moon Jae-In was born on January 24, 1953. I can calculate his age using this information. I'll use the PythonREPL tool to calculate his age.\n",
      "[INFO] Action 3: PythonREPL(command='from datetime import datetime\n",
      "print((datetime.now() - datetime(1953, 1, 24)).days // 365)')\n",
      "[INFO] Observation 3: 70\n",
      "[INFO] Thought 4: Moon Jae-In is 70 years old. Now I need to find out who the MLB American League MVP of the last season is.\n",
      "[INFO] Action 4: YDCSearch(query='MLB American League MVP 2022')\n",
      "[INFO] Observation 4: The 2022 American League Most Valuable Player (MVP) was Aaron Judge from the New York Yankees.\n",
      "[INFO] Thought 5: Now I know that the MLB American League MVP of the last season is Aaron Judge. Next, I need to find out his age.\n",
      "[INFO] Action 5: YDCSearch(query='Aaron Judge age')\n",
      "[INFO] Observation 5: Aaron Judge is 31 years old.\n",
      "[INFO] Thought 6: Aaron Judge is 31 years old. Now I can calculate the sum of the ages of Moon Jae-In and Aaron Judge.\n",
      "[INFO] Action 6: PythonREPL(command='print(70 + 31)')\n",
      "[INFO] Observation 6: 101\n",
      "[INFO] Jugdement: You failed to provide an answer because you exceeded the permitted number of reasoning steps. You must give an answer within 6 steps.\n",
      "[INFO] Trial 2\n",
      "[INFO] Reflexion......\n",
      "[INFO] You have attempted to answer following question before and failed. The following reflection(s) give a plan to avoid failing to answer the question in the same way you did previously. Use them to improve your strategy of correctly answering the given question.\n",
      "- In this trial, I failed to provide an answer within the allocated reasoning steps because I used separate steps to find out the ages of the individuals and to calculate the sum of their ages. I could have combined these steps to save time. In the future, I will try to combine steps where possible to ensure I can provide an answer within the allocated reasoning steps. For example, after finding out the ages of the individuals, I can directly state the sum in my thought process without using the PythonREPL tool for simple arithmetic.\n",
      "[INFO] Thought 1: I need to find out who the former president of Korea is and who the MLB American League MVP of the last season is. I'll start with the former president of Korea.\n",
      "[INFO] Action 1: YDCSearch(query='former president of Korea')\n",
      "[INFO] Observation 1: The most recent former president of South Korea is Moon Jae-In, who served from 2017 to 2022.\n",
      "[INFO] Thought 2: Now I need to find out Moon Jae-In's age.\n",
      "[INFO] Action 2: YDCSearch(query='Moon Jae-In age')\n",
      "[INFO] Observation 2: Moon Jae-in was born on January 24, 1953.\n",
      "[INFO] Thought 3: Now I need to calculate Moon Jae-In's age.\n",
      "[INFO] Action 3: PythonREPL(command='from datetime import datetime\n",
      "print((datetime.now() - datetime(1953, 1, 24)).days // 365)')\n",
      "[INFO] Observation 3: 70\n",
      "[INFO] Thought 4: Moon Jae-In is 70 years old. Now I need to find out who the MLB American League MVP of the last season is.\n",
      "[INFO] Action 4: YDCSearch(query='MLB American League MVP 2022')\n",
      "[INFO] Observation 4: The 2022 American League Most Valuable Player (MVP) was Aaron Judge from the New York Yankees.\n",
      "[INFO] Thought 5: Now I need to find out Aaron Judge's age.\n",
      "[INFO] Action 5: YDCSearch(query='Aaron Judge age')\n",
      "[INFO] Observation 5: Aaron Judge is 31 years old.\n",
      "[INFO] Thought 6: Now I need to sum up the ages of Moon Jae-In and Aaron Judge.\n",
      "[INFO] Action 6: PythonREPL(command='print(70 + 31)')\n",
      "[INFO] Observation 6: 101\n",
      "[INFO] Jugdement: You failed to provide an answer because you exceeded the permitted number of reasoning steps. You must give an answer within 6 steps.\n"
     ]
    }
   ],
   "source": [
    "import os\n",
    "from reasoning_engines.langchain_llm_wrappers import QuickAzureChatOpenAI, QuickAzureOpenAIClient\n",
    "from tools.get_tools import DefaultSchemasTools\n",
    "from langchain import hub\n",
    "from utils.load_envs import Environ\n",
    "from chains.qa_evaluators import CustomQAEvaluator\n",
    "\n",
    "\n",
    "#### Reflexion Agent\n",
    "from agents.reflexion_react_agents import ReflexionReActAgent\n",
    "from chains.reflexion_chains import BaseReflexionChain\n",
    "from fewshot_examples.reflections import REACT_REFLECTION_HEADER, REACT_REFLECTIONS\n",
    "\n",
    "GPT_VER = '0613'   \n",
    "reflexion_chains = BaseReflexionChain(\n",
    "                    reasoninig_engine=QuickAzureChatOpenAI(version=GPT_VER),\n",
    "                    prompt=\"jet-taekyo-lee/experimental-reflextion\", \n",
    "                    schemas_and_tools=DefaultSchemasTools(azure_gpt_version=GPT_VER),\n",
    "                    reflexion_examples=REACT_REFLECTIONS\n",
    "                    )\n",
    "\n",
    "reflexion_prompt = \"jet-taekyo-lee/reflexion-react\"\n",
    "reflexion_agent = ReflexionReActAgent(\n",
    "                        reflexion_chain = reflexion_chains,\n",
    "                        reflexion_header = REACT_REFLECTION_HEADER,\n",
    "                        reasoninig_engine=QuickAzureChatOpenAI(version=GPT_VER), \n",
    "                        base_prompt=\"hwchase17/react-multi-input-json\", \n",
    "                        schemas_and_tools=DefaultSchemasTools(azure_gpt_version=GPT_VER), \n",
    "                        evaluator=CustomQAEvaluator(llm=QuickAzureChatOpenAI(version='1106')), \n",
    "                        stop_words=[\"Observation\"], \n",
    "                        thought_word= 'Thought', \n",
    "                        action_word='Action',\n",
    "                        file_logging=True,\n",
    "                        horizon=6)\n",
    "\n",
    "\n",
    "\n",
    "reflexion_agent.clear_logs()\n",
    "reflexion_agent.run_agent_trials(num_trials=2, \n",
    "query=\"Who is older? The former president of Korea vs. the MLB American League MVP of the last season. What is the result if you sum up the ages of the two?\",\n",
    "reference=\"The former former president of Korea is older. The sum of their age is 99.\")\n",
    "\n"
   ]
  },
  {
   "cell_type": "markdown",
   "metadata": {},
   "source": [
    "### OpenAI FunctionCalling agent"
   ]
  },
  {
   "cell_type": "code",
   "execution_count": 4,
   "metadata": {},
   "outputs": [
    {
     "name": "stderr",
     "output_type": "stream",
     "text": [
      "[INFO] Query: Who is older? The former president of Korea vs. the MLB American League MVP of the last season. What is the result if you sum up the ages of the two?\n",
      "[INFO] Trial 1\n",
      "[INFO] Invoking 1: YDCSearch(query='former president of Korea age')\n",
      "[INFO] Observation 1: The former president of South Korea, Moon Jae-in, was born on January 24, 1953. As of 2022, he is 69 years old. The current president, Yoon Suk Yeol, was born on December 18, 1960, making him 62 years old as of 2022.\n",
      "[INFO] Invoking 2: YDCSearch(query='MLB American League MVP last season age')\n",
      "[INFO] Observation 2: The American League MVP for the 2023 season was Shohei Ohtani from the Los Angeles Angels. He was born on July 5, 1994, which would have made him 29 years old during the 2023 season.\n",
      "[INFO] Invoking 3: PythonREPL(command='print(69 + 29)')\n",
      "[INFO] Observation 3: 98\n",
      "[INFO] Jugdement: You failed to provide an answer because you exceeded the permitted number of reasoning steps. You must give an answer within 3 steps.\n",
      "[INFO] Trial 2\n",
      "[INFO] Invoking 1: YDCSearch(query='former president of Korea age')\n",
      "[INFO] Observation 1: The former president of South Korea, Moon Jae-in, was born on January 24, 1953. As of 2022, he is 69 years old. The current president, Yoon Suk Yeol, was born on December 18, 1960, making him 62 years old as of 2022.\n",
      "[INFO] Invoking 2: YDCSearch(query='MLB American League MVP 2021 age')\n",
      "[INFO] Observation 2: Shohei Ohtani, who won the American League MVP in 2021, was born on July 5, 1994, which made him 27 years old in 2021.\n",
      "[INFO] Invoking 3: PythonREPL(command='print(69 + 27)')\n",
      "[INFO] Observation 3: 96\n",
      "[INFO] Jugdement: You failed to provide an answer because you exceeded the permitted number of reasoning steps. You must give an answer within 3 steps.\n"
     ]
    }
   ],
   "source": [
    "import os\n",
    "from reasoning_engines.langchain_llm_wrappers import QuickAzureChatOpenAI, QuickAzureOpenAIClient\n",
    "from tools.get_tools import DefaultSchemasTools\n",
    "from langchain import hub\n",
    "from utils.load_envs import Environ\n",
    "from chains.qa_evaluators import CustomQAEvaluator\n",
    "\n",
    "\n",
    "# #### OepnAI Agent\n",
    "GPT_VER = '0613' \n",
    "from agents.openai_function_calling_agent import OpenAIFuntionCallingAgent\n",
    "openai_agent = OpenAIFuntionCallingAgent(\n",
    "    reasoninig_engine = QuickAzureChatOpenAI(version=GPT_VER),\n",
    "    base_prompt = \"jet-taekyo-lee/openai-function-calling-agent\",\n",
    "    schemas_and_tools=DefaultSchemasTools(azure_gpt_version=GPT_VER),\n",
    "    evaluator = CustomQAEvaluator(llm=QuickAzureChatOpenAI(version='1106')),\n",
    "    action_word = 'Invoking',\n",
    "    horizon = 3)\n",
    "\n",
    "openai_agent.clear_logs()\n",
    "openai_agent.run_agent_trials(num_trials=2, \n",
    "query=\"Who is older? The former president of Korea vs. the MLB American League MVP of the last season. What is the result if you sum up the ages of the two?\",\n",
    "reference=\"The former former president of Korea is older. The sum of their age is 99.\")"
   ]
  },
  {
   "cell_type": "markdown",
   "metadata": {},
   "source": [
    "### Reflexion OpenAI FunctionCalling agent"
   ]
  },
  {
   "cell_type": "code",
   "execution_count": 5,
   "metadata": {},
   "outputs": [
    {
     "name": "stderr",
     "output_type": "stream",
     "text": [
      "[INFO] Query: Who is older? The former president of Korea vs. the MLB American League MVP of the last season. What is the result if you sum up the ages of the two?\n",
      "[INFO] Trial 1\n",
      "[INFO] Invoking 1: YDCSearch(query='former president of Korea age')\n",
      "[INFO] Observation 1: The most recent former president of South Korea, Moon Jae-in, was born on January 24, 1953, which makes him 69 years old as of 2022.\n",
      "[INFO] Invoking 2: YDCSearch(query='MLB American League MVP 2021 age')\n",
      "[INFO] Observation 2: Shohei Ohtani, who won the American League MVP in 2021, was born on July 5, 1994, which made him 27 years old in 2021.\n",
      "[INFO] Jugdement: You failed to provide an answer because you exceeded the permitted number of reasoning steps. You must give an answer within 2 steps.\n",
      "[INFO] Trial 2\n",
      "[INFO] Reflexion......\n",
      "[INFO] You have attempted to answer following question before and failed. The following reflection(s) give a plan to avoid failing to answer the question in the same way you did previously. Use them to improve your strategy of correctly answering the given question.\n",
      "- In this trial, I failed to provide an answer within the allocated reasoning steps. I spent both steps gathering the necessary information but did not perform the final step of comparing the ages and summing them up. In the future, I should aim to gather the necessary information in a single step, if possible, or perform the comparison and summation directly without invoking a tool. For instance, I could use a single YDCSearch query to get the ages of both individuals, then perform the comparison and summation myself.\n",
      "[INFO] Invoking 1: YDCSearch(query='age of the former president of Korea')\n",
      "[INFO] Observation 1: The most recent former president of South Korea, Moon Jae-In, was born on January 24, 1953, making him 69 years old as of 2022.\n",
      "[INFO] Invoking 2: YDCSearch(query='MLB American League MVP of the last season age')\n",
      "[INFO] Observation 2: The American League Most Valuable Player (MVP) of the last season (2023) was Shohei Ohtani. He was born on July 5, 1994, which would have made him 29 years old during the 2023 season.\n",
      "[INFO] Jugdement: You failed to provide an answer because you exceeded the permitted number of reasoning steps. You must give an answer within 2 steps.\n"
     ]
    }
   ],
   "source": [
    "import os\n",
    "from reasoning_engines.langchain_llm_wrappers import QuickAzureChatOpenAI, QuickAzureOpenAIClient\n",
    "from tools.get_tools import DefaultSchemasTools\n",
    "from langchain import hub\n",
    "from utils.load_envs import Environ\n",
    "from chains.qa_evaluators import CustomQAEvaluator\n",
    "\n",
    "\n",
    "# # #### Reflexion OepnAI Agent\n",
    "from agents.reflexion_openai_function_calling_agent import ReflexionOpenAIFuntionCallingAgent\n",
    "from chains.reflexion_chains import BaseReflexionChain\n",
    "from fewshot_examples.reflections import OPENAI_REFLECTIONS, REACT_REFLECTION_HEADER\n",
    "\n",
    "GPT_VER = '0613'    \n",
    "openai_reflexion_chains = BaseReflexionChain(\n",
    "                    reasoninig_engine=QuickAzureChatOpenAI(version=GPT_VER),\n",
    "                    prompt=\"jet-taekyo-lee/openai-reflexion-chain-prompt\", \n",
    "                    schemas_and_tools=DefaultSchemasTools(azure_gpt_version=GPT_VER),\n",
    "                    reflexion_examples=OPENAI_REFLECTIONS\n",
    "                    )\n",
    "\n",
    "\n",
    "openai_reflexion_agent = ReflexionOpenAIFuntionCallingAgent(\n",
    "                        reflexion_chain = openai_reflexion_chains,\n",
    "                        reflexion_header = REACT_REFLECTION_HEADER,\n",
    "                        reasoninig_engine=QuickAzureChatOpenAI(version=GPT_VER), \n",
    "                        base_prompt=\"jet-taekyo-lee/rexlexion-openai-function-calling-agent\", \n",
    "                        schemas_and_tools=DefaultSchemasTools(azure_gpt_version=GPT_VER),\n",
    "                        evaluator=CustomQAEvaluator(llm=QuickAzureChatOpenAI(version='1106')),\n",
    "                        action_word='Invoking',\n",
    "                        file_logging=True,\n",
    "                        horizon = 2)\n",
    "\n",
    "openai_reflexion_agent.clear_logs()\n",
    "openai_reflexion_agent.run_agent_trials(num_trials=2, \n",
    "query=\"Who is older? The former president of Korea vs. the MLB American League MVP of the last season. What is the result if you sum up the ages of the two?\",\n",
    "reference=\"The former former president of Korea is older. The sum of their age is 99.\")\n"
   ]
  },
  {
   "cell_type": "markdown",
   "metadata": {},
   "source": [
    "### Parallel Function Calling agent"
   ]
  },
  {
   "cell_type": "code",
   "execution_count": 6,
   "metadata": {},
   "outputs": [
    {
     "name": "stderr",
     "output_type": "stream",
     "text": [
      "[INFO] Query: Who is older? The former president of Korea vs. the MLB American League MVP of the last season. What is the result if you sum up the ages of the two?\n",
      "[INFO] Trial 1\n",
      "[INFO] (step 1-action) Tool invocations in parallel: [Tool 1-> YDCSearch(query=former president of Korea age), Tool 2-> YDCSearch(query=MLB American League MVP last season age)]\n",
      "[INFO] (step 1-observation) :: [Tool 1-> As of the last update, the most recent former president of South Korea is Moon Jae-in, who was born on January 24, 1953. As of 2023, Moon Jae-in would be 70 years old. If you are asking about a different former president, please specify which one, and I can provide their age or age at the time of their passing., Tool 2-> The American League MVP for the 2023 season was Shohei Ohtani, who was born on July 5, 1994. Since the season typically ends in September or October and the MVP is announced shortly after, Ohtani would have been 29 years old when he was named the AL MVP for the 2023 season.]\n",
      "[INFO] (step 2-action) Tool invocations in parallel: Now I can answer directly without resorting to any tool.\n",
      "[INFO] Answer: Moon Jae-in is older. The sum of their ages is 99 years.\n",
      "[INFO] Jugdement: Your answer is correct.\n"
     ]
    }
   ],
   "source": [
    "import os\n",
    "from reasoning_engines.langchain_llm_wrappers import QuickAzureChatOpenAI, AsyncQuickAzureOpenAIClient\n",
    "from tools.get_tools import DefaultSchemasTools\n",
    "from langchain import hub\n",
    "from utils.load_envs import Environ\n",
    "from chains.qa_evaluators import CustomQAEvaluator\n",
    "import asyncio\n",
    "\n",
    "#### Parallel Function Calling Agent\n",
    "GPT_VER = '1106' \n",
    "from agents.parallel_func_calling_agent import OpenAIParallelFuntionCallingAgent\n",
    "parallel_calling_agent = OpenAIParallelFuntionCallingAgent(\n",
    "    reasoninig_engine = QuickAzureChatOpenAI(version=GPT_VER),\n",
    "    base_prompt = 'jet-taekyo-lee/parallel-function-calling-agent',\n",
    "    schemas_and_tools = DefaultSchemasTools(azure_gpt_version=GPT_VER),\n",
    "    evaluator = CustomQAEvaluator(llm=QuickAzureChatOpenAI('0613')),\n",
    "    action_word = 'Tool invocations in parallel',\n",
    "    observation_word = 'Tool-invocations results in parallel',\n",
    "    use_chat_completion_api = True,\n",
    "    azure_apenai_client = AsyncQuickAzureOpenAIClient(GPT_VER),\n",
    "    horizon = 6\n",
    ")\n",
    "\n",
    "\n",
    "\n",
    "\n",
    "\n",
    "parallel_calling_agent.clear_logs()\n",
    "await parallel_calling_agent.run_agent_trials_async(num_trials=2, \n",
    "query=\"Who is older? The former president of Korea vs. the MLB American League MVP of the last season. What is the result if you sum up the ages of the two?\",\n",
    "reference=\"The former former president of Korea is older. The sum of their age is 99.\")\n",
    "\n"
   ]
  },
  {
   "cell_type": "markdown",
   "metadata": {},
   "source": [
    "### Reflexion + Parallel Function Calling agent"
   ]
  },
  {
   "cell_type": "code",
   "execution_count": 7,
   "metadata": {},
   "outputs": [
    {
     "name": "stderr",
     "output_type": "stream",
     "text": [
      "[INFO] Query: Who is older? The former president of Korea vs. the MLB American League MVP of the last season. What is the result if you sum up the ages of the two?\n",
      "[INFO] Trial 1\n",
      "[INFO] (step 1-action) Tool invocations in parallel: [Tool 1-> YDCSearch(query=former president of Korea), Tool 2-> YDCSearch(query=MLB American League MVP last season)]\n"
     ]
    },
    {
     "name": "stdout",
     "output_type": "stream",
     "text": [
      "RateLimitError for _get_function_observation. -----> Will automatically retry 20 seconds later.\n",
      "20 19 18 17 16 15 14 13 12 11 10 9 8 7 6 5 4 3 2 1 RateLimitError for _get_function_observation. -----> Will automatically retry 20 seconds later.\n",
      "20 19 18 17 16 15 14 13 12 11 10 9 8 7 6 5 4 3 2 1 "
     ]
    },
    {
     "name": "stderr",
     "output_type": "stream",
     "text": [
      "[INFO] (step 1-observation) :: [Tool 1-> The most recent former president of South Korea is Moon Jae-in, who served from 2017 to 2022. Prior to Moon Jae-in, the former president was Park Geun-hye, who served from 2013 until her impeachment in 2017., Tool 2-> The American League MVP for the last season (2023) was Shohei Ohtani of the LA Angels.]\n",
      "[INFO] (step 2-action) Tool invocations in parallel: [Tool 1-> YDCSearch(query=Moon Jae-in age), Tool 2-> YDCSearch(query=Shohei Ohtani age)]\n",
      "[INFO] (step 2-observation) :: [Tool 1-> Moon Jae-in was born on January 24, 1953. As of the time of your question, he is 70 years old., Tool 2-> Shohei Ohtani is 29 years old.]\n",
      "[INFO] (step 3-action) Tool invocations in parallel: Now I can answer directly without resorting to any tool.\n",
      "[INFO] Answer: Shohei Ohtani is the younger of the two. The sum of their ages is 99 years.\n",
      "[INFO] Jugdement: Your answer is correct.\n"
     ]
    }
   ],
   "source": [
    "import os\n",
    "from reasoning_engines.langchain_llm_wrappers import QuickAzureChatOpenAI, AsyncQuickAzureOpenAIClient\n",
    "from tools.get_tools import DefaultSchemasTools\n",
    "from langchain import hub\n",
    "from utils.load_envs import Environ\n",
    "from chains.qa_evaluators import CustomQAEvaluator\n",
    "import asyncio\n",
    "\n",
    "#### Reflexion + Parallel Function Calling Agent\n",
    "from chains.reflexion_chains import BaseReflexionChain\n",
    "from agents.reflexion_parallel_calling_agent import ReflexionOpenAIParallelFuntionCallingAgent\n",
    "from fewshot_examples.reflections import OPENAI_PARALLEL_CALLING_REFLECTIONS, REACT_REFLECTION_HEADER\n",
    "\n",
    "GPT_VER = '1106'    \n",
    "openai_parallel_calling_reflexion_chains = BaseReflexionChain(\n",
    "                    reasoninig_engine=QuickAzureChatOpenAI(version=GPT_VER),\n",
    "                    prompt=\"jet-taekyo-lee/openai-parallel-calling-reflexion-chain-prompt\", \n",
    "                    schemas_and_tools=DefaultSchemasTools(azure_gpt_version=GPT_VER),\n",
    "                    reflexion_examples=OPENAI_PARALLEL_CALLING_REFLECTIONS\n",
    "                    )\n",
    "\n",
    "\n",
    "openai_parallel_calling_reflexion_agent = ReflexionOpenAIParallelFuntionCallingAgent(\n",
    "                        reflexion_chain = openai_parallel_calling_reflexion_chains,\n",
    "                        reflexion_header = REACT_REFLECTION_HEADER,\n",
    "                        reasoninig_engine=QuickAzureChatOpenAI(version=GPT_VER), \n",
    "                        base_prompt=\"jet-taekyo-lee/reflexion-openai-parallel-calling-agent\", \n",
    "                        schemas_and_tools=DefaultSchemasTools(azure_gpt_version=GPT_VER),\n",
    "                        evaluator=CustomQAEvaluator(llm=QuickAzureChatOpenAI(version='1106')),\n",
    "                        action_word = 'Tool invocations in parallel',\n",
    "                        observation_word = 'Tool-invocations results in parallel',\n",
    "                        use_chat_completion_api = True,\n",
    "                        azure_apenai_client = AsyncQuickAzureOpenAIClient(GPT_VER),\n",
    "                        file_logging=True,\n",
    "                        horizon = 6)\n",
    "\n",
    "\n",
    "openai_parallel_calling_reflexion_agent.clear_logs()\n",
    "# parallel_calling_agent.run_agent_trials(num_trials=3, \n",
    "# query=\"Which is bigger? The summation of the current Korean president's age and Joe Biden'age vs. the summation of current temperatures of Seoul, Tokyo, and New York?\",\n",
    "# reference=\"The summation of the current Korean president's age and Joe Biden'age is bigger.\")\n",
    "await openai_parallel_calling_reflexion_agent.run_agent_trials_async(num_trials=2, \n",
    "query=\"Who is older? The former president of Korea vs. the MLB American League MVP of the last season. What is the result if you sum up the ages of the two?\",\n",
    "reference=\"The former former president of Korea is older. The sum of their age is 99.\")\n",
    "\n"
   ]
  },
  {
   "cell_type": "code",
   "execution_count": null,
   "metadata": {},
   "outputs": [],
   "source": []
  }
 ],
 "metadata": {
  "kernelspec": {
   "display_name": "Python 3.11.5 ('llm_agents')",
   "language": "python",
   "name": "python3"
  },
  "language_info": {
   "codemirror_mode": {
    "name": "ipython",
    "version": 3
   },
   "file_extension": ".py",
   "mimetype": "text/x-python",
   "name": "python",
   "nbconvert_exporter": "python",
   "pygments_lexer": "ipython3",
   "version": "3.11.5"
  },
  "orig_nbformat": 4,
  "vscode": {
   "interpreter": {
    "hash": "d3fb45ff54312d810d3b33eec9af47862c42661f076ce6b0d7045a13e18ceae3"
   }
  }
 },
 "nbformat": 4,
 "nbformat_minor": 2
}
