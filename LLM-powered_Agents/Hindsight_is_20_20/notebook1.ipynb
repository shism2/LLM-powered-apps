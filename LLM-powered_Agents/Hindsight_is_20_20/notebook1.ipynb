{
 "cells": [
  {
   "cell_type": "code",
   "execution_count": 1,
   "metadata": {},
   "outputs": [
    {
     "name": "stderr",
     "output_type": "stream",
     "text": [
      "[INFO] Query: Who is older? The former president of Korea vs. the MLB American League MVP of the last season. What is the result if you sum up the ages of the two?\n",
      "[INFO] Trial 1\n",
      "[INFO] (step 1-action) Tool invocations in parallel: [Tool 1-> YDCSearch(query=former president of Korea age), Tool 2-> YDCSearch(query=MLB American League MVP last season age)]\n",
      "[INFO] (step 1-observation) :: [Tool 1-> As of the last update I have, the most recent former president of South Korea is Moon Jae-in, who was born on January 24, 1953. Therefore, as of April 2023, Moon Jae-in would be 70 years old. If you are asking about a different former president, please specify which one, and I can provide their age if the information is available up to my last update., Tool 2-> The American League MVP for the 2023 season was Shohei Ohtani. His age during the 2023 season was 28 years old, as he was born on July 5, 1994.]\n",
      "[INFO] (step 2-action) Tool invocations in parallel: Now I can answer directly without resorting to any tool.\n",
      "[INFO] Answer: The former president of Korea is older. Moon Jae-in is 70 years old, and the MLB American League MVP, Shohei Ohtani, is 28 years old. The sum of their ages is 98 years.\n",
      "[INFO] Jugdement: Your answer is incorrect. The correct answer is \"The former former president of Korea is older. The sum of their age is 99.\"\n",
      "[INFO] Trial 2\n",
      "[INFO] (step 1-action) Tool invocations in parallel: [Tool 1-> YDCSearch(query=former president of South Korea), Tool 2-> YDCSearch(query=MLB American League MVP last season)]\n"
     ]
    },
    {
     "name": "stdout",
     "output_type": "stream",
     "text": [
      "RateLimitError for _get_function_observation. -----> Will automatically retry 20 seconds later.\n",
      "20 19 18 17 16 15 14 13 12 11 10 9 8 7 6 5 4 3 2 1 RateLimitError for _get_function_observation. -----> Will automatically retry 20 seconds later.\n",
      "20 19 18 17 16 15 14 13 12 11 10 9 8 7 6 5 4 3 2 1 "
     ]
    },
    {
     "name": "stderr",
     "output_type": "stream",
     "text": [
      "[INFO] (step 1-observation) :: [Tool 1-> Park Geun-hye is a former president of South Korea who served from 2013 until her impeachment in 2017. She was the country's first female president and the first president to be born after the founding of South Korea. Her presidency ended when she was impeached and subsequently convicted on charges related to corruption. After spending nearly five years in prison, Park Geun-hye was released in December 2021 following a presidential pardon., Tool 2-> The American League MVP for the 2023 season was Shohei Ohtani of the LA Angels.]\n",
      "[INFO] (step 2-action) Tool invocations in parallel: [Tool 1-> YDCSearch(query=Park Geun-hye age), Tool 2-> YDCSearch(query=Shohei Ohtani age)]\n",
      "[INFO] (step 2-observation) :: [Tool 1-> Park Geun-hye was born on February 2, 1952. As of my knowledge cutoff in 2023, she would be 71 years old., Tool 2-> Shohei Ohtani is 29 years old.]\n",
      "[INFO] (step 3-action) Tool invocations in parallel: Now I can answer directly without resorting to any tool.\n",
      "[INFO] Answer: Park Geun-hye is older than Shohei Ohtani. \n",
      "\n",
      "The sum of their ages is 71 (Park Geun-hye) + 29 (Shohei Ohtani) = 100 years.\n",
      "[INFO] Jugdement: Your answer is incorrect. The correct answer is \"The former former president of Korea is older. The sum of their age is 99.\"\n",
      "[INFO] Trial 3\n",
      "[INFO] (step 1-action) Tool invocations in parallel: [Tool 1-> YDCSearch(query=former president of Korea age), Tool 2-> YDCSearch(query=MLB American League MVP last season age)]\n"
     ]
    },
    {
     "name": "stdout",
     "output_type": "stream",
     "text": [
      "RateLimitError for _get_function_observation. -----> Will automatically retry 20 seconds later.\n",
      "20 19 18 17 16 15 14 13 12 11 10 9 8 7 6 5 4 3 2 1 RateLimitError for _get_function_observation. -----> Will automatically retry 20 seconds later.\n",
      "20 19 18 17 16 15 14 13 12 11 10 9 8 7 6 5 4 3 2 1 "
     ]
    },
    {
     "name": "stderr",
     "output_type": "stream",
     "text": [
      "[INFO] (step 1-observation) :: [Tool 1-> As of my knowledge cutoff date in April 2023, the most recent former president of South Korea is Moon Jae-in, who was born on January 24, 1953. Therefore, as of April 2023, Moon Jae-in would be 70 years old. Please note that ages will change as time passes, so you may need to calculate the current age based on the birth date provided., Tool 2-> The American League MVP for the 2023 season was Shohei Ohtani. His age as of the 2023 season was 28 years old, as he was born on July 5, 1994.]\n",
      "[INFO] (step 2-action) Tool invocations in parallel: Now I can answer directly without resorting to any tool.\n",
      "[INFO] Answer: Moon Jae-in, the former president of Korea, is older than Shohei Ohtani, the MLB American League MVP of the last season. The sum of their ages is 70 (Moon Jae-in) + 28 (Shohei Ohtani) = 98 years old.\n",
      "[INFO] Jugdement: Your answer is incorrect. The correct answer is \"The former former president of Korea is older. The sum of their age is 99.\"\n",
      "[INFO] Query: Who is older? The former president of Korea vs. the MLB American League MVP of the last season. What is the result if you sum up the ages of the two?\n",
      "[INFO] Trial 1\n",
      "[INFO] (step 1-action) Tool invocations in parallel: [Tool 1-> YDCSearch(query=former president of Korea age), Tool 2-> YDCSearch(query=MLB American League MVP last season age)]\n"
     ]
    },
    {
     "name": "stdout",
     "output_type": "stream",
     "text": [
      "RateLimitError for _get_function_observation. -----> Will automatically retry 20 seconds later.\n",
      "20 19 18 17 16 15 14 13 12 11 10 9 8 7 6 5 4 3 2 1 RateLimitError for _get_function_observation. -----> Will automatically retry 20 seconds later.\n",
      "20 19 18 17 16 15 14 13 12 11 10 9 8 7 6 5 4 3 2 1 "
     ]
    },
    {
     "name": "stderr",
     "output_type": "stream",
     "text": [
      "[INFO] (step 1-observation) :: [Tool 1-> The age of a former president of South Korea would depend on which former president you are referring to and the current date. Here are the ages of the living former presidents as of my knowledge cutoff in 2023:\n",
      "\n",
      "1. Lee Myung-bak (이명박) - Born December 19, 1941, he would be 81 years old.\n",
      "2. Park Geun-hye (박근혜) - Born February 2, 1952, she would be 71 years old.\n",
      "\n",
      "Please note that ages would need to be adjusted based on the current date to be accurate., Tool 2-> The American League MVP for the 2023 season was Shohei Ohtani. His age as of the 2023 season would be 28 years old, as he was born on July 5, 1994.]\n",
      "[INFO] (step 2-action) Tool invocations in parallel: Now I can answer directly without resorting to any tool.\n",
      "[INFO] Answer: The former president of Korea mentioned is Lee Myung-bak, born December 19, 1941, making him 81 years old. The MLB American League MVP last season was Shohei Ohtani, born on July 5, 1994, making him 28 years old. Lee Myung-bak is older.\n",
      "\n",
      "Sum of their ages: 81 (Lee Myung-bak) + 28 (Shohei Ohtani) = 109 years.\n",
      "[INFO] Jugdement: Your answer is incorrect. The correct answer is \"The former former president of Korea is older. The sum of their age is 99.\"\n",
      "[INFO] Trial 2\n",
      "[INFO] (step 1-action) Tool invocations in parallel: [Tool 1-> YDCSearch(query=former president of South Korea), Tool 2-> YDCSearch(query=MLB American League MVP last season)]\n",
      "[INFO] (step 1-observation) :: [Tool 1-> The former president of South Korea is Park Geun-hye, who served as the 11th president from 2013 until her impeachment in 2017. She was the first woman to be elected as president of South Korea and the first female president popularly elected as head of state in East Asia. Her presidency ended when she was impeached and later convicted on charges related to corruption. Park Geun-hye was released from prison on December 31, 2021, after receiving a presidential pardon., Tool 2-> The American League MVP for the 2023 season was Shohei Ohtani of the LA Angels.]\n",
      "[INFO] (step 2-action) Tool invocations in parallel: [Tool 1-> YDCSearch(query=Park Geun-hye age), Tool 2-> YDCSearch(query=Shohei Ohtani age)]\n"
     ]
    },
    {
     "name": "stdout",
     "output_type": "stream",
     "text": [
      "RateLimitError for _get_function_observation. -----> Will automatically retry 20 seconds later.\n",
      "20 19 18 17 16 15 14 13 12 11 10 9 8 7 6 5 4 3 2 1 RateLimitError for _get_function_observation. -----> Will automatically retry 20 seconds later.\n",
      "20 19 18 17 16 15 14 13 12 11 10 9 8 7 6 5 4 3 2 1 RateLimitError for _get_function_observation. -----> Will automatically retry 20 seconds later.\n",
      "20 19 18 17 16 15 14 13 12 11 10 9 8 7 6 5 4 3 2 1 "
     ]
    },
    {
     "name": "stderr",
     "output_type": "stream",
     "text": [
      "[INFO] (step 2-observation) :: [Tool 1-> Park Geun-hye was born on February 2, 1952. As of my knowledge cutoff in 2023, she would be 71 years old., Tool 2-> Shohei Ohtani is 29 years old.]\n",
      "[INFO] (step 3-action) Tool invocations in parallel: [Tool 1-> PythonREPL(command=print(71 + 29))]\n",
      "Python REPL can execute arbitrary code. Use with caution.\n",
      "[INFO] (step 3-observation) :: [Tool 1-> 100]\n",
      "[INFO] (step 4-action) Tool invocations in parallel: Now I can answer directly without resorting to any tool.\n",
      "[INFO] Answer: Park Geun-hye, the former president of South Korea, is older than Shohei Ohtani, the MLB American League MVP of the last season. The sum of their ages is 100 years.\n",
      "[INFO] Jugdement: Your answer is incorrect. The correct answer is \"The former former president of Korea is older. The sum of their age is 99.\"\n",
      "[INFO] Trial 3\n",
      "[INFO] (step 1-action) Tool invocations in parallel: [Tool 1-> YDCSearch(query=former president of Korea), Tool 2-> YDCSearch(query=MLB American League MVP last season)]\n"
     ]
    },
    {
     "name": "stdout",
     "output_type": "stream",
     "text": [
      "RateLimitError for _get_function_observation. -----> Will automatically retry 20 seconds later.\n",
      "20 19 18 17 16 15 14 13 12 11 10 9 8 7 6 5 4 3 2 1 "
     ]
    },
    {
     "name": "stderr",
     "output_type": "stream",
     "text": [
      "[INFO] (step 1-observation) :: [Tool 1-> The former President of South Korea is Moon Jae-in, who served from May 10, 2017, to May 9, 2022. He was succeeded by Yoon Suk-yeol. Prior to Moon Jae-in, the presidency was held by Park Geun-hye, who was impeached and removed from office in 2017 due to a corruption scandal., Tool 2-> The American League MVP for the last season (2023) was Shohei Ohtani of the LA Angels.]\n",
      "[INFO] (step 2-action) Tool invocations in parallel: [Tool 1-> YDCSearch(query=Moon Jae-in birthdate), Tool 2-> YDCSearch(query=Shohei Ohtani birthdate)]\n"
     ]
    },
    {
     "name": "stdout",
     "output_type": "stream",
     "text": [
      "RateLimitError for _get_function_observation. -----> Will automatically retry 20 seconds later.\n",
      "20 19 18 17 16 15 14 13 12 11 10 9 8 7 6 5 4 3 2 1 "
     ]
    },
    {
     "name": "stderr",
     "output_type": "stream",
     "text": [
      "[INFO] (step 2-observation) :: [Tool 1-> Moon Jae-in was born on January 24, 1953., Tool 2-> Shohei Ohtani was born on July 5, 1994.]\n",
      "[INFO] (step 3-action) Tool invocations in parallel: [Tool 1-> PythonREPL(command=print(2023 - 1953 + 2023 - 1994))]\n",
      "[INFO] (step 3-observation) :: [Tool 1-> 99]\n",
      "[INFO] (step 4-action) Tool invocations in parallel: Now I can answer directly without resorting to any tool.\n",
      "[INFO] Answer: The sum of their ages is 99 years.\n",
      "[INFO] Jugdement: Your answer is correct.\n",
      "[INFO] Query: Who is older? The former president of Korea vs. the MLB American League MVP of the last season. What is the result if you sum up the ages of the two?\n",
      "[INFO] Trial 1\n",
      "[INFO] (step 1-action) Tool invocations in parallel: [Tool 1-> YDCSearch(query=former president of Korea age), Tool 2-> YDCSearch(query=MLB American League MVP last season age)]\n"
     ]
    },
    {
     "name": "stdout",
     "output_type": "stream",
     "text": [
      "RateLimitError for _get_function_observation. -----> Will automatically retry 20 seconds later.\n",
      "20 19 18 17 16 15 14 13 12 11 10 9 8 7 6 5 4 3 2 1 "
     ]
    },
    {
     "name": "stderr",
     "output_type": "stream",
     "text": [
      "[INFO] (step 1-observation) :: [Tool 1-> The term \"former president of Korea\" could refer to any of the past presidents of South Korea. As of my knowledge cutoff in 2023, here are the ages or age at death for the most recent former presidents of South Korea:\n",
      "\n",
      "1. Moon Jae-in (born January 24, 1953) - 70 years old as of 2023.\n",
      "2. Park Geun-hye (born February 2, 1952) - 71 years old as of 2023.\n",
      "3. Lee Myung-bak (born December 19, 1941) - 81 years old as of 2023.\n",
      "4. Roh Moo-hyun (born August 1, 1946 – died May 23, 2009) - would have been 76 years old as of 2023, but he passed away at the age of 62.\n",
      "5. Kim Dae-jung (born December 3, 1924 – died August 18, 2009) - would have been 98 years old as of 2023, but he passed away at the age of 84.\n",
      "6. Kim Young-sam (born December 20, 1927 – died November 22, 2015) - would have been 95 years old as of 2023, but he passed away at the age of 87.\n",
      "\n",
      "Please note that ages are calculated based on the year 2023. If you are asking about a specific former president, please provide their name for a more precise answer., Tool 2-> The American League MVP for the 2023 season was Shohei Ohtani. Since his birthdate is July 5, 1994, he was 29 years old when he won the award.]\n",
      "[INFO] (step 2-action) Tool invocations in parallel: Now I can answer directly without resorting to any tool.\n",
      "[INFO] Answer: Former South Korean President Moon Jae-in (70 years old) is older than MLB American League MVP Shohei Ohtani (29 years old). Together, their ages sum up to 99 years.\n",
      "[INFO] Jugdement: Your answer is correct.\n",
      "[INFO] Query: Who is older? The former president of Korea vs. the MLB American League MVP of the last season. What is the result if you sum up the ages of the two?\n",
      "[INFO] Trial 1\n",
      "[INFO] (step 1-action) Tool invocations in parallel: [Tool 1-> YDCSearch(query=former president of Korea age), Tool 2-> YDCSearch(query=MLB American League MVP last season age)]\n"
     ]
    },
    {
     "name": "stdout",
     "output_type": "stream",
     "text": [
      "RateLimitError for _get_function_observation. -----> Will automatically retry 20 seconds later.\n",
      "20 19 18 17 16 15 14 13 12 11 10 9 8 7 6 5 4 3 2 1 "
     ]
    },
    {
     "name": "stderr",
     "output_type": "stream",
     "text": [
      "[INFO] (step 1-observation) :: [Tool 1-> The age of a former president of South Korea would depend on which former president you are referring to and the current date. Here are the ages of the living former presidents as of my knowledge cutoff in 2023:\n",
      "\n",
      "1. Lee Myung-bak (이명박) - Born December 19, 1941, he would be 81 years old.\n",
      "2. Park Geun-hye (박근혜) - Born February 2, 1952, she would be 71 years old.\n",
      "\n",
      "Please note that ages would need to be adjusted based on the current date., Tool 2-> The American League MVP for the 2023 season was Shohei Ohtani. Since his birthdate is July 5, 1994, he was 29 years old when he won the MVP award last season.]\n",
      "[INFO] (step 2-action) Tool invocations in parallel: Now I can answer directly without resorting to any tool.\n",
      "[INFO] Answer: The former president of South Korea, Lee Myung-bak, is older than the MLB American League MVP of the last season, Shohei Ohtani. Lee Myung-bak is 81 years old while Shohei Ohtani is 29 years old.\n",
      "\n",
      "(81 + 29) = 110\n",
      "\n",
      "Sum of their ages: 110 years.\n",
      "[INFO] Jugdement: Your answer is incorrect. The correct answer is \"The former former president of Korea is older. The sum of their age is 99.\"\n",
      "[INFO] Trial 2\n",
      "[INFO] (step 1-action) Tool invocations in parallel: [Tool 1-> YDCSearch(query=former president of South Korea), Tool 2-> YDCSearch(query=MLB American League MVP last season)]\n",
      "[INFO] (step 1-observation) :: [Tool 1-> Park Geun-hye is a former president of South Korea who served as the 11th president from 2013 until her impeachment in 2017. She was the first woman to be elected as president of South Korea and the first female president popularly elected as head of state in East Asia. Her presidency ended when she was impeached and subsequently convicted on charges related to corruption. After spending nearly five years in prison, Park Geun-hye was released in December 2021 following a presidential pardon., Tool 2-> The American League MVP for the 2023 season was Shohei Ohtani of the LA Angels.]\n",
      "[INFO] (step 2-action) Tool invocations in parallel: [Tool 1-> YDCSearch(query=Park Geun-hye age), Tool 2-> YDCSearch(query=Shohei Ohtani age)]\n"
     ]
    },
    {
     "name": "stdout",
     "output_type": "stream",
     "text": [
      "RateLimitError for _get_function_observation. -----> Will automatically retry 20 seconds later.\n",
      "20 19 18 17 16 15 14 13 12 11 10 9 8 7 6 5 4 3 2 1 RateLimitError for _get_function_observation. -----> Will automatically retry 20 seconds later.\n",
      "20 19 18 17 16 15 14 13 12 11 10 9 8 7 6 5 4 3 2 1 "
     ]
    },
    {
     "name": "stderr",
     "output_type": "stream",
     "text": [
      "[INFO] (step 2-observation) :: [Tool 1-> Park Geun-hye was born on February 2, 1952. As of my knowledge cutoff in 2023, she would be 71 years old., Tool 2-> Shohei Ohtani is 29 years old.]\n",
      "[INFO] (step 3-action) Tool invocations in parallel: Now I can answer directly without resorting to any tool.\n",
      "[INFO] Answer: Park Geun-hye is older, and the sum of their ages is 100.\n",
      "[INFO] Jugdement: Your answer is incorrect. The correct answer is \"The former former president of Korea is older. The sum of their age is 99.\"\n",
      "[INFO] Trial 3\n",
      "[INFO] (step 1-action) Tool invocations in parallel: [Tool 1-> YDCSearch(query=former president of Korea age), Tool 2-> YDCSearch(query=MLB American League MVP last season age)]\n"
     ]
    },
    {
     "name": "stdout",
     "output_type": "stream",
     "text": [
      "RateLimitError for _get_function_observation. -----> Will automatically retry 20 seconds later.\n",
      "20 19 18 17 16 15 14 13 12 11 10 9 8 7 6 5 4 3 2 1 RateLimitError for _get_function_observation. -----> Will automatically retry 20 seconds later.\n",
      "20 19 18 17 16 15 14 13 12 11 10 9 8 7 6 5 4 3 2 1 "
     ]
    },
    {
     "name": "stderr",
     "output_type": "stream",
     "text": [
      "[INFO] (step 1-observation) :: [Tool 1-> As of my knowledge cutoff date in April 2023, the most recent former president of South Korea is Moon Jae-in, who was born on January 24, 1953. Therefore, as of April 2023, Moon Jae-in would be 70 years old. Please note that ages will change as time passes, so you may need to calculate the current age based on the birth date provided., Tool 2-> The American League MVP for the 2023 season was Shohei Ohtani. Since his birthdate is July 5, 1994, he was 29 years old when he won the award.]\n",
      "[INFO] (step 2-action) Tool invocations in parallel: [Tool 1-> PythonREPL(command=print(70 + 29))]\n",
      "[INFO] (step 2-observation) :: [Tool 1-> 99]\n",
      "[INFO] (step 3-action) Tool invocations in parallel: Now I can answer directly without resorting to any tool.\n",
      "[INFO] Answer: The former president of Korea, Moon Jae-in, is older than the MLB American League MVP of the last season, Shohei Ohtani. When you sum up the ages of the two, the result is 99.\n",
      "[INFO] Jugdement: Your answer is correct.\n",
      "[INFO] Query: Who is older? The former president of Korea vs. the MLB American League MVP of the last season. What is the result if you sum up the ages of the two?\n",
      "[INFO] Trial 1\n",
      "[INFO] (step 1-action) Tool invocations in parallel: [Tool 1-> YDCSearch(query=former president of Korea age), Tool 2-> YDCSearch(query=MLB American League MVP last season age)]\n",
      "[INFO] (step 1-observation) :: [Tool 1-> As of my knowledge cutoff date in April 2023, the most recent former president of South Korea is Moon Jae-in, who was born on January 24, 1953. Therefore, as of April 2023, Moon Jae-in would be 70 years old. Please note that ages of other former presidents would vary, and you would need to provide a specific name for an accurate age calculation., Tool 2-> The American League MVP for the 2023 season was Shohei Ohtani. Since his birthdate is July 5, 1994, he was 29 years old when he won the MVP award last season.]\n",
      "[INFO] (step 2-action) Tool invocations in parallel: Now I can answer directly without resorting to any tool.\n",
      "[INFO] Answer: Moon Jae-in (born January 24, 1953) is older than Shohei Ohtani (born July 5, 1994). The sum of their ages is 70 (Moon Jae-in) + 29 (Shohei Ohtani) = 99 years.\n",
      "[INFO] Jugdement: Your answer is correct.\n"
     ]
    }
   ],
   "source": [
    "import os\n",
    "from reasoning_engines.langchain_llm_wrappers import QuickAzureChatOpenAI, QuickAzureOpenAIClient\n",
    "from tools.get_tools import DefaultSchemasTools\n",
    "from langchain import hub\n",
    "from utils.load_envs import Environ\n",
    "from chains.qa_evaluators import CustomQAEvaluator\n",
    "\n",
    "import os\n",
    "from reasoning_engines.langchain_llm_wrappers import QuickAzureChatOpenAI, QuickAzureOpenAIClient, AsyncQuickAzureOpenAIClient\n",
    "from tools.get_tools import DefaultSchemasTools\n",
    "from langchain import hub\n",
    "from utils.load_envs import Environ\n",
    "from chains.qa_evaluators import CustomQAEvaluator\n",
    "import asyncio\n",
    "\n",
    "#### Parallel Function Calling Agent\n",
    "GPT_VER = '1106' \n",
    "from agents.parallel_func_calling_agent import OpenAIParallelFuntionCallingAgent\n",
    "parallel_calling_agent = OpenAIParallelFuntionCallingAgent(\n",
    "    reasoninig_engine = QuickAzureChatOpenAI(version=GPT_VER),\n",
    "    base_prompt = 'jet-taekyo-lee/parallel-function-calling-agent',\n",
    "    schemas_and_tools = DefaultSchemasTools(azure_gpt_version=GPT_VER),\n",
    "    evaluator = CustomQAEvaluator(llm=QuickAzureChatOpenAI('0613')),\n",
    "    action_word = 'Tool invocations in parallel',\n",
    "    observation_word = 'Tool-invocations results in parallel',\n",
    "    use_chat_completion_api = True,\n",
    "    azure_apenai_client = AsyncQuickAzureOpenAIClient(GPT_VER),\n",
    "    horizon = 5\n",
    ")\n",
    "\n",
    "query=\"Who is older? The former president of Korea vs. the MLB American League MVP of the last season. What is the result if you sum up the ages of the two?\"\n",
    "query_hello=\"Hello\"\n",
    "import pickle\n",
    "with open('queries.pkl', 'rb') as file:\n",
    "    queries = pickle.load(file)\n",
    "\n",
    "\n",
    "\n",
    "parallel_calling_agent.clear_logs()\n",
    "for _ in range(5):\n",
    "    await parallel_calling_agent.run_agent_trials_async(num_trials=3, \n",
    "    query=\"Who is older? The former president of Korea vs. the MLB American League MVP of the last season. What is the result if you sum up the ages of the two?\",\n",
    "    reference=\"The former former president of Korea is older. The sum of their age is 99.\")\n",
    "\n",
    "\n"
   ]
  },
  {
   "cell_type": "code",
   "execution_count": null,
   "metadata": {},
   "outputs": [],
   "source": []
  }
 ],
 "metadata": {
  "kernelspec": {
   "display_name": "Python 3.11.5 ('llm_agents')",
   "language": "python",
   "name": "python3"
  },
  "language_info": {
   "codemirror_mode": {
    "name": "ipython",
    "version": 3
   },
   "file_extension": ".py",
   "mimetype": "text/x-python",
   "name": "python",
   "nbconvert_exporter": "python",
   "pygments_lexer": "ipython3",
   "version": "3.11.5"
  },
  "orig_nbformat": 4,
  "vscode": {
   "interpreter": {
    "hash": "d3fb45ff54312d810d3b33eec9af47862c42661f076ce6b0d7045a13e18ceae3"
   }
  }
 },
 "nbformat": 4,
 "nbformat_minor": 2
}
