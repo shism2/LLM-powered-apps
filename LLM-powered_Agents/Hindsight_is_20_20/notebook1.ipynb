{
 "cells": [
  {
   "cell_type": "code",
   "execution_count": 2,
   "metadata": {},
   "outputs": [
    {
     "name": "stderr",
     "output_type": "stream",
     "text": [
      "[INFO] (step 1-action) Tool invocations in parallel: [Tool 1-> YDCSearch(query=former president of Korea age), Tool 2-> YDCSearch(query=MLB American League MVP last season age)]\n",
      "[INFO] (step 1-observation) :: [Tool 1-> The ages of former presidents of South Korea vary. Here are the ages of some recent former presidents as of my knowledge cutoff in 2023:\n",
      "\n",
      "- Moon Jae-in (born January 24, 1953) would be 70 years old.\n",
      "- Park Geun-hye (born February 2, 1952) would be 71 years old.\n",
      "- Lee Myung-bak (born December 19, 1941) would be 81 years old.\n",
      "- Roh Moo-hyun (born August 6, 1946 – May 23, 2009) passed away at the age of 62.\n",
      "- Kim Dae-jung (born December 3, 1924 – August 18, 2009) passed away at the age of 84.\n",
      "- Kim Young-sam (born December 20, 1927 – November 22, 2015) passed away at the age of 87.\n",
      "\n",
      "Please note that these ages are based on the birthdates provided and the year 2023. If you are asking about a specific former president not listed here, please provide their name for a more precise answer., Tool 2-> The American League MVP for the 2023 season was Shohei Ohtani. His age during the 2023 season was 28 years old, as he was born on July 5, 1994.]\n",
      "[INFO] (step 2-action) Tool invocations in parallel: Now I can answer directly without resorting to any tool.\n",
      "[INFO] Answer: The exact ages of the individuals involved would depend on the current date and the specific former president of Korea you are referring to. Based on available data as of 2023, the ages of some of the recent former presidents of Korea around 2023 are:\n",
      "\n",
      "- Moon Jae-in: 70 years old\n",
      "- Park Geun-hye: 71 years old\n",
      "- Lee Myung-bak: 81 years old\n",
      "\n",
      "The 2023 MLB American League MVP, Shohei Ohtani, was 28 years old during the 2023 season.\n",
      "\n",
      "Please specify which former president of Korea you are referring to for a more precise comparison and sum of ages.\n",
      "[INFO] Jugdement: Your answer is incorrect. The correct answer is \"The former former president of Korea is older. The sum of their age is 99.\"\n"
     ]
    }
   ],
   "source": [
    "import os\n",
    "from reasoning_engines.langchain_llm_wrappers import QuickAzureChatOpenAI, QuickAzureOpenAIClient\n",
    "from tools.get_tools import DefaultSchemasTools\n",
    "from langchain import hub\n",
    "from utils.load_envs import Environ\n",
    "from chains.qa_evaluators import CustomQAEvaluator\n",
    "\n",
    "import os\n",
    "from reasoning_engines.langchain_llm_wrappers import QuickAzureChatOpenAI, QuickAzureOpenAIClient, AsyncQuickAzureOpenAIClient\n",
    "from tools.get_tools import DefaultSchemasTools\n",
    "from langchain import hub\n",
    "from utils.load_envs import Environ\n",
    "from chains.qa_evaluators import CustomQAEvaluator\n",
    "import asyncio\n",
    "\n",
    "#### Parallel Function Calling Agent\n",
    "GPT_VER = '1106' \n",
    "from agents.parallel_func_calling_agent import OpenAIParallelFuntionCallingAgent\n",
    "parallel_calling_agent = OpenAIParallelFuntionCallingAgent(\n",
    "    reasoninig_engine = QuickAzureChatOpenAI(version=GPT_VER),\n",
    "    base_prompt = 'jet-taekyo-lee/parallel-function-calling-agent',\n",
    "    schemas_and_tools = DefaultSchemasTools(azure_gpt_version=GPT_VER),\n",
    "    evaluator = CustomQAEvaluator(llm=QuickAzureChatOpenAI('0613')),\n",
    "    action_word = 'Tool invocations in parallel',\n",
    "    observation_word = 'Tool-invocations results in parallel',\n",
    "    use_chat_completion_api = True,\n",
    "    azure_apenai_client = AsyncQuickAzureOpenAIClient(GPT_VER),\n",
    "    horizon = 5\n",
    ")\n",
    "\n",
    "query=\"Who is older? The former president of Korea vs. the MLB American League MVP of the last season. What is the result if you sum up the ages of the two?\"\n",
    "query_hello=\"Hello\"\n",
    "\n",
    "# responses = await parallel_calling_agent._invoke_agent_action_async(query) \n",
    "# responses\n",
    "\n",
    "# agent_action, Observation, done   = await parallel_calling_agent.agent_step_async(query)\n",
    "parallel_calling_agent.clear_logs()\n",
    "await parallel_calling_agent.run_agent_episode_async(query=query, reference=\"The former former president of Korea is older. The sum of their age is 99.\")\n",
    "\n",
    "\n",
    "\n",
    "\n",
    "\n",
    "\n",
    "# parallel_calling_agent.clear_logs()\n",
    "# parallel_calling_agent.run_agent_trials(num_trials=2, \n",
    "# query=\"Who is older? The former president of Korea vs. the MLB American League MVP of the last season. What is the result if you sum up the ages of the two?\",\n",
    "# reference=\"The former former president of Korea is older. The sum of their age is 99.\")\n",
    "\n",
    "\n"
   ]
  },
  {
   "cell_type": "code",
   "execution_count": null,
   "metadata": {},
   "outputs": [],
   "source": []
  }
 ],
 "metadata": {
  "kernelspec": {
   "display_name": "Python 3.11.5 ('llm_agents')",
   "language": "python",
   "name": "python3"
  },
  "language_info": {
   "codemirror_mode": {
    "name": "ipython",
    "version": 3
   },
   "file_extension": ".py",
   "mimetype": "text/x-python",
   "name": "python",
   "nbconvert_exporter": "python",
   "pygments_lexer": "ipython3",
   "version": "3.11.5"
  },
  "orig_nbformat": 4,
  "vscode": {
   "interpreter": {
    "hash": "d3fb45ff54312d810d3b33eec9af47862c42661f076ce6b0d7045a13e18ceae3"
   }
  }
 },
 "nbformat": 4,
 "nbformat_minor": 2
}
